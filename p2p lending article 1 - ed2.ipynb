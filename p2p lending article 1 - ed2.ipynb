{
 "cells": [
  {
   "cell_type": "code",
   "execution_count": null,
   "metadata": {},
   "outputs": [],
   "source": [
    "import pandas as pd\n",
    "import seaborn as sns\n",
    "import matplotlib.pyplot as plt\n",
    "import numpy as np"
   ]
  },
  {
   "cell_type": "code",
   "execution_count": null,
   "metadata": {},
   "outputs": [],
   "source": [
    "from collections import Counter\n",
    "\n",
    "from sklearn import metrics\n",
    "from sklearn.metrics import accuracy_score, f1_score, fbeta_score, precision_score, recall_score, classification_report, confusion_matrix,roc_auc_score\n",
    "from sklearn.model_selection import train_test_split\n"
   ]
  },
  {
   "cell_type": "code",
   "execution_count": null,
   "metadata": {},
   "outputs": [],
   "source": [
    "import warnings\n",
    "warnings.filterwarnings(\"ignore\")"
   ]
  },
  {
   "cell_type": "code",
   "execution_count": null,
   "metadata": {},
   "outputs": [],
   "source": [
    "df1 = pd.read_csv(r'C:\\Users\\DELL\\Desktop\\final_datasets\\dataset2\\accepted_2007_to_2018Q4.csv.gz', compression='gzip', low_memory=True)"
   ]
  },
  {
   "cell_type": "code",
   "execution_count": null,
   "metadata": {},
   "outputs": [],
   "source": [
    "df2= pd.read_csv(r'C:\\Users\\DELL\\Desktop\\final_datasets\\dataset2\\rejected_2007_to_2018Q4.csv.gz', low_memory=True)"
   ]
  },
  {
   "cell_type": "code",
   "execution_count": null,
   "metadata": {},
   "outputs": [],
   "source": [
    "loans_accepted=df1.copy()"
   ]
  },
  {
   "cell_type": "code",
   "execution_count": null,
   "metadata": {},
   "outputs": [
    {
     "data": {
      "text/plain": [
       "loan_status\n",
       "Fully Paid                                             1076751\n",
       "Current                                                 878317\n",
       "Charged Off                                             268559\n",
       "Late (31-120 days)                                       21467\n",
       "In Grace Period                                           8436\n",
       "Late (16-30 days)                                         4349\n",
       "Does not meet the credit policy. Status:Fully Paid        1988\n",
       "Does not meet the credit policy. Status:Charged Off        761\n",
       "Default                                                     40\n",
       "Name: count, dtype: int64"
      ]
     },
     "execution_count": 7,
     "metadata": {},
     "output_type": "execute_result"
    }
   ],
   "source": [
    "df1['loan_status'].value_counts()"
   ]
  },
  {
   "cell_type": "code",
   "execution_count": null,
   "metadata": {},
   "outputs": [
    {
     "data": {
      "text/plain": [
       "(2260701, 151)"
      ]
     },
     "execution_count": 8,
     "metadata": {},
     "output_type": "execute_result"
    }
   ],
   "source": [
    "loans_accepted.shape"
   ]
  },
  {
   "cell_type": "code",
   "execution_count": null,
   "metadata": {},
   "outputs": [
    {
     "data": {
      "text/plain": [
       "0    Dec-2015\n",
       "1    Dec-2015\n",
       "2    Dec-2015\n",
       "3    Dec-2015\n",
       "4    Dec-2015\n",
       "Name: issue_d, dtype: object"
      ]
     },
     "execution_count": 9,
     "metadata": {},
     "output_type": "execute_result"
    }
   ],
   "source": [
    "loans_accepted['issue_d'].head()"
   ]
  },
  {
   "cell_type": "code",
   "execution_count": null,
   "metadata": {},
   "outputs": [
    {
     "data": {
      "text/html": [
       "<div>\n",
       "<style scoped>\n",
       "    .dataframe tbody tr th:only-of-type {\n",
       "        vertical-align: middle;\n",
       "    }\n",
       "\n",
       "    .dataframe tbody tr th {\n",
       "        vertical-align: top;\n",
       "    }\n",
       "\n",
       "    .dataframe thead th {\n",
       "        text-align: right;\n",
       "    }\n",
       "</style>\n",
       "<table border=\"1\" class=\"dataframe\">\n",
       "  <thead>\n",
       "    <tr style=\"text-align: right;\">\n",
       "      <th></th>\n",
       "      <th>loan_amnt</th>\n",
       "      <th>emp_length</th>\n",
       "      <th>issue_d</th>\n",
       "      <th>purpose</th>\n",
       "      <th>addr_state</th>\n",
       "      <th>dti</th>\n",
       "      <th>fico_score</th>\n",
       "      <th>Class</th>\n",
       "    </tr>\n",
       "  </thead>\n",
       "  <tbody>\n",
       "    <tr>\n",
       "      <th>0</th>\n",
       "      <td>3600.0</td>\n",
       "      <td>10+ years</td>\n",
       "      <td>2015</td>\n",
       "      <td>debt_consolidation</td>\n",
       "      <td>PA</td>\n",
       "      <td>5.91</td>\n",
       "      <td>677.0</td>\n",
       "      <td>0</td>\n",
       "    </tr>\n",
       "    <tr>\n",
       "      <th>1</th>\n",
       "      <td>24700.0</td>\n",
       "      <td>10+ years</td>\n",
       "      <td>2015</td>\n",
       "      <td>small_business</td>\n",
       "      <td>SD</td>\n",
       "      <td>16.06</td>\n",
       "      <td>717.0</td>\n",
       "      <td>0</td>\n",
       "    </tr>\n",
       "    <tr>\n",
       "      <th>2</th>\n",
       "      <td>20000.0</td>\n",
       "      <td>10+ years</td>\n",
       "      <td>2015</td>\n",
       "      <td>home_improvement</td>\n",
       "      <td>IL</td>\n",
       "      <td>10.78</td>\n",
       "      <td>697.0</td>\n",
       "      <td>0</td>\n",
       "    </tr>\n",
       "    <tr>\n",
       "      <th>4</th>\n",
       "      <td>10400.0</td>\n",
       "      <td>3 years</td>\n",
       "      <td>2015</td>\n",
       "      <td>major_purchase</td>\n",
       "      <td>PA</td>\n",
       "      <td>25.37</td>\n",
       "      <td>697.0</td>\n",
       "      <td>0</td>\n",
       "    </tr>\n",
       "    <tr>\n",
       "      <th>5</th>\n",
       "      <td>11950.0</td>\n",
       "      <td>4 years</td>\n",
       "      <td>2015</td>\n",
       "      <td>debt_consolidation</td>\n",
       "      <td>GA</td>\n",
       "      <td>10.20</td>\n",
       "      <td>692.0</td>\n",
       "      <td>0</td>\n",
       "    </tr>\n",
       "  </tbody>\n",
       "</table>\n",
       "</div>"
      ],
      "text/plain": [
       "   loan_amnt emp_length  issue_d             purpose addr_state    dti  \\\n",
       "0     3600.0  10+ years     2015  debt_consolidation         PA   5.91   \n",
       "1    24700.0  10+ years     2015      small_business         SD  16.06   \n",
       "2    20000.0  10+ years     2015    home_improvement         IL  10.78   \n",
       "4    10400.0    3 years     2015      major_purchase         PA  25.37   \n",
       "5    11950.0    4 years     2015  debt_consolidation         GA  10.20   \n",
       "\n",
       "   fico_score  Class  \n",
       "0       677.0      0  \n",
       "1       717.0      0  \n",
       "2       697.0      0  \n",
       "4       697.0      0  \n",
       "5       692.0      0  "
      ]
     },
     "execution_count": 10,
     "metadata": {},
     "output_type": "execute_result"
    }
   ],
   "source": [
    "loans_accepted = loans_accepted.loc[loans_accepted['loan_status'].isin(['Fully Paid', 'Charged Off'])]\n",
    "loans_accepted['fico_score'] = 0.5*loans_accepted['fico_range_low'] + 0.5*loans_accepted['fico_range_high']\n",
    "loans_accepted.drop(['fico_range_high', 'fico_range_low'], axis=1, inplace=True)\n",
    "keep_list = [ 'loan_amnt','issue_d','purpose','fico_score','dti','emp_length','addr_state','emp_length','loan_status']\n",
    "drop_list = [col for col in loans_accepted.columns if col not in keep_list]\n",
    "loans_accepted.drop(labels=drop_list, axis=1, inplace=True)\n",
    "loans_accepted['Class'] = (loans_accepted['loan_status'] == 'Charged Off').apply(np.uint8)\n",
    "loans_accepted.drop('loan_status', axis=1, inplace=True)\n",
    "loans_accepted['emp_length']=loans_accepted['emp_length'].replace({'< 1 year': 'les1year'})\n",
    "loans_accepted['issue_d'] = loans_accepted['issue_d'].str.extract(r'-(\\d{4})').astype(int)\n",
    "loans_accepted=loans_accepted.dropna()\n",
    "loans_accepted.head()"
   ]
  },
  {
   "cell_type": "code",
   "execution_count": null,
   "metadata": {},
   "outputs": [],
   "source": [
    "loans_rejected=df2.copy()"
   ]
  },
  {
   "cell_type": "code",
   "execution_count": null,
   "metadata": {},
   "outputs": [
    {
     "data": {
      "text/plain": [
       "(27648741, 9)"
      ]
     },
     "execution_count": 12,
     "metadata": {},
     "output_type": "execute_result"
    }
   ],
   "source": [
    "loans_rejected.shape"
   ]
  },
  {
   "cell_type": "code",
   "execution_count": null,
   "metadata": {},
   "outputs": [
    {
     "data": {
      "text/html": [
       "<div>\n",
       "<style scoped>\n",
       "    .dataframe tbody tr th:only-of-type {\n",
       "        vertical-align: middle;\n",
       "    }\n",
       "\n",
       "    .dataframe tbody tr th {\n",
       "        vertical-align: top;\n",
       "    }\n",
       "\n",
       "    .dataframe thead th {\n",
       "        text-align: right;\n",
       "    }\n",
       "</style>\n",
       "<table border=\"1\" class=\"dataframe\">\n",
       "  <thead>\n",
       "    <tr style=\"text-align: right;\">\n",
       "      <th></th>\n",
       "      <th>Amount Requested</th>\n",
       "      <th>Application Date</th>\n",
       "      <th>Loan Title</th>\n",
       "      <th>Risk_Score</th>\n",
       "      <th>Debt-To-Income Ratio</th>\n",
       "      <th>Zip Code</th>\n",
       "      <th>State</th>\n",
       "      <th>Employment Length</th>\n",
       "      <th>Policy Code</th>\n",
       "    </tr>\n",
       "  </thead>\n",
       "  <tbody>\n",
       "    <tr>\n",
       "      <th>0</th>\n",
       "      <td>1000.0</td>\n",
       "      <td>2007-05-26</td>\n",
       "      <td>Wedding Covered but No Honeymoon</td>\n",
       "      <td>693.0</td>\n",
       "      <td>10%</td>\n",
       "      <td>481xx</td>\n",
       "      <td>NM</td>\n",
       "      <td>4 years</td>\n",
       "      <td>0.0</td>\n",
       "    </tr>\n",
       "    <tr>\n",
       "      <th>1</th>\n",
       "      <td>1000.0</td>\n",
       "      <td>2007-05-26</td>\n",
       "      <td>Consolidating Debt</td>\n",
       "      <td>703.0</td>\n",
       "      <td>10%</td>\n",
       "      <td>010xx</td>\n",
       "      <td>MA</td>\n",
       "      <td>&lt; 1 year</td>\n",
       "      <td>0.0</td>\n",
       "    </tr>\n",
       "    <tr>\n",
       "      <th>2</th>\n",
       "      <td>11000.0</td>\n",
       "      <td>2007-05-27</td>\n",
       "      <td>Want to consolidate my debt</td>\n",
       "      <td>715.0</td>\n",
       "      <td>10%</td>\n",
       "      <td>212xx</td>\n",
       "      <td>MD</td>\n",
       "      <td>1 year</td>\n",
       "      <td>0.0</td>\n",
       "    </tr>\n",
       "    <tr>\n",
       "      <th>3</th>\n",
       "      <td>6000.0</td>\n",
       "      <td>2007-05-27</td>\n",
       "      <td>waksman</td>\n",
       "      <td>698.0</td>\n",
       "      <td>38.64%</td>\n",
       "      <td>017xx</td>\n",
       "      <td>MA</td>\n",
       "      <td>&lt; 1 year</td>\n",
       "      <td>0.0</td>\n",
       "    </tr>\n",
       "    <tr>\n",
       "      <th>4</th>\n",
       "      <td>1500.0</td>\n",
       "      <td>2007-05-27</td>\n",
       "      <td>mdrigo</td>\n",
       "      <td>509.0</td>\n",
       "      <td>9.43%</td>\n",
       "      <td>209xx</td>\n",
       "      <td>MD</td>\n",
       "      <td>&lt; 1 year</td>\n",
       "      <td>0.0</td>\n",
       "    </tr>\n",
       "  </tbody>\n",
       "</table>\n",
       "</div>"
      ],
      "text/plain": [
       "   Amount Requested Application Date                        Loan Title  \\\n",
       "0            1000.0       2007-05-26  Wedding Covered but No Honeymoon   \n",
       "1            1000.0       2007-05-26                Consolidating Debt   \n",
       "2           11000.0       2007-05-27       Want to consolidate my debt   \n",
       "3            6000.0       2007-05-27                           waksman   \n",
       "4            1500.0       2007-05-27                            mdrigo   \n",
       "\n",
       "   Risk_Score Debt-To-Income Ratio Zip Code State Employment Length  \\\n",
       "0       693.0                  10%    481xx    NM           4 years   \n",
       "1       703.0                  10%    010xx    MA          < 1 year   \n",
       "2       715.0                  10%    212xx    MD            1 year   \n",
       "3       698.0               38.64%    017xx    MA          < 1 year   \n",
       "4       509.0                9.43%    209xx    MD          < 1 year   \n",
       "\n",
       "   Policy Code  \n",
       "0          0.0  \n",
       "1          0.0  \n",
       "2          0.0  \n",
       "3          0.0  \n",
       "4          0.0  "
      ]
     },
     "execution_count": 13,
     "metadata": {},
     "output_type": "execute_result"
    }
   ],
   "source": [
    "loans_rejected.head()"
   ]
  },
  {
   "cell_type": "code",
   "execution_count": null,
   "metadata": {},
   "outputs": [
    {
     "data": {
      "text/html": [
       "<div>\n",
       "<style scoped>\n",
       "    .dataframe tbody tr th:only-of-type {\n",
       "        vertical-align: middle;\n",
       "    }\n",
       "\n",
       "    .dataframe tbody tr th {\n",
       "        vertical-align: top;\n",
       "    }\n",
       "\n",
       "    .dataframe thead th {\n",
       "        text-align: right;\n",
       "    }\n",
       "</style>\n",
       "<table border=\"1\" class=\"dataframe\">\n",
       "  <thead>\n",
       "    <tr style=\"text-align: right;\">\n",
       "      <th></th>\n",
       "      <th>loan_amnt</th>\n",
       "      <th>emp_length</th>\n",
       "      <th>issue_d</th>\n",
       "      <th>purpose</th>\n",
       "      <th>addr_state</th>\n",
       "      <th>dti</th>\n",
       "      <th>fico_score</th>\n",
       "      <th>Class</th>\n",
       "    </tr>\n",
       "  </thead>\n",
       "  <tbody>\n",
       "    <tr>\n",
       "      <th>3015</th>\n",
       "      <td>5000.0</td>\n",
       "      <td>4 years</td>\n",
       "      <td>2007</td>\n",
       "      <td>other</td>\n",
       "      <td>NJ</td>\n",
       "      <td>17.81</td>\n",
       "      <td>628.0</td>\n",
       "      <td>-1</td>\n",
       "    </tr>\n",
       "    <tr>\n",
       "      <th>3016</th>\n",
       "      <td>6000.0</td>\n",
       "      <td>8 years</td>\n",
       "      <td>2007</td>\n",
       "      <td>other</td>\n",
       "      <td>NJ</td>\n",
       "      <td>35.13</td>\n",
       "      <td>674.0</td>\n",
       "      <td>-1</td>\n",
       "    </tr>\n",
       "    <tr>\n",
       "      <th>3017</th>\n",
       "      <td>20000.0</td>\n",
       "      <td>8 years</td>\n",
       "      <td>2007</td>\n",
       "      <td>debt_consolidation</td>\n",
       "      <td>FL</td>\n",
       "      <td>36.92</td>\n",
       "      <td>710.0</td>\n",
       "      <td>-1</td>\n",
       "    </tr>\n",
       "    <tr>\n",
       "      <th>3018</th>\n",
       "      <td>10000.0</td>\n",
       "      <td>10+ years</td>\n",
       "      <td>2007</td>\n",
       "      <td>debt_consolidation</td>\n",
       "      <td>NY</td>\n",
       "      <td>63.88</td>\n",
       "      <td>631.0</td>\n",
       "      <td>-1</td>\n",
       "    </tr>\n",
       "    <tr>\n",
       "      <th>3020</th>\n",
       "      <td>2000.0</td>\n",
       "      <td>6 years</td>\n",
       "      <td>2007</td>\n",
       "      <td>debt_consolidation</td>\n",
       "      <td>MA</td>\n",
       "      <td>30.53</td>\n",
       "      <td>696.0</td>\n",
       "      <td>-1</td>\n",
       "    </tr>\n",
       "  </tbody>\n",
       "</table>\n",
       "</div>"
      ],
      "text/plain": [
       "      loan_amnt emp_length  issue_d             purpose addr_state    dti  \\\n",
       "3015     5000.0    4 years     2007               other         NJ  17.81   \n",
       "3016     6000.0    8 years     2007               other         NJ  35.13   \n",
       "3017    20000.0    8 years     2007  debt_consolidation         FL  36.92   \n",
       "3018    10000.0  10+ years     2007  debt_consolidation         NY  63.88   \n",
       "3020     2000.0    6 years     2007  debt_consolidation         MA  30.53   \n",
       "\n",
       "      fico_score  Class  \n",
       "3015       628.0     -1  \n",
       "3016       674.0     -1  \n",
       "3017       710.0     -1  \n",
       "3018       631.0     -1  \n",
       "3020       696.0     -1  "
      ]
     },
     "execution_count": 14,
     "metadata": {},
     "output_type": "execute_result"
    }
   ],
   "source": [
    "loans_rejected.drop(labels=['Zip Code','Policy Code'], axis=1, inplace=True)\n",
    "loans_rejected.columns = ['loan_amnt', 'issue_d','purpose','fico_score','dti','addr_state','emp_length']\n",
    "loans_rejected=loans_rejected.dropna()\n",
    "loans_rejected['dti'] = list(map(lambda x: x[:-1], loans_rejected['dti'].values))\n",
    "loans_rejected['dti'] = [float(x) for x in loans_rejected['dti'].values]\n",
    "loans_rejected['Class']=-1\n",
    "loans_rejected = loans_rejected[['loan_amnt','emp_length', 'issue_d','purpose','addr_state','dti','fico_score','Class']]\n",
    "options=['debt_consolidation','credit_card','home_improvement','house','medical','other','car','major_purchase'\n",
    ",'moving','small_business','vacation','renewable_energy','wedding','educational']\n",
    "loans_rejected = loans_rejected[loans_rejected['purpose'].isin(options)]\n",
    "loans_rejected['issue_d'] = pd.to_datetime(loans_rejected['issue_d']).dt.year\n",
    "loans_rejected = loans_rejected.drop(loans_rejected[loans_rejected.dti > 999].index)\n",
    "loans_rejected = loans_rejected.drop(loans_rejected[loans_rejected.loan_amnt > 40000].index)\n",
    "loans_rejected = loans_rejected.drop(loans_rejected[loans_rejected.fico_score < 627].index) \n",
    "loans_rejected['emp_length']=loans_rejected['emp_length'].replace({'< 1 year': 'les1year'})\n",
    "loans_rejected.head()"
   ]
  },
  {
   "cell_type": "code",
   "execution_count": null,
   "metadata": {},
   "outputs": [
    {
     "data": {
      "text/plain": [
       "(1266782, 8)"
      ]
     },
     "execution_count": 15,
     "metadata": {},
     "output_type": "execute_result"
    }
   ],
   "source": [
    "loans_accepted.shape"
   ]
  },
  {
   "cell_type": "code",
   "execution_count": null,
   "metadata": {},
   "outputs": [
    {
     "data": {
      "text/plain": [
       "(2064314, 8)"
      ]
     },
     "execution_count": 16,
     "metadata": {},
     "output_type": "execute_result"
    }
   ],
   "source": [
    "loans_rejected.shape"
   ]
  },
  {
   "cell_type": "code",
   "execution_count": null,
   "metadata": {},
   "outputs": [
    {
     "data": {
      "text/plain": [
       "Index(['loan_amnt', 'emp_length', 'issue_d', 'purpose', 'addr_state', 'dti',\n",
       "       'fico_score', 'Class'],\n",
       "      dtype='object')"
      ]
     },
     "execution_count": 17,
     "metadata": {},
     "output_type": "execute_result"
    }
   ],
   "source": [
    "loans_accepted.columns"
   ]
  },
  {
   "cell_type": "code",
   "execution_count": null,
   "metadata": {},
   "outputs": [
    {
     "data": {
      "text/plain": [
       "(1266782, 8)"
      ]
     },
     "execution_count": 18,
     "metadata": {},
     "output_type": "execute_result"
    }
   ],
   "source": [
    "loans_accepted.shape"
   ]
  },
  {
   "cell_type": "code",
   "execution_count": null,
   "metadata": {},
   "outputs": [
    {
     "data": {
      "text/plain": [
       "(2064314, 8)"
      ]
     },
     "execution_count": 19,
     "metadata": {},
     "output_type": "execute_result"
    }
   ],
   "source": [
    "loans_rejected.shape"
   ]
  },
  {
   "cell_type": "code",
   "execution_count": null,
   "metadata": {},
   "outputs": [
    {
     "data": {
      "text/plain": [
       "Class\n",
       "0    0.804681\n",
       "1    0.195319\n",
       "Name: proportion, dtype: float64"
      ]
     },
     "execution_count": 20,
     "metadata": {},
     "output_type": "execute_result"
    }
   ],
   "source": [
    "loans_accepted['Class'].value_counts(normalize=True)"
   ]
  },
  {
   "cell_type": "code",
   "execution_count": null,
   "metadata": {},
   "outputs": [
    {
     "data": {
      "text/html": [
       "<div>\n",
       "<style scoped>\n",
       "    .dataframe tbody tr th:only-of-type {\n",
       "        vertical-align: middle;\n",
       "    }\n",
       "\n",
       "    .dataframe tbody tr th {\n",
       "        vertical-align: top;\n",
       "    }\n",
       "\n",
       "    .dataframe thead th {\n",
       "        text-align: right;\n",
       "    }\n",
       "</style>\n",
       "<table border=\"1\" class=\"dataframe\">\n",
       "  <thead>\n",
       "    <tr style=\"text-align: right;\">\n",
       "      <th></th>\n",
       "      <th>loan_amnt</th>\n",
       "      <th>issue_d</th>\n",
       "      <th>dti</th>\n",
       "      <th>fico_score</th>\n",
       "      <th>Class</th>\n",
       "    </tr>\n",
       "  </thead>\n",
       "  <tbody>\n",
       "    <tr>\n",
       "      <th>count</th>\n",
       "      <td>1.266782e+06</td>\n",
       "      <td>1.266782e+06</td>\n",
       "      <td>1.266782e+06</td>\n",
       "      <td>1.266782e+06</td>\n",
       "      <td>1.266782e+06</td>\n",
       "    </tr>\n",
       "    <tr>\n",
       "      <th>mean</th>\n",
       "      <td>1.460112e+04</td>\n",
       "      <td>2.014951e+03</td>\n",
       "      <td>1.812865e+01</td>\n",
       "      <td>6.981256e+02</td>\n",
       "      <td>1.953185e-01</td>\n",
       "    </tr>\n",
       "    <tr>\n",
       "      <th>std</th>\n",
       "      <td>8.746531e+03</td>\n",
       "      <td>1.645564e+00</td>\n",
       "      <td>9.569931e+00</td>\n",
       "      <td>3.166289e+01</td>\n",
       "      <td>3.964459e-01</td>\n",
       "    </tr>\n",
       "    <tr>\n",
       "      <th>min</th>\n",
       "      <td>5.000000e+02</td>\n",
       "      <td>2.007000e+03</td>\n",
       "      <td>-1.000000e+00</td>\n",
       "      <td>6.270000e+02</td>\n",
       "      <td>0.000000e+00</td>\n",
       "    </tr>\n",
       "    <tr>\n",
       "      <th>25%</th>\n",
       "      <td>8.000000e+03</td>\n",
       "      <td>2.014000e+03</td>\n",
       "      <td>1.176000e+01</td>\n",
       "      <td>6.720000e+02</td>\n",
       "      <td>0.000000e+00</td>\n",
       "    </tr>\n",
       "    <tr>\n",
       "      <th>50%</th>\n",
       "      <td>1.207500e+04</td>\n",
       "      <td>2.015000e+03</td>\n",
       "      <td>1.752000e+01</td>\n",
       "      <td>6.920000e+02</td>\n",
       "      <td>0.000000e+00</td>\n",
       "    </tr>\n",
       "    <tr>\n",
       "      <th>75%</th>\n",
       "      <td>2.000000e+04</td>\n",
       "      <td>2.016000e+03</td>\n",
       "      <td>2.391000e+01</td>\n",
       "      <td>7.120000e+02</td>\n",
       "      <td>0.000000e+00</td>\n",
       "    </tr>\n",
       "    <tr>\n",
       "      <th>max</th>\n",
       "      <td>4.000000e+04</td>\n",
       "      <td>2.018000e+03</td>\n",
       "      <td>9.990000e+02</td>\n",
       "      <td>8.475000e+02</td>\n",
       "      <td>1.000000e+00</td>\n",
       "    </tr>\n",
       "  </tbody>\n",
       "</table>\n",
       "</div>"
      ],
      "text/plain": [
       "          loan_amnt       issue_d           dti    fico_score         Class\n",
       "count  1.266782e+06  1.266782e+06  1.266782e+06  1.266782e+06  1.266782e+06\n",
       "mean   1.460112e+04  2.014951e+03  1.812865e+01  6.981256e+02  1.953185e-01\n",
       "std    8.746531e+03  1.645564e+00  9.569931e+00  3.166289e+01  3.964459e-01\n",
       "min    5.000000e+02  2.007000e+03 -1.000000e+00  6.270000e+02  0.000000e+00\n",
       "25%    8.000000e+03  2.014000e+03  1.176000e+01  6.720000e+02  0.000000e+00\n",
       "50%    1.207500e+04  2.015000e+03  1.752000e+01  6.920000e+02  0.000000e+00\n",
       "75%    2.000000e+04  2.016000e+03  2.391000e+01  7.120000e+02  0.000000e+00\n",
       "max    4.000000e+04  2.018000e+03  9.990000e+02  8.475000e+02  1.000000e+00"
      ]
     },
     "execution_count": 21,
     "metadata": {},
     "output_type": "execute_result"
    }
   ],
   "source": [
    "loans_accepted.describe()"
   ]
  },
  {
   "cell_type": "code",
   "execution_count": null,
   "metadata": {},
   "outputs": [
    {
     "data": {
      "text/html": [
       "<div>\n",
       "<style scoped>\n",
       "    .dataframe tbody tr th:only-of-type {\n",
       "        vertical-align: middle;\n",
       "    }\n",
       "\n",
       "    .dataframe tbody tr th {\n",
       "        vertical-align: top;\n",
       "    }\n",
       "\n",
       "    .dataframe thead th {\n",
       "        text-align: right;\n",
       "    }\n",
       "</style>\n",
       "<table border=\"1\" class=\"dataframe\">\n",
       "  <thead>\n",
       "    <tr style=\"text-align: right;\">\n",
       "      <th></th>\n",
       "      <th>loan_amnt</th>\n",
       "      <th>issue_d</th>\n",
       "      <th>dti</th>\n",
       "      <th>fico_score</th>\n",
       "      <th>Class</th>\n",
       "    </tr>\n",
       "  </thead>\n",
       "  <tbody>\n",
       "    <tr>\n",
       "      <th>count</th>\n",
       "      <td>2.064314e+06</td>\n",
       "      <td>2.064314e+06</td>\n",
       "      <td>2.064314e+06</td>\n",
       "      <td>2.064314e+06</td>\n",
       "      <td>2064314.0</td>\n",
       "    </tr>\n",
       "    <tr>\n",
       "      <th>mean</th>\n",
       "      <td>1.531566e+04</td>\n",
       "      <td>2.013734e+03</td>\n",
       "      <td>3.232090e+01</td>\n",
       "      <td>6.759921e+02</td>\n",
       "      <td>-1.0</td>\n",
       "    </tr>\n",
       "    <tr>\n",
       "      <th>std</th>\n",
       "      <td>1.078662e+04</td>\n",
       "      <td>1.435995e+00</td>\n",
       "      <td>4.951032e+01</td>\n",
       "      <td>3.781900e+01</td>\n",
       "      <td>0.0</td>\n",
       "    </tr>\n",
       "    <tr>\n",
       "      <th>min</th>\n",
       "      <td>1.000000e+03</td>\n",
       "      <td>2.007000e+03</td>\n",
       "      <td>-1.000000e+00</td>\n",
       "      <td>6.270000e+02</td>\n",
       "      <td>-1.0</td>\n",
       "    </tr>\n",
       "    <tr>\n",
       "      <th>25%</th>\n",
       "      <td>6.000000e+03</td>\n",
       "      <td>2.013000e+03</td>\n",
       "      <td>1.179000e+01</td>\n",
       "      <td>6.480000e+02</td>\n",
       "      <td>-1.0</td>\n",
       "    </tr>\n",
       "    <tr>\n",
       "      <th>50%</th>\n",
       "      <td>1.200000e+04</td>\n",
       "      <td>2.014000e+03</td>\n",
       "      <td>2.432000e+01</td>\n",
       "      <td>6.680000e+02</td>\n",
       "      <td>-1.0</td>\n",
       "    </tr>\n",
       "    <tr>\n",
       "      <th>75%</th>\n",
       "      <td>2.400000e+04</td>\n",
       "      <td>2.014000e+03</td>\n",
       "      <td>3.944000e+01</td>\n",
       "      <td>6.960000e+02</td>\n",
       "      <td>-1.0</td>\n",
       "    </tr>\n",
       "    <tr>\n",
       "      <th>max</th>\n",
       "      <td>4.000000e+04</td>\n",
       "      <td>2.017000e+03</td>\n",
       "      <td>9.984600e+02</td>\n",
       "      <td>9.900000e+02</td>\n",
       "      <td>-1.0</td>\n",
       "    </tr>\n",
       "  </tbody>\n",
       "</table>\n",
       "</div>"
      ],
      "text/plain": [
       "          loan_amnt       issue_d           dti    fico_score      Class\n",
       "count  2.064314e+06  2.064314e+06  2.064314e+06  2.064314e+06  2064314.0\n",
       "mean   1.531566e+04  2.013734e+03  3.232090e+01  6.759921e+02       -1.0\n",
       "std    1.078662e+04  1.435995e+00  4.951032e+01  3.781900e+01        0.0\n",
       "min    1.000000e+03  2.007000e+03 -1.000000e+00  6.270000e+02       -1.0\n",
       "25%    6.000000e+03  2.013000e+03  1.179000e+01  6.480000e+02       -1.0\n",
       "50%    1.200000e+04  2.014000e+03  2.432000e+01  6.680000e+02       -1.0\n",
       "75%    2.400000e+04  2.014000e+03  3.944000e+01  6.960000e+02       -1.0\n",
       "max    4.000000e+04  2.017000e+03  9.984600e+02  9.900000e+02       -1.0"
      ]
     },
     "execution_count": 22,
     "metadata": {},
     "output_type": "execute_result"
    }
   ],
   "source": [
    "loans_rejected.describe()"
   ]
  },
  {
   "cell_type": "code",
   "execution_count": null,
   "metadata": {},
   "outputs": [
    {
     "data": {
      "text/plain": [
       "Index(['loan_amnt', 'emp_length', 'issue_d', 'purpose', 'addr_state', 'dti',\n",
       "       'fico_score', 'Class'],\n",
       "      dtype='object')"
      ]
     },
     "execution_count": 23,
     "metadata": {},
     "output_type": "execute_result"
    }
   ],
   "source": [
    "loans_accepted.columns"
   ]
  },
  {
   "cell_type": "code",
   "execution_count": null,
   "metadata": {},
   "outputs": [
    {
     "data": {
      "text/plain": [
       "Index(['loan_amnt', 'emp_length', 'issue_d', 'purpose', 'addr_state', 'dti',\n",
       "       'fico_score', 'Class'],\n",
       "      dtype='object')"
      ]
     },
     "execution_count": 24,
     "metadata": {},
     "output_type": "execute_result"
    }
   ],
   "source": [
    "loans_rejected.columns"
   ]
  },
  {
   "cell_type": "code",
   "execution_count": null,
   "metadata": {},
   "outputs": [
    {
     "name": "stdout",
     "output_type": "stream",
     "text": [
      "   loan_amnt  issue_d addr_state    dti  fico_score  Class  \\\n",
      "0     3600.0     2015         PA   5.91       677.0      0   \n",
      "1    24700.0     2015         SD  16.06       717.0      0   \n",
      "2    20000.0     2015         IL  10.78       697.0      0   \n",
      "4    10400.0     2015         PA  25.37       697.0      0   \n",
      "5    11950.0     2015         GA  10.20       692.0      0   \n",
      "\n",
      "   emp_length_encoded  purpose_encoded  \n",
      "0                   1                2  \n",
      "1                   1               11  \n",
      "2                   1                4  \n",
      "4                   3                6  \n",
      "5                   4                2  \n",
      "      loan_amnt  issue_d addr_state    dti  fico_score  Class  \\\n",
      "3015     5000.0     2007         NJ  17.81       628.0     -1   \n",
      "3016     6000.0     2007         NJ  35.13       674.0     -1   \n",
      "3017    20000.0     2007         FL  36.92       710.0     -1   \n",
      "3018    10000.0     2007         NY  63.88       631.0     -1   \n",
      "3020     2000.0     2007         MA  30.53       696.0     -1   \n",
      "\n",
      "      emp_length_encoded  purpose_encoded  \n",
      "3015                   4                9  \n",
      "3016                   8                9  \n",
      "3017                   8                2  \n",
      "3018                   1                2  \n",
      "3020                   6                2  \n"
     ]
    }
   ],
   "source": [
    "from sklearn.preprocessing import LabelEncoder\n",
    "\n",
    "# Initialize LabelEncoders\n",
    "le_emp_length = LabelEncoder()\n",
    "le_purpose = LabelEncoder()\n",
    "le_addr=LabelEncoder()\n",
    "# Fit on loans_accepted\n",
    "le_emp_length.fit(loans_accepted['emp_length'])\n",
    "le_purpose.fit(loans_accepted['purpose'])\n",
    "#le_addr.fit(loans_accepted['addr_state'])\n",
    "# Transform both datasets\n",
    "loans_accepted['emp_length_encoded'] = le_emp_length.transform(loans_accepted['emp_length'])\n",
    "loans_accepted['purpose_encoded'] = le_purpose.transform(loans_accepted['purpose'])\n",
    "#loans_accepted['addr_state_encoded']=le_addr.transform(loans_accepted['addr_state'])\n",
    "loans_rejected['emp_length_encoded'] = le_emp_length.transform(loans_rejected['emp_length'])\n",
    "loans_rejected['purpose_encoded'] = le_purpose.transform(loans_rejected['purpose'])\n",
    "#loans_rejected['addr_state_encoded']=le_addr.transform(loans_rejected['addr_state'])\n",
    "# Drop original categorical columns (optional)\n",
    "loans_accepted.drop(columns=['emp_length', 'purpose'], inplace=True)\n",
    "loans_rejected.drop(columns=['emp_length', 'purpose'], inplace=True)\n",
    "\n",
    "# Display result\n",
    "print(loans_accepted.head())\n",
    "print(loans_rejected.head())\n"
   ]
  },
  {
   "cell_type": "code",
   "execution_count": null,
   "metadata": {},
   "outputs": [
    {
     "data": {
      "text/plain": [
       "Class\n",
       "0    0.804681\n",
       "1    0.195319\n",
       "Name: proportion, dtype: float64"
      ]
     },
     "execution_count": 26,
     "metadata": {},
     "output_type": "execute_result"
    }
   ],
   "source": [
    "loans_accepted['Class'].value_counts(normalize=True)"
   ]
  },
  {
   "cell_type": "code",
   "execution_count": null,
   "metadata": {},
   "outputs": [
    {
     "data": {
      "text/html": [
       "<div>\n",
       "<style scoped>\n",
       "    .dataframe tbody tr th:only-of-type {\n",
       "        vertical-align: middle;\n",
       "    }\n",
       "\n",
       "    .dataframe tbody tr th {\n",
       "        vertical-align: top;\n",
       "    }\n",
       "\n",
       "    .dataframe thead th {\n",
       "        text-align: right;\n",
       "    }\n",
       "</style>\n",
       "<table border=\"1\" class=\"dataframe\">\n",
       "  <thead>\n",
       "    <tr style=\"text-align: right;\">\n",
       "      <th></th>\n",
       "      <th>loan_amnt</th>\n",
       "      <th>issue_d</th>\n",
       "      <th>addr_state</th>\n",
       "      <th>dti</th>\n",
       "      <th>fico_score</th>\n",
       "      <th>Class</th>\n",
       "      <th>emp_length_encoded</th>\n",
       "      <th>purpose_encoded</th>\n",
       "    </tr>\n",
       "  </thead>\n",
       "  <tbody>\n",
       "    <tr>\n",
       "      <th>0</th>\n",
       "      <td>3600.0</td>\n",
       "      <td>2015</td>\n",
       "      <td>PA</td>\n",
       "      <td>5.91</td>\n",
       "      <td>677.0</td>\n",
       "      <td>0</td>\n",
       "      <td>1</td>\n",
       "      <td>2</td>\n",
       "    </tr>\n",
       "    <tr>\n",
       "      <th>1</th>\n",
       "      <td>24700.0</td>\n",
       "      <td>2015</td>\n",
       "      <td>SD</td>\n",
       "      <td>16.06</td>\n",
       "      <td>717.0</td>\n",
       "      <td>0</td>\n",
       "      <td>1</td>\n",
       "      <td>11</td>\n",
       "    </tr>\n",
       "    <tr>\n",
       "      <th>2</th>\n",
       "      <td>20000.0</td>\n",
       "      <td>2015</td>\n",
       "      <td>IL</td>\n",
       "      <td>10.78</td>\n",
       "      <td>697.0</td>\n",
       "      <td>0</td>\n",
       "      <td>1</td>\n",
       "      <td>4</td>\n",
       "    </tr>\n",
       "    <tr>\n",
       "      <th>4</th>\n",
       "      <td>10400.0</td>\n",
       "      <td>2015</td>\n",
       "      <td>PA</td>\n",
       "      <td>25.37</td>\n",
       "      <td>697.0</td>\n",
       "      <td>0</td>\n",
       "      <td>3</td>\n",
       "      <td>6</td>\n",
       "    </tr>\n",
       "    <tr>\n",
       "      <th>5</th>\n",
       "      <td>11950.0</td>\n",
       "      <td>2015</td>\n",
       "      <td>GA</td>\n",
       "      <td>10.20</td>\n",
       "      <td>692.0</td>\n",
       "      <td>0</td>\n",
       "      <td>4</td>\n",
       "      <td>2</td>\n",
       "    </tr>\n",
       "  </tbody>\n",
       "</table>\n",
       "</div>"
      ],
      "text/plain": [
       "   loan_amnt  issue_d addr_state    dti  fico_score  Class  \\\n",
       "0     3600.0     2015         PA   5.91       677.0      0   \n",
       "1    24700.0     2015         SD  16.06       717.0      0   \n",
       "2    20000.0     2015         IL  10.78       697.0      0   \n",
       "4    10400.0     2015         PA  25.37       697.0      0   \n",
       "5    11950.0     2015         GA  10.20       692.0      0   \n",
       "\n",
       "   emp_length_encoded  purpose_encoded  \n",
       "0                   1                2  \n",
       "1                   1               11  \n",
       "2                   1                4  \n",
       "4                   3                6  \n",
       "5                   4                2  "
      ]
     },
     "execution_count": 27,
     "metadata": {},
     "output_type": "execute_result"
    }
   ],
   "source": [
    "loans_accepted.head()"
   ]
  },
  {
   "cell_type": "code",
   "execution_count": null,
   "metadata": {},
   "outputs": [],
   "source": [
    "loans_rejected=loans_rejected.drop(['Class'],axis=1)\n"
   ]
  },
  {
   "cell_type": "code",
   "execution_count": null,
   "metadata": {},
   "outputs": [
    {
     "name": "stdout",
     "output_type": "stream",
     "text": [
      "<class 'pandas.core.frame.DataFrame'>\n",
      "Index: 1266782 entries, 0 to 2260697\n",
      "Data columns (total 8 columns):\n",
      " #   Column              Non-Null Count    Dtype  \n",
      "---  ------              --------------    -----  \n",
      " 0   loan_amnt           1266782 non-null  float64\n",
      " 1   issue_d             1266782 non-null  int32  \n",
      " 2   addr_state          1266782 non-null  object \n",
      " 3   dti                 1266782 non-null  float64\n",
      " 4   fico_score          1266782 non-null  float64\n",
      " 5   Class               1266782 non-null  uint8  \n",
      " 6   emp_length_encoded  1266782 non-null  int32  \n",
      " 7   purpose_encoded     1266782 non-null  int32  \n",
      "dtypes: float64(3), int32(3), object(1), uint8(1)\n",
      "memory usage: 64.0+ MB\n",
      "None\n",
      "<class 'pandas.core.frame.DataFrame'>\n",
      "Index: 2064314 entries, 3015 to 27648426\n",
      "Data columns (total 7 columns):\n",
      " #   Column              Dtype  \n",
      "---  ------              -----  \n",
      " 0   loan_amnt           float64\n",
      " 1   issue_d             int32  \n",
      " 2   addr_state          object \n",
      " 3   dti                 float64\n",
      " 4   fico_score          float64\n",
      " 5   emp_length_encoded  int32  \n",
      " 6   purpose_encoded     int32  \n",
      "dtypes: float64(3), int32(3), object(1)\n",
      "memory usage: 102.4+ MB\n",
      "None\n"
     ]
    }
   ],
   "source": [
    "import pandas as pd\n",
    "\n",
    "# Convert to DataFrame explicitly (though they should already be DataFrames)\n",
    "loans_accepted = pd.DataFrame(loans_accepted)\n",
    "loans_rejected = pd.DataFrame(loans_rejected)\n",
    "\n",
    "# Display info to confirm\n",
    "print(loans_accepted.info())\n",
    "print(loans_rejected.info())\n"
   ]
  },
  {
   "cell_type": "code",
   "execution_count": null,
   "metadata": {},
   "outputs": [
    {
     "data": {
      "image/png": "[encoded data removed]",
      "text/plain": [
       "<Figure size 1200x400 with 1 Axes>"
      ]
     },
     "metadata": {},
     "output_type": "display_data"
    }
   ],
   "source": [
    "plt.figure(figsize=(12, 4))\n",
    "\n",
    "sns.countplot(data=loans_accepted, x='addr_state', hue='Class')\n",
    "\n",
    "plt.xlabel('État')\n",
    "plt.ylabel('Nombre de prêts')\n",
    "plt.title('Nombre de prêts par État et par statut de paiement')\n",
    "plt.xticks(rotation=90)\n",
    "\n",
    "plt.show()\n"
   ]
  },
  {
   "cell_type": "code",
   "execution_count": null,
   "metadata": {},
   "outputs": [
    {
     "data": {
      "image/png": "[encoded data removed]",
      "text/plain": [
       "<Figure size 1500x600 with 1 Axes>"
      ]
     },
     "metadata": {},
     "output_type": "display_data"
    }
   ],
   "source": [
    "import matplotlib.pyplot as plt\n",
    "import seaborn as sns\n",
    "\n",
    "# Trier les États par nombre total de prêts en ordre décroissant\n",
    "state_order = loans_accepted['addr_state'].value_counts().sort_values(ascending=False).index\n",
    "\n",
    "plt.figure(figsize=(15, 6))  # Ajuster la taille pour une meilleure lisibilité\n",
    "\n",
    "# Tracer le graphique avec les États triés\n",
    "sns.countplot(data=loans_accepted, x='addr_state', hue='Class', order=state_order, palette=\"Set2\")\n",
    "\n",
    "# Ajouter des labels et un titre\n",
    "plt.xlabel('État')\n",
    "plt.ylabel('Nombre de prêts')\n",
    "plt.title('Nombre de prêts par État et par statut de paiement (trié décroissant)')\n",
    "\n",
    "# Rotation des labels pour éviter le chevauchement\n",
    "plt.xticks(rotation=90, ha='right')\n",
    "\n",
    "# Afficher le graphique\n",
    "plt.show()\n"
   ]
  },
  {
   "cell_type": "code",
   "execution_count": null,
   "metadata": {},
   "outputs": [
    {
     "name": "stdout",
     "output_type": "stream",
     "text": [
      "🔹 Groupe 1 (États avec le plus de Class 0) :\n",
      " ['CA', 'TX', 'NY', 'FL', 'IL', 'NJ', 'PA', 'GA', 'OH', 'VA', 'NC', 'MI', 'AZ', 'MA', 'CO', 'MD', 'WA']\n",
      "\n",
      "🔸 Groupe 2 (États intermédiaires) :\n",
      " ['MN', 'IN', 'MO', 'CT', 'TN', 'NV', 'WI', 'OR', 'SC', 'AL', 'LA', 'KY', 'KS', 'OK', 'UT', 'AR', 'NM']\n",
      "\n",
      "⚫ Groupe 3 (États avec le moins de Class 0) :\n",
      " ['NH', 'HI', 'RI', 'MS', 'WV', 'MT', 'DC', 'DE', 'NE', 'AK', 'WY', 'VT', 'SD', 'ME', 'ID', 'ND', 'IA']\n"
     ]
    }
   ],
   "source": [
    "# Filtrer uniquement les prêts où Class == 0\n",
    "class_0_counts = loans_accepted[loans_accepted['Class'] == 0]['addr_state'].value_counts()\n",
    "\n",
    "# Trier les États par nombre de prêts Class == 0 en ordre décroissant\n",
    "class_0_counts_sorted = class_0_counts.sort_values(ascending=False)\n",
    "\n",
    "# Diviser les États en 3 groupes de taille égale\n",
    "n = len(class_0_counts_sorted)\n",
    "group_1 = class_0_counts_sorted[:n//3].index.tolist()  # Top 1/3\n",
    "group_2 = class_0_counts_sorted[n//3:2*n//3].index.tolist()  # Milieu 1/3\n",
    "group_3 = class_0_counts_sorted[2*n//3:].index.tolist()  # Dernier 1/3\n",
    "\n",
    "# Afficher les groupes\n",
    "print(\"🔹 Groupe 1 (États avec le plus de Class 0) :\\n\", group_1)\n",
    "print(\"\\n🔸 Groupe 2 (États intermédiaires) :\\n\", group_2)\n",
    "print(\"\\n⚫ Groupe 3 (États avec le moins de Class 0) :\\n\", group_3)\n"
   ]
  },
  {
   "cell_type": "code",
   "execution_count": null,
   "metadata": {},
   "outputs": [
    {
     "name": "stdout",
     "output_type": "stream",
     "text": [
      "  addr_state  d1  d2  d3\n",
      "0         PA   1   0   0\n",
      "1         SD   0   0   1\n",
      "2         IL   1   0   0\n",
      "4         PA   1   0   0\n",
      "5         GA   1   0   0\n",
      "     addr_state  d1  d2  d3\n",
      "3015         NJ   1   0   0\n",
      "3016         NJ   1   0   0\n",
      "3017         FL   1   0   0\n",
      "3018         NY   1   0   0\n",
      "3020         MA   1   0   0\n"
     ]
    }
   ],
   "source": [
    "import pandas as pd\n",
    "\n",
    "# Filtrer uniquement les prêts où Class == 0\n",
    "class_0_counts = loans_accepted[loans_accepted['Class'] == 0]['addr_state'].value_counts()\n",
    "\n",
    "# Trier les États par nombre de prêts Class == 0 en ordre décroissant\n",
    "class_0_counts_sorted = class_0_counts.sort_values(ascending=False)\n",
    "\n",
    "# Diviser les États en 3 groupes de taille égale\n",
    "n = len(class_0_counts_sorted)\n",
    "group_1 = class_0_counts_sorted[:n//3].index.tolist()  # Top 1/3\n",
    "group_2 = class_0_counts_sorted[n//3:2*n//3].index.tolist()  # Milieu 1/3\n",
    "group_3 = class_0_counts_sorted[2*n//3:].index.tolist()  # Dernier 1/3\n",
    "\n",
    "# Fonction pour attribuer les variables binaires\n",
    "def assign_groups(df):\n",
    "    df['d1'] = df['addr_state'].apply(lambda x: 1 if x in group_1 else 0)\n",
    "    df['d2'] = df['addr_state'].apply(lambda x: 1 if x in group_2 else 0)\n",
    "    df['d3'] = df['addr_state'].apply(lambda x: 1 if x in group_3 else 0)\n",
    "    return df\n",
    "\n",
    "# Appliquer aux deux datasets\n",
    "loans_accepted = assign_groups(loans_accepted)\n",
    "loans_rejected = assign_groups(loans_rejected)\n",
    "\n",
    "# Vérification\n",
    "print(loans_accepted[['addr_state', 'd1', 'd2', 'd3']].head())\n",
    "print(loans_rejected[['addr_state', 'd1', 'd2', 'd3']].head())\n"
   ]
  },
  {
   "cell_type": "code",
   "execution_count": null,
   "metadata": {},
   "outputs": [],
   "source": [
    "loans_accepted=loans_accepted.drop('addr_state',axis=1)\n",
    "loans_rejected=loans_rejected.drop('addr_state',axis=1)"
   ]
  },
  {
   "cell_type": "code",
   "execution_count": null,
   "metadata": {},
   "outputs": [
    {
     "data": {
      "text/plain": [
       "Class\n",
       "0    1019356\n",
       "1     247426\n",
       "Name: count, dtype: int64"
      ]
     },
     "execution_count": 35,
     "metadata": {},
     "output_type": "execute_result"
    }
   ],
   "source": [
    "loans_accepted['Class'].value_counts()"
   ]
  },
  {
   "cell_type": "code",
   "execution_count": null,
   "metadata": {},
   "outputs": [
    {
     "data": {
      "text/plain": [
       "Class\n",
       "0    0.804681\n",
       "1    0.195319\n",
       "Name: proportion, dtype: float64"
      ]
     },
     "execution_count": 36,
     "metadata": {},
     "output_type": "execute_result"
    }
   ],
   "source": [
    "loans_accepted['Class'].value_counts(normalize=True)"
   ]
  },
  {
   "cell_type": "code",
   "execution_count": null,
   "metadata": {},
   "outputs": [
    {
     "name": "stdout",
     "output_type": "stream",
     "text": [
      "Années disponibles : [2015 2018 2017 2016 2014 2011 2010 2009 2008 2007 2013 2012]\n",
      "         loan_amnt  issue_d    dti  fico_score  Class  emp_length_encoded  \\\n",
      "1649847     1200.0     2008   7.26       737.0      0                  10   \n",
      "1649848     8600.0     2008   2.88       712.0      1                   1   \n",
      "1649849    15000.0     2008  20.69       697.0      0                   6   \n",
      "1649851     8000.0     2008  21.87       697.0      0                   8   \n",
      "1649852     3000.0     2008  18.01       722.0      0                  10   \n",
      "\n",
      "         purpose_encoded  d1  d2  d3  \n",
      "1649847                9   0   1   0  \n",
      "1649848                9   1   0   0  \n",
      "1649849               11   1   0   0  \n",
      "1649851                2   1   0   0  \n",
      "1649852                9   1   0   0  \n"
     ]
    }
   ],
   "source": [
    "# Afficher toutes les années disponibles\n",
    "years = loans_accepted['issue_d'].unique()\n",
    "print(\"Années disponibles :\", years)\n",
    "\n",
    "# Créer des variables dynamiques pour chaque année\n",
    "for year in years:\n",
    "    globals()[f\"accepted_{year}\"] = loans_accepted[loans_accepted['issue_d'] == year]\n",
    "\n",
    "# Exemple : Afficher les premières lignes de 2008\n",
    "print(accepted_2008.head())\n"
   ]
  },
  {
   "cell_type": "code",
   "execution_count": null,
   "metadata": {},
   "outputs": [
    {
     "name": "stdout",
     "output_type": "stream",
     "text": [
      "Années disponibles dans loans_rejected : [2007 2008 2009 2010 2011 2012 2016 2017 2013 2014 2015]\n",
      "      loan_amnt  issue_d    dti  fico_score  emp_length_encoded  \\\n",
      "5285     9000.0     2008  33.45       746.0                   1   \n",
      "5286    15000.0     2008  43.08       670.0                   1   \n",
      "5304    15000.0     2008  26.15       724.0                   4   \n",
      "5305    15300.0     2008  30.49       724.0                   4   \n",
      "5306    15000.0     2008  22.32       651.0                  10   \n",
      "\n",
      "      purpose_encoded  d1  d2  d3  \n",
      "5285                2   0   0   1  \n",
      "5286                4   1   0   0  \n",
      "5304                2   1   0   0  \n",
      "5305                2   0   1   0  \n",
      "5306                2   1   0   0  \n"
     ]
    }
   ],
   "source": [
    "# Afficher toutes les années disponibles dans loans_rejected\n",
    "years_rejected = loans_rejected['issue_d'].unique()\n",
    "print(\"Années disponibles dans loans_rejected :\", years_rejected)\n",
    "\n",
    "# Créer des variables dynamiques pour chaque année dans loans_rejected\n",
    "for year in years_rejected:\n",
    "    globals()[f\"rejected_{year}\"] = loans_rejected[loans_rejected['issue_d'] == year]\n",
    "\n",
    "# Exemple : Afficher les premières lignes de 2008 pour loans_rejected\n",
    "print(rejected_2008.head())\n"
   ]
  },
  {
   "cell_type": "code",
   "execution_count": null,
   "metadata": {},
   "outputs": [
    {
     "name": "stdout",
     "output_type": "stream",
     "text": [
      "Statistical summary for accepted_2007:\n",
      "\n",
      "          loan_amnt  issue_d         dti  fico_score       Class  \\\n",
      "count    251.000000    251.0  251.000000  251.000000  251.000000   \n",
      "mean    8841.733068   2007.0   10.311076  717.219124    0.179283   \n",
      "std     6447.772009      0.0    6.645117   42.228566    0.384355   \n",
      "min      500.000000   2007.0    0.000000  627.000000    0.000000   \n",
      "25%     4137.500000   2007.0    4.600000  682.000000    0.000000   \n",
      "50%     6500.000000   2007.0    9.890000  707.000000    0.000000   \n",
      "75%    12000.000000   2007.0   15.645000  752.000000    0.000000   \n",
      "max    25000.000000   2007.0   24.850000  822.000000    1.000000   \n",
      "\n",
      "       emp_length_encoded  purpose_encoded          d1          d2          d3  \n",
      "count          251.000000       251.000000  251.000000  251.000000  251.000000  \n",
      "mean             4.836653         4.876494    0.764940    0.187251    0.047809  \n",
      "std              3.978091         3.932008    0.424883    0.390892    0.213788  \n",
      "min              0.000000         0.000000    0.000000    0.000000    0.000000  \n",
      "25%              1.000000         2.000000    1.000000    0.000000    0.000000  \n",
      "50%              4.000000         3.000000    1.000000    0.000000    0.000000  \n",
      "75%             10.000000         9.000000    1.000000    0.000000    0.000000  \n",
      "max             10.000000        13.000000    1.000000    1.000000    1.000000  \n",
      "\n",
      "==================================================\n",
      "\n",
      "Statistical summary for accepted_2008:\n",
      "\n",
      "          loan_amnt  issue_d          dti   fico_score        Class  \\\n",
      "count   1562.000000   1562.0  1562.000000  1562.000000  1562.000000   \n",
      "mean    9212.724072   2008.0    12.013387   711.635083     0.158131   \n",
      "std     5774.293733      0.0     6.662754    35.939767     0.364980   \n",
      "min      500.000000   2008.0     0.000000   662.000000     0.000000   \n",
      "25%     5000.000000   2008.0     6.742500   682.000000     0.000000   \n",
      "50%     7500.000000   2008.0    11.965000   707.000000     0.000000   \n",
      "75%    12000.000000   2008.0    17.195000   732.000000     0.000000   \n",
      "max    25000.000000   2008.0    29.420000   827.000000     1.000000   \n",
      "\n",
      "       emp_length_encoded  purpose_encoded           d1           d2  \\\n",
      "count         1562.000000      1562.000000  1562.000000  1562.000000   \n",
      "mean             4.341869         4.106274     0.802177     0.150448   \n",
      "std              3.650265         3.592322     0.398486     0.357625   \n",
      "min              0.000000         0.000000     0.000000     0.000000   \n",
      "25%              1.000000         2.000000     1.000000     0.000000   \n",
      "50%              3.000000         2.000000     1.000000     0.000000   \n",
      "75%              8.000000         7.000000     1.000000     0.000000   \n",
      "max             10.000000        13.000000     1.000000     1.000000   \n",
      "\n",
      "                d3  \n",
      "count  1562.000000  \n",
      "mean      0.047375  \n",
      "std       0.212508  \n",
      "min       0.000000  \n",
      "25%       0.000000  \n",
      "50%       0.000000  \n",
      "75%       0.000000  \n",
      "max       1.000000  \n",
      "\n",
      "==================================================\n",
      "\n",
      "Statistical summary for accepted_2009:\n",
      "\n",
      "          loan_amnt  issue_d          dti   fico_score        Class  \\\n",
      "count   4716.000000   4716.0  4716.000000  4716.000000  4716.000000   \n",
      "mean    9846.548982   2009.0    12.373170   719.088634     0.125954   \n",
      "std     5934.104313      0.0     6.585175    36.864163     0.331833   \n",
      "min     1000.000000   2009.0     0.000000   662.000000     0.000000   \n",
      "25%     5000.000000   2009.0     7.287500   687.000000     0.000000   \n",
      "50%     9000.000000   2009.0    12.480000   717.000000     0.000000   \n",
      "75%    14000.000000   2009.0    17.512500   747.000000     0.000000   \n",
      "max    25000.000000   2009.0    24.990000   822.000000     1.000000   \n",
      "\n",
      "       emp_length_encoded  purpose_encoded           d1           d2  \\\n",
      "count         4716.000000      4716.000000  4716.000000  4716.000000   \n",
      "mean             4.214801         4.232824     0.807464     0.153732   \n",
      "std              3.524837         3.602060     0.394333     0.360730   \n",
      "min              0.000000         0.000000     0.000000     0.000000   \n",
      "25%              1.000000         2.000000     1.000000     0.000000   \n",
      "50%              3.000000         2.000000     1.000000     0.000000   \n",
      "75%              7.000000         7.000000     1.000000     0.000000   \n",
      "max             10.000000        13.000000     1.000000     1.000000   \n",
      "\n",
      "                d3  \n",
      "count  4716.000000  \n",
      "mean      0.038804  \n",
      "std       0.193148  \n",
      "min       0.000000  \n",
      "25%       0.000000  \n",
      "50%       0.000000  \n",
      "75%       0.000000  \n",
      "max       1.000000  \n",
      "\n",
      "==================================================\n",
      "\n",
      "Statistical summary for accepted_2010:\n",
      "\n",
      "          loan_amnt  issue_d           dti    fico_score         Class  \\\n",
      "count  11217.000000  11217.0  11217.000000  11217.000000  11217.000000   \n",
      "mean   10673.883391   2010.0     12.979359    716.613979      0.125880   \n",
      "std     6612.378332      0.0      6.527648     35.711048      0.331729   \n",
      "min     1000.000000   2010.0      0.000000    662.000000      0.000000   \n",
      "25%     5000.000000   2010.0      8.000000    687.000000      0.000000   \n",
      "50%     9600.000000   2010.0     13.100000    712.000000      0.000000   \n",
      "75%    15000.000000   2010.0     18.220000    742.000000      0.000000   \n",
      "max    25000.000000   2010.0     24.990000    822.000000      1.000000   \n",
      "\n",
      "       emp_length_encoded  purpose_encoded            d1            d2  \\\n",
      "count        11217.000000     11217.000000  11217.000000  11217.000000   \n",
      "mean             3.998039         3.935544      0.810377      0.154498   \n",
      "std              3.153270         3.379081      0.392020      0.361441   \n",
      "min              0.000000         0.000000      0.000000      0.000000   \n",
      "25%              1.000000         2.000000      1.000000      0.000000   \n",
      "50%              3.000000         2.000000      1.000000      0.000000   \n",
      "75%              6.000000         6.000000      1.000000      0.000000   \n",
      "max             10.000000        13.000000      1.000000      1.000000   \n",
      "\n",
      "                 d3  \n",
      "count  11217.000000  \n",
      "mean       0.035125  \n",
      "std        0.184105  \n",
      "min        0.000000  \n",
      "25%        0.000000  \n",
      "50%        0.000000  \n",
      "75%        0.000000  \n",
      "max        1.000000  \n",
      "\n",
      "==================================================\n",
      "\n",
      "Statistical summary for accepted_2011:\n",
      "\n",
      "         loan_amnt  issue_d           dti    fico_score         Class  \\\n",
      "count  20962.00000  20962.0  20962.000000  20962.000000  20962.000000   \n",
      "mean   12153.42286   2011.0     13.863648    716.564927      0.149890   \n",
      "std     8181.90768      0.0      6.699872     35.234046      0.356972   \n",
      "min     1000.00000   2011.0      0.000000    662.000000      0.000000   \n",
      "25%     6000.00000   2011.0      8.730000    687.000000      0.000000   \n",
      "50%    10000.00000   2011.0     13.930000    712.000000      0.000000   \n",
      "75%    16000.00000   2011.0     19.100000    742.000000      0.000000   \n",
      "max    35000.00000   2011.0     29.990000    827.000000      1.000000   \n",
      "\n",
      "       emp_length_encoded  purpose_encoded            d1           d2  \\\n",
      "count        20962.000000     20962.000000  20962.000000  20962.00000   \n",
      "mean             3.930446         3.699599      0.796393      0.16778   \n",
      "std              3.141318         3.354131      0.402689      0.37368   \n",
      "min              0.000000         0.000000      0.000000      0.00000   \n",
      "25%              1.000000         2.000000      1.000000      0.00000   \n",
      "50%              3.000000         2.000000      1.000000      0.00000   \n",
      "75%              6.000000         5.000000      1.000000      0.00000   \n",
      "max             10.000000        13.000000      1.000000      1.00000   \n",
      "\n",
      "                 d3  \n",
      "count  20962.000000  \n",
      "mean       0.035827  \n",
      "std        0.185862  \n",
      "min        0.000000  \n",
      "25%        0.000000  \n",
      "50%        0.000000  \n",
      "75%        0.000000  \n",
      "max        1.000000  \n",
      "\n",
      "==================================================\n",
      "\n",
      "Statistical summary for accepted_2012:\n",
      "\n",
      "          loan_amnt  issue_d           dti    fico_score         Class  \\\n",
      "count  51442.000000  51442.0  51442.000000  51442.000000  51442.000000   \n",
      "mean   13568.559737   2012.0     16.632789    703.274309      0.160647   \n",
      "std     8090.596261      0.0      7.564472     32.202868      0.367209   \n",
      "min     1000.000000   2012.0      0.000000    662.000000      0.000000   \n",
      "25%     7200.000000   2012.0     11.000000    677.000000      0.000000   \n",
      "50%    12000.000000   2012.0     16.450000    697.000000      0.000000   \n",
      "75%    18450.000000   2012.0     22.010000    722.000000      0.000000   \n",
      "max    35000.000000   2012.0     34.990000    847.500000      1.000000   \n",
      "\n",
      "       emp_length_encoded  purpose_encoded            d1            d2  \\\n",
      "count        51442.000000     51442.000000  51442.000000  51442.000000   \n",
      "mean             3.809086         2.965126      0.791027      0.171028   \n",
      "std              3.113691         2.806650      0.406579      0.376537   \n",
      "min              0.000000         0.000000      0.000000      0.000000   \n",
      "25%              1.000000         2.000000      1.000000      0.000000   \n",
      "50%              3.000000         2.000000      1.000000      0.000000   \n",
      "75%              6.000000         2.000000      1.000000      0.000000   \n",
      "max             10.000000        13.000000      1.000000      1.000000   \n",
      "\n",
      "                 d3  \n",
      "count  51442.000000  \n",
      "mean       0.037946  \n",
      "std        0.191067  \n",
      "min        0.000000  \n",
      "25%        0.000000  \n",
      "50%        0.000000  \n",
      "75%        0.000000  \n",
      "max        1.000000  \n",
      "\n",
      "==================================================\n",
      "\n",
      "Statistical summary for accepted_2013:\n",
      "\n",
      "           loan_amnt   issue_d            dti     fico_score          Class  \\\n",
      "count  128842.000000  128842.0  128842.000000  128842.000000  128842.000000   \n",
      "mean    14840.071366    2013.0      17.163877     697.044597       0.153995   \n",
      "std      8105.628772       0.0       7.578820      28.716202       0.360945   \n",
      "min      1000.000000    2013.0       0.000000     662.000000       0.000000   \n",
      "25%      8800.000000    2013.0      11.430000     677.000000       0.000000   \n",
      "50%     13500.000000    2013.0      16.830000     692.000000       0.000000   \n",
      "75%     20000.000000    2013.0      22.710000     712.000000       0.000000   \n",
      "max     35000.000000    2013.0      34.990000     847.500000       1.000000   \n",
      "\n",
      "       emp_length_encoded  purpose_encoded             d1             d2  \\\n",
      "count       128842.000000    128842.000000  128842.000000  128842.000000   \n",
      "mean             3.664349         2.478485       0.757501       0.204980   \n",
      "std              3.123906         2.193164       0.428596       0.403688   \n",
      "min              0.000000         0.000000       0.000000       0.000000   \n",
      "25%              1.000000         2.000000       1.000000       0.000000   \n",
      "50%              2.000000         2.000000       1.000000       0.000000   \n",
      "75%              6.000000         2.000000       1.000000       0.000000   \n",
      "max             10.000000        13.000000       1.000000       1.000000   \n",
      "\n",
      "                  d3  \n",
      "count  128842.000000  \n",
      "mean        0.037519  \n",
      "std         0.190030  \n",
      "min         0.000000  \n",
      "25%         0.000000  \n",
      "50%         0.000000  \n",
      "75%         0.000000  \n",
      "max         1.000000  \n",
      "\n",
      "==================================================\n",
      "\n",
      "Statistical summary for accepted_2014:\n",
      "\n",
      "           loan_amnt   issue_d            dti     fico_score          Class  \\\n",
      "count  211548.000000  211548.0  211548.000000  211548.000000  211548.000000   \n",
      "mean    14748.876614    2014.0      17.876663     694.619720       0.181614   \n",
      "std      8418.295964       0.0       7.978691      29.359737       0.385527   \n",
      "min      1000.000000    2014.0       0.000000     662.000000       0.000000   \n",
      "25%      8000.000000    2014.0      11.900000     672.000000       0.000000   \n",
      "50%     13000.000000    2014.0      17.440000     687.000000       0.000000   \n",
      "75%     20000.000000    2014.0      23.550000     707.000000       0.000000   \n",
      "max     35000.000000    2014.0      39.990000     847.500000       1.000000   \n",
      "\n",
      "       emp_length_encoded  purpose_encoded             d1             d2  \\\n",
      "count       211548.000000    211548.000000  211548.000000  211548.000000   \n",
      "mean             3.666170         2.473495       0.750875       0.206568   \n",
      "std              3.191613         2.129846       0.432508       0.404844   \n",
      "min              0.000000         0.000000       0.000000       0.000000   \n",
      "25%              1.000000         2.000000       1.000000       0.000000   \n",
      "50%              2.000000         2.000000       1.000000       0.000000   \n",
      "75%              6.000000         2.000000       1.000000       0.000000   \n",
      "max             10.000000        13.000000       1.000000       1.000000   \n",
      "\n",
      "                  d3  \n",
      "count  211548.000000  \n",
      "mean        0.042558  \n",
      "std         0.201858  \n",
      "min         0.000000  \n",
      "25%         0.000000  \n",
      "50%         0.000000  \n",
      "75%         0.000000  \n",
      "max         1.000000  \n",
      "\n",
      "==================================================\n",
      "\n",
      "Statistical summary for accepted_2015:\n",
      "\n",
      "           loan_amnt   issue_d            dti     fico_score          Class  \\\n",
      "count  353487.000000  353487.0  353487.000000  353487.000000  353487.000000   \n",
      "mean    14840.085067    2015.0      18.851273     695.487403       0.198782   \n",
      "std      8548.224303       0.0       8.628751      30.171545       0.399084   \n",
      "min      1000.000000    2015.0       0.000000     662.000000       0.000000   \n",
      "25%      8000.000000    2015.0      12.350000     672.000000       0.000000   \n",
      "50%     13000.000000    2015.0      18.280000     687.000000       0.000000   \n",
      "75%     20000.000000    2015.0      24.960000     712.000000       0.000000   \n",
      "max     35000.000000    2015.0     380.530000     847.500000       1.000000   \n",
      "\n",
      "       emp_length_encoded  purpose_encoded             d1             d2  \\\n",
      "count       353487.000000    353487.000000  353487.000000  353487.000000   \n",
      "mean             3.630388         2.496219       0.749646       0.203889   \n",
      "std              3.214928         2.153452       0.433218       0.402888   \n",
      "min              0.000000         0.000000       0.000000       0.000000   \n",
      "25%              1.000000         2.000000       0.000000       0.000000   \n",
      "50%              2.000000         2.000000       1.000000       0.000000   \n",
      "75%              6.000000         2.000000       1.000000       0.000000   \n",
      "max             10.000000        13.000000       1.000000       1.000000   \n",
      "\n",
      "                  d3  \n",
      "count  353487.000000  \n",
      "mean        0.046466  \n",
      "std         0.210492  \n",
      "min         0.000000  \n",
      "25%         0.000000  \n",
      "50%         0.000000  \n",
      "75%         0.000000  \n",
      "max         1.000000  \n",
      "\n",
      "==================================================\n",
      "\n",
      "Statistical summary for accepted_2016:\n",
      "\n",
      "           loan_amnt   issue_d            dti     fico_score          Class  \\\n",
      "count  274215.000000  274215.0  274215.000000  274215.000000  274215.000000   \n",
      "mean    14673.930401    2016.0      18.637106     697.221489       0.227106   \n",
      "std      8944.111744       0.0       9.186267      31.543037       0.418963   \n",
      "min      1000.000000    2016.0      -1.000000     662.000000       0.000000   \n",
      "25%      8000.000000    2016.0      12.120000     672.000000       0.000000   \n",
      "50%     12000.000000    2016.0      18.010000     692.000000       0.000000   \n",
      "75%     20000.000000    2016.0      24.650000     712.000000       0.000000   \n",
      "max     40000.000000    2016.0     999.000000     847.500000       1.000000   \n",
      "\n",
      "       emp_length_encoded  purpose_encoded             d1             d2  \\\n",
      "count       274215.000000    274215.000000  274215.000000  274215.000000   \n",
      "mean             3.480470         2.761198       0.744190       0.203749   \n",
      "std              3.146874         2.409536       0.436316       0.402785   \n",
      "min              0.000000         0.000000       0.000000       0.000000   \n",
      "25%              1.000000         2.000000       0.000000       0.000000   \n",
      "50%              2.000000         2.000000       1.000000       0.000000   \n",
      "75%              5.000000         2.000000       1.000000       0.000000   \n",
      "max             10.000000        13.000000       1.000000       1.000000   \n",
      "\n",
      "                  d3  \n",
      "count  274215.000000  \n",
      "mean        0.052061  \n",
      "std         0.222151  \n",
      "min         0.000000  \n",
      "25%         0.000000  \n",
      "50%         0.000000  \n",
      "75%         0.000000  \n",
      "max         1.000000  \n",
      "\n",
      "==================================================\n",
      "\n",
      "Statistical summary for accepted_2017:\n",
      "\n",
      "           loan_amnt   issue_d            dti     fico_score          Class  \\\n",
      "count  157166.000000  157166.0  157166.000000  157166.000000  157166.000000   \n",
      "mean    14520.537362    2017.0      18.443352     701.063188       0.224190   \n",
      "std      9522.974968       0.0      12.807098      34.107877       0.417049   \n",
      "min      1000.000000    2017.0      -1.000000     662.000000       0.000000   \n",
      "25%      7000.000000    2017.0      11.690000     672.000000       0.000000   \n",
      "50%     12000.000000    2017.0      17.560000     692.000000       0.000000   \n",
      "75%     20000.000000    2017.0      24.160000     717.000000       0.000000   \n",
      "max     40000.000000    2017.0     999.000000     847.500000       1.000000   \n",
      "\n",
      "       emp_length_encoded  purpose_encoded             d1             d2  \\\n",
      "count       157166.000000    157166.000000  157166.000000  157166.000000   \n",
      "mean             3.550157         2.927300       0.744620       0.205216   \n",
      "std              3.204636         2.544717       0.436076       0.403861   \n",
      "min              0.000000         0.000000       0.000000       0.000000   \n",
      "25%              1.000000         2.000000       0.000000       0.000000   \n",
      "50%              2.000000         2.000000       1.000000       0.000000   \n",
      "75%              6.000000         2.000000       1.000000       0.000000   \n",
      "max             10.000000        12.000000       1.000000       1.000000   \n",
      "\n",
      "                  d3  \n",
      "count  157166.000000  \n",
      "mean        0.050164  \n",
      "std         0.218283  \n",
      "min         0.000000  \n",
      "25%         0.000000  \n",
      "50%         0.000000  \n",
      "75%         0.000000  \n",
      "max         1.000000  \n",
      "\n",
      "==================================================\n",
      "\n",
      "Statistical summary for accepted_2018:\n",
      "\n",
      "          loan_amnt  issue_d           dti    fico_score         Class  \\\n",
      "count  51374.000000  51374.0  51374.000000  51374.000000  51374.000000   \n",
      "mean   15125.539183   2018.0     18.051755    710.120304      0.149550   \n",
      "std    10236.570308      0.0     16.410889     37.552482      0.356634   \n",
      "min     1000.000000   2018.0      0.000000    662.000000      0.000000   \n",
      "25%     7000.000000   2018.0     10.320000    682.000000      0.000000   \n",
      "50%    12000.000000   2018.0     16.530000    702.000000      0.000000   \n",
      "75%    20000.000000   2018.0     23.640000    732.000000      0.000000   \n",
      "max    40000.000000   2018.0    999.000000    847.500000      1.000000   \n",
      "\n",
      "       emp_length_encoded  purpose_encoded            d1            d2  \\\n",
      "count        51374.000000     51374.000000  51374.000000  51374.000000   \n",
      "mean             3.413302         3.107700      0.743041      0.203391   \n",
      "std              3.082585         2.695887      0.436961      0.402525   \n",
      "min              0.000000         0.000000      0.000000      0.000000   \n",
      "25%              1.000000         2.000000      0.000000      0.000000   \n",
      "50%              2.000000         2.000000      1.000000      0.000000   \n",
      "75%              5.000000         4.000000      1.000000      0.000000   \n",
      "max             10.000000        13.000000      1.000000      1.000000   \n",
      "\n",
      "                 d3  \n",
      "count  51374.000000  \n",
      "mean       0.053568  \n",
      "std        0.225165  \n",
      "min        0.000000  \n",
      "25%        0.000000  \n",
      "50%        0.000000  \n",
      "75%        0.000000  \n",
      "max        1.000000  \n",
      "\n",
      "==================================================\n",
      "\n"
     ]
    }
   ],
   "source": [
    "# Liste des DataFrames existants pour chaque année\n",
    "accepted_years = [accepted_2007, accepted_2008, accepted_2009, accepted_2010, accepted_2011, accepted_2012,\n",
    "                  accepted_2013, accepted_2014, accepted_2015, accepted_2016, accepted_2017, accepted_2018]\n",
    "\n",
    "# Afficher les tableaux statistiques pour chaque DataFrame avant SMOTE\n",
    "for i, df in enumerate(accepted_years, start=2007):\n",
    "    print(f\"Statistical summary for accepted_{i}:\\n\")\n",
    "    print(df.describe())  # Afficher les statistiques descriptives pour le DataFrame\n",
    "    print(\"\\n\" + \"=\"*50 + \"\\n\")\n"
   ]
  },
  {
   "cell_type": "code",
   "execution_count": null,
   "metadata": {},
   "outputs": [
    {
     "name": "stdout",
     "output_type": "stream",
     "text": [
      "The shape of accepted 2007 is (251, 10)\n",
      "The shape of accepted 2008 is (1562, 10)\n",
      "The shape of accepted 2009 is (4716, 10)\n",
      "The shape of accepted 2010 is (11217, 10)\n",
      "The shape of accepted 2011 is (20962, 10)\n",
      "The shape of accepted 2012 is (51442, 10)\n",
      "The shape of accepted 2013 is (128842, 10)\n",
      "The shape of accepted 2014 is (211548, 10)\n",
      "The shape of accepted 2015 is (353487, 10)\n",
      "The shape of accepted 2016 is (274215, 10)\n",
      "The shape of accepted 2017 is (157166, 10)\n",
      "The shape of accepted 2018 is (51374, 10)\n"
     ]
    }
   ],
   "source": [
    "accepted_years = [\n",
    "    accepted_2007, accepted_2008, accepted_2009, accepted_2010, accepted_2011, accepted_2012,\n",
    "    accepted_2013, accepted_2014, accepted_2015, accepted_2016, accepted_2017, accepted_2018\n",
    "]\n",
    "\n",
    "years = range(2007, 2019)\n",
    "\n",
    "for year, col in zip(years, accepted_years):\n",
    "    print(f'The shape of accepted {year} is {col.shape}')\n"
   ]
  },
  {
   "cell_type": "code",
   "execution_count": null,
   "metadata": {},
   "outputs": [
    {
     "name": "stdout",
     "output_type": "stream",
     "text": [
      "The shape of rejected 2007 is (458, 9)\n",
      "The shape of rejected 2008 is (1398, 9)\n",
      "The shape of rejected 2009 is (3709, 9)\n",
      "The shape of rejected 2010 is (50474, 9)\n",
      "The shape of rejected 2011 is (106726, 9)\n",
      "The shape of rejected 2012 is (181708, 9)\n",
      "The shape of rejected 2013 is (391858, 9)\n",
      "The shape of rejected 2014 is (834332, 9)\n",
      "The shape of rejected 2015 is (257531, 9)\n",
      "The shape of rejected 2016 is (206519, 9)\n",
      "The shape of rejected 2017 is (29601, 9)\n"
     ]
    }
   ],
   "source": [
    "rejected_years = [\n",
    "    rejected_2007, rejected_2008, rejected_2009, rejected_2010, rejected_2011, rejected_2012,\n",
    "    rejected_2013, rejected_2014, rejected_2015, rejected_2016, rejected_2017\n",
    "]\n",
    "\n",
    "years = range(2007, 2019)\n",
    "\n",
    "for year, col in zip(years, rejected_years):\n",
    "    print(f'The shape of rejected {year} is {col.shape}')\n"
   ]
  },
  {
   "cell_type": "code",
   "execution_count": null,
   "metadata": {},
   "outputs": [
    {
     "name": "stdout",
     "output_type": "stream",
     "text": [
      "The proportion of the labels in 2007:\n",
      "Class\n",
      "0    0.820717\n",
      "1    0.179283\n",
      "Name: proportion, dtype: float64\n",
      "\n",
      "\n",
      "The proportion of the labels in 2008:\n",
      "Class\n",
      "0    0.841869\n",
      "1    0.158131\n",
      "Name: proportion, dtype: float64\n",
      "\n",
      "\n",
      "The proportion of the labels in 2009:\n",
      "Class\n",
      "0    0.874046\n",
      "1    0.125954\n",
      "Name: proportion, dtype: float64\n",
      "\n",
      "\n",
      "The proportion of the labels in 2010:\n",
      "Class\n",
      "0    0.87412\n",
      "1    0.12588\n",
      "Name: proportion, dtype: float64\n",
      "\n",
      "\n",
      "The proportion of the labels in 2011:\n",
      "Class\n",
      "0    0.85011\n",
      "1    0.14989\n",
      "Name: proportion, dtype: float64\n",
      "\n",
      "\n",
      "The proportion of the labels in 2012:\n",
      "Class\n",
      "0    0.839353\n",
      "1    0.160647\n",
      "Name: proportion, dtype: float64\n",
      "\n",
      "\n",
      "The proportion of the labels in 2013:\n",
      "Class\n",
      "0    0.846005\n",
      "1    0.153995\n",
      "Name: proportion, dtype: float64\n",
      "\n",
      "\n",
      "The proportion of the labels in 2014:\n",
      "Class\n",
      "0    0.818386\n",
      "1    0.181614\n",
      "Name: proportion, dtype: float64\n",
      "\n",
      "\n",
      "The proportion of the labels in 2015:\n",
      "Class\n",
      "0    0.801218\n",
      "1    0.198782\n",
      "Name: proportion, dtype: float64\n",
      "\n",
      "\n",
      "The proportion of the labels in 2016:\n",
      "Class\n",
      "0    0.772894\n",
      "1    0.227106\n",
      "Name: proportion, dtype: float64\n",
      "\n",
      "\n",
      "The proportion of the labels in 2017:\n",
      "Class\n",
      "0    0.77581\n",
      "1    0.22419\n",
      "Name: proportion, dtype: float64\n",
      "\n",
      "\n",
      "The proportion of the labels in 2018:\n",
      "Class\n",
      "0    0.85045\n",
      "1    0.14955\n",
      "Name: proportion, dtype: float64\n",
      "\n",
      "\n"
     ]
    }
   ],
   "source": [
    "# Pour chaque année, afficher la répartition des classes\n",
    "for year in years:\n",
    "    print(f'The proportion of the labels in {year}:')\n",
    "    df = globals().get(f\"accepted_{year}\")\n",
    "    print(df['Class'].value_counts(normalize=True))\n",
    "    print(\"\\n\")  # Ajouter une ligne vide pour mieux séparer les résultats\n"
   ]
  },
  {
   "cell_type": "code",
   "execution_count": null,
   "metadata": {},
   "outputs": [
    {
     "name": "stdout",
     "output_type": "stream",
     "text": [
      "(2038712, 10)\n"
     ]
    }
   ],
   "source": [
    "from imblearn.over_sampling import SMOTE\n",
    "import pandas as pd\n",
    "\n",
    "# Liste des noms de dataframes\n",
    "dataframe_names = [\"accepted_2007\", \"accepted_2008\", \"accepted_2009\", \"accepted_2010\",\n",
    "                   \"accepted_2011\", \"accepted_2012\", \"accepted_2013\", \"accepted_2014\",\n",
    "                   \"accepted_2015\", \"accepted_2016\", \"accepted_2017\", \"accepted_2018\"]\n",
    "\n",
    "smote = SMOTE(random_state=42)\n",
    "\n",
    "for name in dataframe_names:\n",
    "    df = globals()[name]  # Récupérer le dataframe\n",
    "    \n",
    "    X = df.drop(columns=[\"Class\"])  # Remplace \"target\" par le vrai nom de ta variable cible\n",
    "    y = df[\"Class\"]\n",
    "\n",
    "    X_resampled, y_resampled = smote.fit_resample(X, y)\n",
    "\n",
    "    # Modifier directement le dataframe existant\n",
    "    globals()[name] = pd.concat([pd.DataFrame(X_resampled, columns=X.columns), \n",
    "                                 pd.DataFrame(y_resampled, columns=[\"Class\"])], axis=1)\n",
    "\n",
    "# Concaténer tous les dataframes modifiés en loans_accepted_balanced\n",
    "loans_accepted_balanced = pd.concat([globals()[name] for name in dataframe_names], ignore_index=True)\n",
    "\n",
    "# Vérification\n",
    "print(loans_accepted_balanced.shape)\n"
   ]
  },
  {
   "cell_type": "code",
   "execution_count": null,
   "metadata": {},
   "outputs": [
    {
     "name": "stdout",
     "output_type": "stream",
     "text": [
      "   loan_amnt  issue_d    dti  fico_score  Class  emp_length_encoded  \\\n",
      "0     3600.0     2015   5.91       677.0      0                   1   \n",
      "1    24700.0     2015  16.06       717.0      0                   1   \n",
      "2    20000.0     2015  10.78       697.0      0                   1   \n",
      "4    10400.0     2015  25.37       697.0      0                   3   \n",
      "5    11950.0     2015  10.20       692.0      0                   4   \n",
      "\n",
      "   purpose_encoded  d1  d2  d3  \n",
      "0                2   1   0   0  \n",
      "1               11   0   0   1  \n",
      "2                4   1   0   0  \n",
      "4                6   1   0   0  \n",
      "5                2   1   0   0  \n",
      "      loan_amnt  issue_d      dti  fico_score  emp_length_encoded  \\\n",
      "3015   0.113924     2007  0.01881    0.004535                   4   \n",
      "3016   0.139241     2007  0.03613    0.213152                   8   \n",
      "3017   0.493671     2007  0.03792    0.376417                   8   \n",
      "3018   0.240506     2007  0.06488    0.018141                   1   \n",
      "3020   0.037975     2007  0.03153    0.312925                   6   \n",
      "\n",
      "      purpose_encoded  d1  d2  d3  \n",
      "3015                9   1   0   0  \n",
      "3016                9   1   0   0  \n",
      "3017                2   1   0   0  \n",
      "3018                2   1   0   0  \n",
      "3020                2   1   0   0  \n"
     ]
    }
   ],
   "source": [
    "from sklearn.preprocessing import MinMaxScaler\n",
    "\n",
    "# Initialize the scaler\n",
    "scaler = MinMaxScaler()\n",
    "\n",
    "# Select numerical columns to normalize\n",
    "num_cols = ['loan_amnt', 'dti', 'fico_score']\n",
    "\n",
    "# Fit on loans_accepted\n",
    "scaler.fit(loans_accepted[num_cols])\n",
    "\n",
    "# Transform both datasets\n",
    "loans_accepted_balanced[num_cols] = scaler.transform(loans_accepted_balanced[num_cols])\n",
    "loans_rejected[num_cols] = scaler.transform(loans_rejected[num_cols])\n",
    "\n",
    "# Display result\n",
    "print(loans_accepted.head())\n",
    "print(loans_rejected.head())\n"
   ]
  },
  {
   "cell_type": "code",
   "execution_count": null,
   "metadata": {},
   "outputs": [
    {
     "name": "stdout",
     "output_type": "stream",
     "text": [
      "Années disponibles : [2007 2008 2009 2010 2011 2012 2016 2017 2013 2014 2015]\n",
      "      loan_amnt  issue_d      dti  fico_score  emp_length_encoded  \\\n",
      "5285   0.215190     2008  0.03445    0.539683                   1   \n",
      "5286   0.367089     2008  0.04408    0.195011                   1   \n",
      "5304   0.367089     2008  0.02715    0.439909                   4   \n",
      "5305   0.374684     2008  0.03149    0.439909                   4   \n",
      "5306   0.367089     2008  0.02332    0.108844                  10   \n",
      "\n",
      "      purpose_encoded  d1  d2  d3  \n",
      "5285                2   0   0   1  \n",
      "5286                4   1   0   0  \n",
      "5304                2   1   0   0  \n",
      "5305                2   0   1   0  \n",
      "5306                2   1   0   0  \n"
     ]
    }
   ],
   "source": [
    "# Afficher toutes les années disponibles\n",
    "years = loans_rejected['issue_d'].unique()\n",
    "print(\"Années disponibles :\", years)\n",
    "\n",
    "# Créer des variables dynamiques pour chaque année\n",
    "for year in years:\n",
    "    globals()[f\"rejected_{year}\"] = loans_rejected[loans_rejected['issue_d'] == year]\n",
    "\n",
    "# Exemple : Afficher les premières lignes de 2008\n",
    "print(rejected_2008.head())\n"
   ]
  },
  {
   "cell_type": "code",
   "execution_count": null,
   "metadata": {},
   "outputs": [],
   "source": [
    "import numpy as np\n",
    "from sklearn.base import BaseEstimator, ClassifierMixin\n",
    "from sklearn.linear_model import LogisticRegression\n",
    "from sklearn.preprocessing import PolynomialFeatures, StandardScaler\n",
    "from tqdm import tqdm\n",
    "\n",
    "class LogisticCEMd2(BaseEstimator, ClassifierMixin):\n",
    "    def __init__(self, learning_rate=0.01, max_iter=200, epsilon=1e-5, degree=2, C=1.0, \n",
    "                 use_interactions=True, interactions_only=False, random_state=42,\n",
    "                  early_stopping=True, n_jobs=-1):\n",
    "        self.learning_rate = learning_rate\n",
    "        self.max_iter = max_iter\n",
    "        self.epsilon = epsilon  # Tightened convergence threshold\n",
    "        self.degree = degree    # Increased polynomial degree\n",
    "        self.C = C              # Regularization strength\n",
    "        self.use_interactions = use_interactions  \n",
    "        self.interactions_only = interactions_only\n",
    "        self.random_state = random_state\n",
    "        self.early_stopping = early_stopping  # Early stopping option\n",
    "        self.n_jobs = n_jobs    # Parallel processing\n",
    "        self.poly = None        # Polynomial transformer\n",
    "        self.scaler = None      # Feature scaler\n",
    "        self.G_j = None         # Logistic Regression model\n",
    "        self.best_likelihood = -np.inf\n",
    "        self.no_improvement_count = 0\n",
    "        \n",
    "    def _apply_polynomial_features(self, X):\n",
    "        \"\"\"Apply polynomial feature transformation with scaling.\"\"\"\n",
    "        if self.poly is None:\n",
    "            self.poly = PolynomialFeatures(degree=self.degree, \n",
    "                                           include_bias=False, \n",
    "                                           interaction_only=self.interactions_only)\n",
    "            self.poly.fit(X)\n",
    "            \n",
    "        X_poly = self.poly.transform(X)\n",
    "        \n",
    "        if self.scaler is None:\n",
    "            self.scaler = StandardScaler()\n",
    "            self.scaler.fit(X_poly)\n",
    "            \n",
    "        return self.scaler.transform(X_poly)\n",
    "\n",
    "    def fit(self, X_l, y_l, X_u, sample_weight_l=None, validation_data=None, patience=3):\n",
    "        \"\"\"Train the model using labeled and unlabeled data with improved methodology.\"\"\"\n",
    "        # Transform features\n",
    "        X_l_poly = self._apply_polynomial_features(X_l)\n",
    "        X_u_poly = self._apply_polynomial_features(X_u)\n",
    "        \n",
    "        # Setup validation if provided\n",
    "        if validation_data:\n",
    "            X_val, y_val = validation_data\n",
    "            X_val_poly = self._apply_polynomial_features(X_val)\n",
    "        \n",
    "        # Initial logistic regression on labeled data\n",
    "        self.G_j = LogisticRegression(\n",
    "            C=self.C, \n",
    "            max_iter=3000, \n",
    "            solver='liblinear',  # Changed to saga for better handling of large feature sets\n",
    "            random_state=self.random_state,\n",
    "            n_jobs=self.n_jobs\n",
    "        )\n",
    "        self.G_j.fit(X_l_poly, y_l,sample_weight=sample_weight_l)\n",
    "        \n",
    "        # EM iterations\n",
    "        prev_log_likelihood = -np.inf\n",
    "        no_improvement_counter = 0\n",
    "        \n",
    "        for j in tqdm(range(self.max_iter)):\n",
    "            # E-Step: Estimate posterior probabilities\n",
    "            p1_j, p2_j = self._compute_posterior(X_u_poly)\n",
    "            \n",
    "            # C-Step: Classify unlabeled data with confidence weighting\n",
    "            z_ki, weights_u = self._classification_step(p1_j, p2_j)\n",
    "            \n",
    "            # M-Step: Maximize log-likelihood with weighted samples using gradient descent\n",
    "            self._maximize_log_likelihood(X_l_poly, y_l, X_u_poly, z_ki, sample_weight_l, weights_u)\n",
    "            \n",
    "            # Compute log-likelihood for stopping condition\n",
    "            current_log_likelihood = self._log_likelihood(X_l_poly, y_l, X_u_poly, z_ki)\n",
    "            \n",
    "            # Early stopping logic\n",
    "            improvement = current_log_likelihood - prev_log_likelihood\n",
    "            \n",
    "            if improvement < self.epsilon:\n",
    "                no_improvement_counter += 1\n",
    "                if self.early_stopping and no_improvement_counter >= patience:\n",
    "                    print(f\"Early stopping at iteration {j+1}: No significant improvement for {patience} iterations\")\n",
    "                    break\n",
    "            else:\n",
    "                no_improvement_counter = 0\n",
    "                \n",
    "            prev_log_likelihood = current_log_likelihood\n",
    "            \n",
    "        return self\n",
    "\n",
    "    def predict(self, X_test):\n",
    "        \"\"\"Predict labels for test data.\"\"\"\n",
    "        X_test_poly = self._apply_polynomial_features(X_test)\n",
    "        return self.G_j.predict(X_test_poly)\n",
    "\n",
    "    def predict_proba(self, X_test):\n",
    "        \"\"\"Predict probabilities for test data.\"\"\"\n",
    "        X_test_poly = self._apply_polynomial_features(X_test)\n",
    "        return self.G_j.predict_proba(X_test_poly)\n",
    "\n",
    "    def _compute_posterior(self, X_u):\n",
    "        \"\"\"Compute posterior probabilities.\"\"\"\n",
    "        proba = self.G_j.predict_proba(X_u)\n",
    "        return proba[:, 1], proba[:, 0]\n",
    "\n",
    "    def _classification_step(self, p1_j, p2_j):\n",
    "        \"\"\"Assign labels to unlabeled data with confidence weights.\"\"\"\n",
    "        # Assign class based on higher probability\n",
    "        z_ki = (p1_j > p2_j).astype(int)\n",
    "        \n",
    "        # Confidence weights based on probability difference\n",
    "        # Higher confidence = larger gap between probabilities\n",
    "        weights = np.abs(p1_j - p2_j)\n",
    "        \n",
    "        return z_ki, weights\n",
    "\n",
    "    def _maximize_log_likelihood(self, X_l, y_l, X_u, z_ki, sample_weight_l=None, weights_u=None):\n",
    "        \"\"\"Re-train logistic regression with weighted pseudo-labels using gradient descent.\"\"\"\n",
    "        X_combined = np.vstack([X_l, X_u])\n",
    "        y_combined = np.hstack([y_l, z_ki])\n",
    "        \n",
    "        # Combine sample weights\n",
    "        if sample_weight_l is None:\n",
    "            sample_weight_l = np.ones(len(y_l))\n",
    "            \n",
    "        combined_weights = np.hstack([sample_weight_l, weights_u])\n",
    "        \n",
    "        # Compute gradients (gradient descent step)\n",
    "        gradient, intercept_gradient = self._compute_gradients(X_combined, y_combined, self.G_j.coef_, self.G_j.intercept_)\n",
    "        \n",
    "        # Update coefficients using gradient descent\n",
    "        self.G_j.coef_ -= self.learning_rate * gradient\n",
    "        self.G_j.intercept_ -= self.learning_rate * intercept_gradient\n",
    "        \n",
    "        # Fit the model after gradient update (can also be done if necessary)\n",
    "        self.G_j.fit(X_combined, y_combined, sample_weight=combined_weights)\n",
    "\n",
    "    def _log_likelihood(self, X_l, y_l, X_u, z_ki):\n",
    "        \"\"\"Compute log-likelihood with regularization penalty.\"\"\"\n",
    "        l_proba = self.G_j.predict_proba(X_l)\n",
    "        u_proba = self.G_j.predict_proba(X_u)\n",
    "        \n",
    "        # Log likelihood for labeled and unlabeled data\n",
    "        ll_labeled = sum(np.log(np.maximum(l_proba[i, y], 1e-10)) for i, y in enumerate(y_l))\n",
    "        ll_unlabeled = sum(np.log(np.maximum(u_proba[i, z], 1e-10)) for i, z in enumerate(z_ki))\n",
    "        \n",
    "        # Add L2 regularization penalty\n",
    "        coef = self.G_j.coef_.ravel()\n",
    "        reg_penalty = -0.5 * (1/self.C) * np.sum(coef**2)\n",
    "        \n",
    "        return ll_labeled + ll_unlabeled + reg_penalty\n",
    "\n",
    "    def _compute_gradients(self, X, y, coef, intercept):\n",
    "        \"\"\"Compute gradients for logistic regression using the current model parameters.\"\"\"\n",
    "        # Compute the probabilities of the current model\n",
    "        proba = self.G_j.predict_proba(X)\n",
    "        \n",
    "        # Compute the error term (difference between predicted probabilities and actual labels)\n",
    "        error = proba[:, 1] - y\n",
    "        \n",
    "        # Compute the gradient for coefficients\n",
    "        gradient = np.dot(X.T, error) / X.shape[0]\n",
    "        \n",
    "        # Compute the gradient for the intercept\n",
    "        intercept_gradient = np.sum(error) / X.shape[0]\n",
    "        \n",
    "        return gradient, intercept_gradient\n"
   ]
  },
  {
   "cell_type": "code",
   "execution_count": null,
   "metadata": {},
   "outputs": [],
   "source": [
    "import numpy as np\n",
    "from sklearn.base import BaseEstimator, ClassifierMixin\n",
    "from sklearn.linear_model import LogisticRegression\n",
    "from sklearn.preprocessing import PolynomialFeatures, StandardScaler\n",
    "from tqdm import tqdm\n",
    "\n",
    "class LogisticCEMd2(BaseEstimator, ClassifierMixin):\n",
    "    def __init__(self, learning_rate=0.01, max_iter=200, epsilon=1e-5, degree=2, C=1.0,\n",
    "                 use_interactions=True, interactions_only=False, random_state=42,\n",
    "                 early_stopping=True, n_jobs=-1, penalty='l1'):\n",
    "        self.learning_rate = learning_rate\n",
    "        self.max_iter = max_iter\n",
    "        self.epsilon = epsilon\n",
    "        self.degree = degree\n",
    "        self.C = C\n",
    "        self.use_interactions = use_interactions\n",
    "        self.interactions_only = interactions_only\n",
    "        self.random_state = random_state\n",
    "        self.early_stopping = early_stopping\n",
    "        self.n_jobs = n_jobs\n",
    "        self.penalty = penalty  # 'l1' or 'l2'\n",
    "        self.poly = None\n",
    "        self.scaler = None\n",
    "        self.G_j = None\n",
    "        self.best_likelihood = -np.inf\n",
    "        self.no_improvement_count = 0\n",
    "\n",
    "    def _apply_polynomial_features(self, X):\n",
    "        if self.poly is None:\n",
    "            self.poly = PolynomialFeatures(degree=self.degree,\n",
    "                                           include_bias=False,\n",
    "                                           interaction_only=self.interactions_only)\n",
    "            self.poly.fit(X)\n",
    "\n",
    "        X_poly = self.poly.transform(X)\n",
    "\n",
    "        if self.scaler is None:\n",
    "            self.scaler = StandardScaler()\n",
    "            self.scaler.fit(X_poly)\n",
    "\n",
    "        return self.scaler.transform(X_poly)\n",
    "\n",
    "    def fit(self, X_l, y_l, X_u, sample_weight_l=None, validation_data=None, patience=3):\n",
    "        X_l_poly = self._apply_polynomial_features(X_l)\n",
    "        X_u_poly = self._apply_polynomial_features(X_u)\n",
    "\n",
    "        if validation_data:\n",
    "            X_val, y_val = validation_data\n",
    "            X_val_poly = self._apply_polynomial_features(X_val)\n",
    "\n",
    "        self.G_j = LogisticRegression(\n",
    "            C=self.C,\n",
    "            penalty=self.penalty,\n",
    "            solver='liblinear' if self.penalty == 'l1' else 'lbfgs',\n",
    "            max_iter=3000,\n",
    "            random_state=self.random_state,\n",
    "            n_jobs=self.n_jobs\n",
    "        )\n",
    "        self.G_j.fit(X_l_poly, y_l, sample_weight=sample_weight_l)\n",
    "\n",
    "        prev_log_likelihood = -np.inf\n",
    "        no_improvement_counter = 0\n",
    "\n",
    "        for j in tqdm(range(self.max_iter)):\n",
    "            p1_j, p2_j = self._compute_posterior(X_u_poly)\n",
    "            z_ki, weights_u = self._classification_step(p1_j, p2_j)\n",
    "\n",
    "            self._maximize_log_likelihood(X_l_poly, y_l, X_u_poly, z_ki,\n",
    "                                          sample_weight_l, weights_u)\n",
    "\n",
    "            current_log_likelihood = self._log_likelihood(X_l_poly, y_l, X_u_poly, z_ki)\n",
    "\n",
    "            improvement = current_log_likelihood - prev_log_likelihood\n",
    "            if improvement < self.epsilon:\n",
    "                no_improvement_counter += 1\n",
    "                if self.early_stopping and no_improvement_counter >= patience:\n",
    "                    print(f\"Early stopping at iteration {j + 1}: No significant improvement for {patience} iterations\")\n",
    "                    break\n",
    "            else:\n",
    "                no_improvement_counter = 0\n",
    "\n",
    "            prev_log_likelihood = current_log_likelihood\n",
    "\n",
    "        return self\n",
    "\n",
    "    def predict(self, X_test):\n",
    "        X_test_poly = self._apply_polynomial_features(X_test)\n",
    "        return self.G_j.predict(X_test_poly)\n",
    "\n",
    "    def predict_proba(self, X_test):\n",
    "        X_test_poly = self._apply_polynomial_features(X_test)\n",
    "        return self.G_j.predict_proba(X_test_poly)\n",
    "\n",
    "    def _compute_posterior(self, X_u):\n",
    "        proba = self.G_j.predict_proba(X_u)\n",
    "        return proba[:, 1], proba[:, 0]\n",
    "\n",
    "    def _classification_step(self, p1_j, p2_j):\n",
    "        z_ki = (p1_j > p2_j).astype(int)\n",
    "        weights = np.abs(p1_j - p2_j)\n",
    "        return z_ki, weights\n",
    "\n",
    "    def _maximize_log_likelihood(self, X_l, y_l, X_u, z_ki, sample_weight_l=None, weights_u=None):\n",
    "        X_combined = np.vstack([X_l, X_u])\n",
    "        y_combined = np.hstack([y_l, z_ki])\n",
    "\n",
    "        if sample_weight_l is None:\n",
    "            sample_weight_l = np.ones(len(y_l))\n",
    "\n",
    "        combined_weights = np.hstack([sample_weight_l, weights_u])\n",
    "\n",
    "        gradient, intercept_gradient = self._compute_gradients(\n",
    "            X_combined, y_combined, self.G_j.coef_, self.G_j.intercept_, penalty=self.penalty\n",
    "        )\n",
    "\n",
    "        self.G_j.coef_ -= self.learning_rate * gradient\n",
    "        self.G_j.intercept_ -= self.learning_rate * intercept_gradient\n",
    "\n",
    "        self.G_j.fit(X_combined, y_combined, sample_weight=combined_weights)\n",
    "\n",
    "    def _compute_gradients(self, X, y, coef_, intercept_, penalty='l1'):\n",
    "        n_samples = X.shape[0]\n",
    "        linear_output = np.dot(X, coef_.ravel()) + intercept_\n",
    "        predictions = 1 / (1 + np.exp(-linear_output))\n",
    "        errors = predictions - y\n",
    "        gradient = np.dot(X.T, errors) / n_samples\n",
    "        intercept_gradient = np.sum(errors) / n_samples\n",
    "\n",
    "        if penalty == 'l1':\n",
    "            lambda_ = 1.0 / self.C\n",
    "            l1_subgrad = lambda_ * np.sign(coef_)\n",
    "            gradient += l1_subgrad.ravel()\n",
    "        elif penalty == 'l2':\n",
    "            lambda_ = 1.0 / self.C\n",
    "            gradient += 2 * lambda_ * coef_.ravel()\n",
    "\n",
    "        return gradient.reshape(1, -1), intercept_gradient\n",
    "\n",
    "    def _log_likelihood(self, X_l, y_l, X_u, z_ki):\n",
    "        X = np.vstack([X_l, X_u])\n",
    "        y = np.hstack([y_l, z_ki])\n",
    "        linear_output = np.dot(X, self.G_j.coef_.ravel()) + self.G_j.intercept_\n",
    "        predictions = 1 / (1 + np.exp(-linear_output))\n",
    "\n",
    "        epsilon = 1e-9\n",
    "        log_likelihood = np.sum(y * np.log(predictions + epsilon) + (1 - y) * np.log(1 - predictions + epsilon))\n",
    "\n",
    "        if self.penalty == 'l1':\n",
    "            log_likelihood -= (1.0 / self.C) * np.sum(np.abs(self.G_j.coef_))\n",
    "        elif self.penalty == 'l2':\n",
    "            log_likelihood -= (1.0 / self.C) * np.sum(self.G_j.coef_ ** 2)\n",
    "\n",
    "        return log_likelihood\n"
   ]
  },
  {
   "cell_type": "code",
   "execution_count": null,
   "metadata": {},
   "outputs": [],
   "source": [
    "loans_accepted.drop(['issue_d'],axis=1,inplace=True)\n",
    "loans_rejected.drop(['issue_d'],axis=1,inplace=True)"
   ]
  },
  {
   "cell_type": "code",
   "execution_count": null,
   "metadata": {},
   "outputs": [],
   "source": [
    "import numpy as np\n",
    "from scipy.optimize import minimize\n",
    "from sklearn.linear_model import LogisticRegression\n",
    "from sklearn.base import BaseEstimator, ClassifierMixin\n",
    "from sklearn.metrics import log_loss\n",
    "\n",
    "def sigmoid(z):\n",
    "    z = np.clip(z, -500, 500)\n",
    "    return 1 / (1 + np.exp(-z))\n",
    "\n",
    "class LogisticCEMClassifier(BaseEstimator, ClassifierMixin):\n",
    "    def __init__(self, epsilon=1e-4):\n",
    "        self.epsilon = epsilon\n",
    "        self.model = LogisticRegression(solver='saga')\n",
    "        self.is_fitted_ = False\n",
    "\n",
    "    def _log_likelihood(self, beta, X, y):\n",
    "        X_beta = np.dot(X, beta)\n",
    "        log_probs = -log_loss(y, sigmoid(X_beta), labels=[0, 1], normalize=False)\n",
    "        return log_probs\n",
    "\n",
    "    def fit(self, X_l, y_l, X_u=None):\n",
    "        if X_u is None:\n",
    "            raise ValueError(\"Unlabeled data X_u must be provided for CEM.\")\n",
    "\n",
    "        # Initial supervised fit\n",
    "        self.model.fit(X_l, y_l)\n",
    "        prob_u = self.model.predict_proba(X_u)\n",
    "        P = np.argmax(prob_u, axis=1)\n",
    "\n",
    "        # Combine data\n",
    "        X_combined = np.vstack((X_l, X_u))\n",
    "        y_combined = np.hstack((y_l, P))\n",
    "\n",
    "        X_with_intercept = np.hstack([np.ones((X_combined.shape[0], 1)), X_combined])\n",
    "        beta = np.hstack([self.model.intercept_, self.model.coef_.ravel()])\n",
    "        prev_ll = self._log_likelihood(beta, X_with_intercept, y_combined)\n",
    "        delta_ll = np.inf\n",
    "\n",
    "        while delta_ll > self.epsilon:\n",
    "            # E-step\n",
    "            prob_u = self.model.predict_proba(X_u)\n",
    "            P = np.argmax(prob_u, axis=1)\n",
    "            y_combined[len(y_l):] = P\n",
    "\n",
    "            # M-step\n",
    "            result = minimize(lambda b: -self._log_likelihood(b, X_with_intercept, y_combined), \n",
    "                              beta, method='BFGS')\n",
    "            beta_new = result.x\n",
    "            new_ll = self._log_likelihood(beta_new, X_with_intercept, y_combined)\n",
    "            delta_ll = abs(new_ll - prev_ll)\n",
    "\n",
    "            # Update model\n",
    "            self.model.intercept_ = np.array([beta_new[0]])\n",
    "            self.model.coef_ = beta_new[1:].reshape(1, -1)\n",
    "            beta = beta_new\n",
    "            prev_ll = new_ll\n",
    "\n",
    "        self.is_fitted_ = True\n",
    "        return self\n",
    "\n",
    "    def predict(self, X):\n",
    "        if not self.is_fitted_:\n",
    "            raise RuntimeError(\"You must call fit() before predict().\")\n",
    "        return self.model.predict(X)\n",
    "\n",
    "    def predict_proba(self, X):\n",
    "        if not self.is_fitted_:\n",
    "            raise RuntimeError(\"You must call fit() before predict_proba().\")\n",
    "        return self.model.predict_proba(X)\n"
   ]
  },
  {
   "cell_type": "code",
   "execution_count": null,
   "metadata": {},
   "outputs": [],
   "source": [
    "del df1"
   ]
  },
  {
   "cell_type": "code",
   "execution_count": null,
   "metadata": {},
   "outputs": [],
   "source": [
    "del df2"
   ]
  },
  {
   "cell_type": "code",
   "execution_count": null,
   "metadata": {},
   "outputs": [],
   "source": []
  },
  {
   "cell_type": "code",
   "execution_count": null,
   "metadata": {},
   "outputs": [],
   "source": [
    "import numpy as np\n",
    "import pandas as pd\n",
    "import os\n",
    "from sklearn.model_selection import train_test_split\n",
    "from sklearn.metrics import accuracy_score, precision_score, recall_score, f1_score, roc_auc_score\n",
    "from sklearn.svm import SVC\n",
    "from sklearn.ensemble import RandomForestClassifier\n",
    "from sklearn.neural_network import MLPClassifier\n",
    "from lightgbm import LGBMClassifier\n",
    "from xgboost import XGBClassifier\n",
    "from sklearn.linear_model import LogisticRegression\n",
    "from autorank import autorank, plot_stats, create_report\n",
    "import matplotlib.pyplot as plt\n",
    "\n",
    "# from your_module import LogisticCEMClassifier, LogisticCEMd2\n",
    "\n",
    "# Définir les modèles\n",
    "models = {\n",
    "    \"LogisticCEMD2\": LogisticCEMd2(learning_rate=0.01, max_iter=500, epsilon=1e-6, degree=2, C=0.1, \n",
    "                                   use_interactions=True, interactions_only=False,\n",
    "                                   early_stopping=True, n_jobs=-1),\n",
    "    \"Logistic Regression\": LogisticRegression(max_iter=500, solver='saga'),\n",
    "    \"MLP\": MLPClassifier(hidden_layer_sizes=(50, 50, 50), max_iter=500),\n",
    "    \"SVM\": SVC(probability=True, random_state=42),\n",
    "    \"Random Forest\": RandomForestClassifier(),\n",
    "    \"LightGBM\": LGBMClassifier(),\n",
    "    \"XGBoost\": XGBClassifier(use_label_encoder=False, eval_metric='logloss'),\n",
    "    \"LogisticCEM\": LogisticCEMClassifier()\n",
    "}\n",
    "\n",
    "# Initialiser les métriques\n",
    "results = {\n",
    "    'auc': {model: [] for model in models},\n",
    "    'accuracy': {model: [] for model in models},\n",
    "    'precision': {model: [] for model in models},\n",
    "    'recall': {model: [] for model in models},\n",
    "    'f1': {model: [] for model in models}\n",
    "}\n",
    "\n",
    "# Liste pour sauvegarder chaque résultat dans un seul dataframe\n",
    "full_training_log = []\n",
    "\n",
    "# Créer un dossier pour sauvegarder les datasets\n",
    "os.makedirs(\"train_runs\", exist_ok=True)\n",
    "\n",
    "# Boucle principale\n",
    "for i in range(50):\n",
    "    print(f\"\\n🔄 Itération {i+1} / 50\")\n",
    "\n",
    "    # Échantillonnage\n",
    "    X_rejected_sample = loans_rejected.sample(n=1000, random_state=42)\n",
    "\n",
    "    class_0 = loans_accepted[loans_accepted[\"Class\"] == 0]\n",
    "    class_1 = loans_accepted[loans_accepted[\"Class\"] == 1]\n",
    "\n",
    "    class_0_sample = class_0.sample(n=1000, random_state=42)\n",
    "    class_1_sample = class_1.sample(n=1000, random_state=42)\n",
    "\n",
    "    loans_accepted_balanced_1 = pd.concat([class_0_sample, class_1_sample]).sample(frac=1, random_state=42).reset_index(drop=True)\n",
    "\n",
    "    # Split\n",
    "    X_train, X_test, y_train, y_test = train_test_split(\n",
    "        loans_accepted_balanced_1.drop(columns=[\"Class\"]),\n",
    "        loans_accepted_balanced_1[\"Class\"],\n",
    "        test_size=0.2,\n",
    "        stratify=loans_accepted_balanced_1[\"Class\"]\n",
    "    )\n",
    "\n",
    "    # Ajouter rejetés\n",
    "    X_train_full = pd.concat([X_train, X_rejected_sample])\n",
    "    y_rejected = pd.Series([-1] * len(X_rejected_sample), index=X_rejected_sample.index)\n",
    "    y_train_full = pd.concat([y_train, y_rejected])\n",
    "\n",
    "    # Sauvegarde dans un fichier CSV\n",
    "    train_data_save = X_train_full.copy()\n",
    "    train_data_save[\"Class\"] = y_train_full\n",
    "    train_data_save.to_csv(f\"train_runs/train_data_run_{i+1}.csv\", index=False)\n",
    "\n",
    "    # Entraînement et évaluation\n",
    "    for name, model in models.items():\n",
    "        if name in [\"LogisticCEMD2\", \"LogisticCEM\"]:\n",
    "            model.fit(X_train_full[y_train_full != -1], y_train_full[y_train_full != -1], X_train_full[y_train_full == -1])\n",
    "        else:\n",
    "            model.fit(X_train_full[y_train_full != -1], y_train_full[y_train_full != -1])\n",
    "\n",
    "        y_pred = model.predict(X_test)\n",
    "        y_proba = model.predict_proba(X_test)[:, 1]\n",
    "\n",
    "        # Sauvegarder les résultats\n",
    "        auc = roc_auc_score(y_test, y_proba)\n",
    "        accuracy = accuracy_score(y_test, y_pred)\n",
    "        precision = precision_score(y_test, y_pred)\n",
    "        recall = recall_score(y_test, y_pred)\n",
    "        f1 = f1_score(y_test, y_pred)\n",
    "\n",
    "        results['auc'][name].append(auc)\n",
    "        results['accuracy'][name].append(accuracy)\n",
    "        results['precision'][name].append(precision)\n",
    "        results['recall'][name].append(recall)\n",
    "        results['f1'][name].append(f1)\n",
    "\n",
    "        # Ajouter à full_training_log\n",
    "        full_training_log.append({\n",
    "            'Run': i + 1,\n",
    "            'Model': name,\n",
    "            'AUC': auc,\n",
    "            'Accuracy': accuracy,\n",
    "            'Precision': precision,\n",
    "            'Recall': recall,\n",
    "            'F1-Score': f1\n",
    "        })\n",
    "\n",
    "# Après toutes les itérations : sauvegarde du fichier CSV avec tous les runs\n",
    "full_training_log_df = pd.DataFrame(full_training_log)\n",
    "full_training_log_df.to_csv(\"train_runs/all_training_results.csv\", index=False)\n",
    "\n",
    "print(\"\\n✅ Tous les résultats détaillés ont été sauvegardés dans 'train_runs/all_training_results.csv'.\")\n",
    "\n",
    "# Résumé des résultats\n",
    "summary_table = pd.DataFrame({\n",
    "    'Model': list(models.keys()),\n",
    "    'AUC': [np.mean(results['auc'][model]) for model in models],\n",
    "    'Accuracy': [np.mean(results['accuracy'][model]) for model in models],\n",
    "    'Precision': [np.mean(results['precision'][model]) for model in models],\n",
    "    'Recall': [np.mean(results['recall'][model]) for model in models],\n",
    "    'F1-Score': [np.mean(results['f1'][model]) for model in models]\n",
    "}).round(4)\n",
    "\n",
    "print(\"\\n📋 Tableau des moyennes des métriques sur 25 runs :\\n\")\n",
    "print(summary_table)\n",
    "\n",
    "# Analyse statistique avec autorank\n",
    "for metric in ['auc', 'accuracy', 'precision', 'recall', 'f1']:\n",
    "    print(f\"\\n📈 Analyse Autorank pour la métrique : {metric.upper()}\")\n",
    "    metric_df = pd.DataFrame(results[metric])\n",
    "    rank_result = autorank(metric_df, alpha=0.05, verbose=False)\n",
    "    plot_stats(rank_result)\n",
    "    plt.title(f\"Critical Difference Diagram - {metric.upper()}\")\n",
    "    plt.tight_layout()\n",
    "    plt.show()\n",
    "    print(create_report(rank_result))\n"
   ]
  },
  {
   "cell_type": "code",
   "execution_count": null,
   "metadata": {},
   "outputs": [
    {
     "name": "stdout",
     "output_type": "stream",
     "text": [
      "\n",
      "🔄 Itération 1 / 25\n"
     ]
    },
    {
     "name": "stderr",
     "output_type": "stream",
     "text": [
      "  2%|▏         | 3/200 [00:06<07:03,  2.15s/it]"
     ]
    },
    {
     "name": "stdout",
     "output_type": "stream",
     "text": [
      "Early stopping at iteration 4: No significant improvement for 3 iterations\n"
     ]
    },
    {
     "name": "stderr",
     "output_type": "stream",
     "text": [
      "\n"
     ]
    },
    {
     "name": "stdout",
     "output_type": "stream",
     "text": [
      "[LightGBM] [Info] Number of positive: 800, number of negative: 800\n",
      "[LightGBM] [Info] Auto-choosing row-wise multi-threading, the overhead of testing was 0.001513 seconds.\n",
      "You can set `force_row_wise=true` to remove the overhead.\n",
      "And if memory is not enough, you can set `force_col_wise=true`.\n",
      "[LightGBM] [Info] Total Bins 553\n",
      "[LightGBM] [Info] Number of data points in the train set: 1600, number of used features: 8\n",
      "[LightGBM] [Info] [binary:BoostFromScore]: pavg=0.500000 -> initscore=0.000000\n",
      "\n",
      "🔄 Itération 2 / 25\n"
     ]
    },
    {
     "name": "stderr",
     "output_type": "stream",
     "text": [
      "  2%|▏         | 3/200 [00:08<09:35,  2.92s/it]"
     ]
    },
    {
     "name": "stdout",
     "output_type": "stream",
     "text": [
      "Early stopping at iteration 4: No significant improvement for 3 iterations\n"
     ]
    },
    {
     "name": "stderr",
     "output_type": "stream",
     "text": [
      "\n"
     ]
    },
    {
     "name": "stdout",
     "output_type": "stream",
     "text": [
      "[LightGBM] [Info] Number of positive: 800, number of negative: 800\n",
      "[LightGBM] [Info] Auto-choosing row-wise multi-threading, the overhead of testing was 0.000659 seconds.\n",
      "You can set `force_row_wise=true` to remove the overhead.\n",
      "And if memory is not enough, you can set `force_col_wise=true`.\n",
      "[LightGBM] [Info] Total Bins 555\n",
      "[LightGBM] [Info] Number of data points in the train set: 1600, number of used features: 8\n",
      "[LightGBM] [Info] [binary:BoostFromScore]: pavg=0.500000 -> initscore=0.000000\n",
      "\n",
      "🔄 Itération 3 / 25\n"
     ]
    },
    {
     "name": "stderr",
     "output_type": "stream",
     "text": [
      "  2%|▏         | 4/200 [00:10<08:57,  2.74s/it]"
     ]
    },
    {
     "name": "stdout",
     "output_type": "stream",
     "text": [
      "Early stopping at iteration 5: No significant improvement for 3 iterations\n"
     ]
    },
    {
     "name": "stderr",
     "output_type": "stream",
     "text": [
      "\n"
     ]
    },
    {
     "name": "stdout",
     "output_type": "stream",
     "text": [
      "[LightGBM] [Info] Number of positive: 800, number of negative: 800\n",
      "[LightGBM] [Info] Auto-choosing row-wise multi-threading, the overhead of testing was 0.000096 seconds.\n",
      "You can set `force_row_wise=true` to remove the overhead.\n",
      "And if memory is not enough, you can set `force_col_wise=true`.\n",
      "[LightGBM] [Info] Total Bins 552\n",
      "[LightGBM] [Info] Number of data points in the train set: 1600, number of used features: 8\n",
      "[LightGBM] [Info] [binary:BoostFromScore]: pavg=0.500000 -> initscore=0.000000\n",
      "\n",
      "🔄 Itération 4 / 25\n"
     ]
    },
    {
     "name": "stderr",
     "output_type": "stream",
     "text": [
      "  2%|▏         | 3/200 [00:06<06:35,  2.01s/it]"
     ]
    },
    {
     "name": "stdout",
     "output_type": "stream",
     "text": [
      "Early stopping at iteration 4: No significant improvement for 3 iterations\n"
     ]
    },
    {
     "name": "stderr",
     "output_type": "stream",
     "text": [
      "\n"
     ]
    },
    {
     "name": "stdout",
     "output_type": "stream",
     "text": [
      "[LightGBM] [Info] Number of positive: 800, number of negative: 800\n",
      "[LightGBM] [Info] Auto-choosing row-wise multi-threading, the overhead of testing was 0.000323 seconds.\n",
      "You can set `force_row_wise=true` to remove the overhead.\n",
      "And if memory is not enough, you can set `force_col_wise=true`.\n",
      "[LightGBM] [Info] Total Bins 554\n",
      "[LightGBM] [Info] Number of data points in the train set: 1600, number of used features: 8\n",
      "[LightGBM] [Info] [binary:BoostFromScore]: pavg=0.500000 -> initscore=0.000000\n",
      "\n",
      "🔄 Itération 5 / 25\n"
     ]
    },
    {
     "name": "stderr",
     "output_type": "stream",
     "text": [
      "  2%|▏         | 3/200 [00:12<14:00,  4.27s/it]"
     ]
    },
    {
     "name": "stdout",
     "output_type": "stream",
     "text": [
      "Early stopping at iteration 4: No significant improvement for 3 iterations\n"
     ]
    },
    {
     "name": "stderr",
     "output_type": "stream",
     "text": [
      "\n"
     ]
    },
    {
     "name": "stdout",
     "output_type": "stream",
     "text": [
      "[LightGBM] [Info] Number of positive: 800, number of negative: 800\n",
      "[LightGBM] [Info] Auto-choosing row-wise multi-threading, the overhead of testing was 0.000130 seconds.\n",
      "You can set `force_row_wise=true` to remove the overhead.\n",
      "And if memory is not enough, you can set `force_col_wise=true`.\n",
      "[LightGBM] [Info] Total Bins 560\n",
      "[LightGBM] [Info] Number of data points in the train set: 1600, number of used features: 8\n",
      "[LightGBM] [Info] [binary:BoostFromScore]: pavg=0.500000 -> initscore=0.000000\n",
      "\n",
      "🔄 Itération 6 / 25\n"
     ]
    },
    {
     "name": "stderr",
     "output_type": "stream",
     "text": [
      "  2%|▏         | 3/200 [00:05<06:19,  1.92s/it]"
     ]
    },
    {
     "name": "stdout",
     "output_type": "stream",
     "text": [
      "Early stopping at iteration 4: No significant improvement for 3 iterations\n"
     ]
    },
    {
     "name": "stderr",
     "output_type": "stream",
     "text": [
      "\n"
     ]
    },
    {
     "name": "stdout",
     "output_type": "stream",
     "text": [
      "[LightGBM] [Info] Number of positive: 800, number of negative: 800\n",
      "[LightGBM] [Info] Auto-choosing row-wise multi-threading, the overhead of testing was 0.000083 seconds.\n",
      "You can set `force_row_wise=true` to remove the overhead.\n",
      "And if memory is not enough, you can set `force_col_wise=true`.\n",
      "[LightGBM] [Info] Total Bins 552\n",
      "[LightGBM] [Info] Number of data points in the train set: 1600, number of used features: 8\n",
      "[LightGBM] [Info] [binary:BoostFromScore]: pavg=0.500000 -> initscore=0.000000\n",
      "\n",
      "🔄 Itération 7 / 25\n"
     ]
    },
    {
     "name": "stderr",
     "output_type": "stream",
     "text": [
      "  2%|▏         | 4/200 [00:09<08:08,  2.49s/it]"
     ]
    },
    {
     "name": "stdout",
     "output_type": "stream",
     "text": [
      "Early stopping at iteration 5: No significant improvement for 3 iterations\n"
     ]
    },
    {
     "name": "stderr",
     "output_type": "stream",
     "text": [
      "\n"
     ]
    },
    {
     "name": "stdout",
     "output_type": "stream",
     "text": [
      "[LightGBM] [Info] Number of positive: 800, number of negative: 800\n",
      "[LightGBM] [Info] Auto-choosing row-wise multi-threading, the overhead of testing was 0.000107 seconds.\n",
      "You can set `force_row_wise=true` to remove the overhead.\n",
      "And if memory is not enough, you can set `force_col_wise=true`.\n",
      "[LightGBM] [Info] Total Bins 554\n",
      "[LightGBM] [Info] Number of data points in the train set: 1600, number of used features: 8\n",
      "[LightGBM] [Info] [binary:BoostFromScore]: pavg=0.500000 -> initscore=0.000000\n",
      "\n",
      "🔄 Itération 8 / 25\n"
     ]
    },
    {
     "name": "stderr",
     "output_type": "stream",
     "text": [
      "  2%|▏         | 3/200 [00:08<09:50,  3.00s/it]"
     ]
    },
    {
     "name": "stdout",
     "output_type": "stream",
     "text": [
      "Early stopping at iteration 4: No significant improvement for 3 iterations\n"
     ]
    },
    {
     "name": "stderr",
     "output_type": "stream",
     "text": [
      "\n"
     ]
    },
    {
     "name": "stdout",
     "output_type": "stream",
     "text": [
      "[LightGBM] [Info] Number of positive: 800, number of negative: 800\n",
      "[LightGBM] [Info] Auto-choosing row-wise multi-threading, the overhead of testing was 0.000147 seconds.\n",
      "You can set `force_row_wise=true` to remove the overhead.\n",
      "And if memory is not enough, you can set `force_col_wise=true`.\n",
      "[LightGBM] [Info] Total Bins 556\n",
      "[LightGBM] [Info] Number of data points in the train set: 1600, number of used features: 8\n",
      "[LightGBM] [Info] [binary:BoostFromScore]: pavg=0.500000 -> initscore=0.000000\n",
      "\n",
      "🔄 Itération 9 / 25\n"
     ]
    },
    {
     "name": "stderr",
     "output_type": "stream",
     "text": [
      "  2%|▏         | 3/200 [00:05<05:46,  1.76s/it]"
     ]
    },
    {
     "name": "stdout",
     "output_type": "stream",
     "text": [
      "Early stopping at iteration 4: No significant improvement for 3 iterations\n"
     ]
    },
    {
     "name": "stderr",
     "output_type": "stream",
     "text": [
      "\n"
     ]
    },
    {
     "name": "stdout",
     "output_type": "stream",
     "text": [
      "[LightGBM] [Info] Number of positive: 800, number of negative: 800\n",
      "[LightGBM] [Info] Auto-choosing row-wise multi-threading, the overhead of testing was 0.000583 seconds.\n",
      "You can set `force_row_wise=true` to remove the overhead.\n",
      "And if memory is not enough, you can set `force_col_wise=true`.\n",
      "[LightGBM] [Info] Total Bins 559\n",
      "[LightGBM] [Info] Number of data points in the train set: 1600, number of used features: 8\n",
      "[LightGBM] [Info] [binary:BoostFromScore]: pavg=0.500000 -> initscore=0.000000\n",
      "\n",
      "🔄 Itération 10 / 25\n"
     ]
    },
    {
     "name": "stderr",
     "output_type": "stream",
     "text": [
      "  2%|▏         | 3/200 [00:16<18:34,  5.66s/it]"
     ]
    },
    {
     "name": "stdout",
     "output_type": "stream",
     "text": [
      "Early stopping at iteration 4: No significant improvement for 3 iterations\n"
     ]
    },
    {
     "name": "stderr",
     "output_type": "stream",
     "text": [
      "\n"
     ]
    },
    {
     "name": "stdout",
     "output_type": "stream",
     "text": [
      "[LightGBM] [Info] Number of positive: 800, number of negative: 800\n",
      "[LightGBM] [Info] Auto-choosing row-wise multi-threading, the overhead of testing was 0.000142 seconds.\n",
      "You can set `force_row_wise=true` to remove the overhead.\n",
      "And if memory is not enough, you can set `force_col_wise=true`.\n",
      "[LightGBM] [Info] Total Bins 555\n",
      "[LightGBM] [Info] Number of data points in the train set: 1600, number of used features: 8\n",
      "[LightGBM] [Info] [binary:BoostFromScore]: pavg=0.500000 -> initscore=0.000000\n",
      "\n",
      "🔄 Itération 11 / 25\n"
     ]
    },
    {
     "name": "stderr",
     "output_type": "stream",
     "text": [
      "  2%|▏         | 3/200 [00:05<05:31,  1.68s/it]"
     ]
    },
    {
     "name": "stdout",
     "output_type": "stream",
     "text": [
      "Early stopping at iteration 4: No significant improvement for 3 iterations\n"
     ]
    },
    {
     "name": "stderr",
     "output_type": "stream",
     "text": [
      "\n"
     ]
    },
    {
     "name": "stdout",
     "output_type": "stream",
     "text": [
      "[LightGBM] [Info] Number of positive: 800, number of negative: 800\n",
      "[LightGBM] [Info] Auto-choosing row-wise multi-threading, the overhead of testing was 0.000130 seconds.\n",
      "You can set `force_row_wise=true` to remove the overhead.\n",
      "And if memory is not enough, you can set `force_col_wise=true`.\n",
      "[LightGBM] [Info] Total Bins 557\n",
      "[LightGBM] [Info] Number of data points in the train set: 1600, number of used features: 8\n",
      "[LightGBM] [Info] [binary:BoostFromScore]: pavg=0.500000 -> initscore=0.000000\n",
      "\n",
      "🔄 Itération 12 / 25\n"
     ]
    },
    {
     "name": "stderr",
     "output_type": "stream",
     "text": [
      "  2%|▏         | 4/200 [00:07<05:59,  1.84s/it]"
     ]
    },
    {
     "name": "stdout",
     "output_type": "stream",
     "text": [
      "Early stopping at iteration 5: No significant improvement for 3 iterations\n"
     ]
    },
    {
     "name": "stderr",
     "output_type": "stream",
     "text": [
      "\n"
     ]
    },
    {
     "name": "stdout",
     "output_type": "stream",
     "text": [
      "[LightGBM] [Info] Number of positive: 800, number of negative: 800\n",
      "[LightGBM] [Info] Auto-choosing row-wise multi-threading, the overhead of testing was 0.000085 seconds.\n",
      "You can set `force_row_wise=true` to remove the overhead.\n",
      "And if memory is not enough, you can set `force_col_wise=true`.\n",
      "[LightGBM] [Info] Total Bins 556\n",
      "[LightGBM] [Info] Number of data points in the train set: 1600, number of used features: 8\n",
      "[LightGBM] [Info] [binary:BoostFromScore]: pavg=0.500000 -> initscore=0.000000\n",
      "\n",
      "🔄 Itération 13 / 25\n"
     ]
    },
    {
     "name": "stderr",
     "output_type": "stream",
     "text": [
      "  2%|▏         | 3/200 [00:05<06:09,  1.87s/it]"
     ]
    },
    {
     "name": "stdout",
     "output_type": "stream",
     "text": [
      "Early stopping at iteration 4: No significant improvement for 3 iterations\n"
     ]
    },
    {
     "name": "stderr",
     "output_type": "stream",
     "text": [
      "\n"
     ]
    },
    {
     "name": "stdout",
     "output_type": "stream",
     "text": [
      "[LightGBM] [Info] Number of positive: 800, number of negative: 800\n",
      "[LightGBM] [Info] Auto-choosing row-wise multi-threading, the overhead of testing was 0.000132 seconds.\n",
      "You can set `force_row_wise=true` to remove the overhead.\n",
      "And if memory is not enough, you can set `force_col_wise=true`.\n",
      "[LightGBM] [Info] Total Bins 556\n",
      "[LightGBM] [Info] Number of data points in the train set: 1600, number of used features: 8\n",
      "[LightGBM] [Info] [binary:BoostFromScore]: pavg=0.500000 -> initscore=0.000000\n",
      "\n",
      "🔄 Itération 14 / 25\n"
     ]
    },
    {
     "name": "stderr",
     "output_type": "stream",
     "text": [
      "  2%|▏         | 4/200 [00:08<07:14,  2.21s/it]"
     ]
    },
    {
     "name": "stdout",
     "output_type": "stream",
     "text": [
      "Early stopping at iteration 5: No significant improvement for 3 iterations\n"
     ]
    },
    {
     "name": "stderr",
     "output_type": "stream",
     "text": [
      "\n"
     ]
    },
    {
     "name": "stdout",
     "output_type": "stream",
     "text": [
      "[LightGBM] [Info] Number of positive: 800, number of negative: 800\n",
      "[LightGBM] [Info] Auto-choosing row-wise multi-threading, the overhead of testing was 0.000082 seconds.\n",
      "You can set `force_row_wise=true` to remove the overhead.\n",
      "And if memory is not enough, you can set `force_col_wise=true`.\n",
      "[LightGBM] [Info] Total Bins 551\n",
      "[LightGBM] [Info] Number of data points in the train set: 1600, number of used features: 8\n",
      "[LightGBM] [Info] [binary:BoostFromScore]: pavg=0.500000 -> initscore=0.000000\n",
      "\n",
      "🔄 Itération 15 / 25\n"
     ]
    },
    {
     "name": "stderr",
     "output_type": "stream",
     "text": [
      "  2%|▏         | 4/200 [00:06<05:28,  1.67s/it]"
     ]
    },
    {
     "name": "stdout",
     "output_type": "stream",
     "text": [
      "Early stopping at iteration 5: No significant improvement for 3 iterations\n"
     ]
    },
    {
     "name": "stderr",
     "output_type": "stream",
     "text": [
      "\n"
     ]
    },
    {
     "name": "stdout",
     "output_type": "stream",
     "text": [
      "[LightGBM] [Info] Number of positive: 800, number of negative: 800\n",
      "[LightGBM] [Info] Auto-choosing row-wise multi-threading, the overhead of testing was 0.000133 seconds.\n",
      "You can set `force_row_wise=true` to remove the overhead.\n",
      "And if memory is not enough, you can set `force_col_wise=true`.\n",
      "[LightGBM] [Info] Total Bins 551\n",
      "[LightGBM] [Info] Number of data points in the train set: 1600, number of used features: 8\n",
      "[LightGBM] [Info] [binary:BoostFromScore]: pavg=0.500000 -> initscore=0.000000\n",
      "\n",
      "🔄 Itération 16 / 25\n"
     ]
    },
    {
     "name": "stderr",
     "output_type": "stream",
     "text": [
      "  2%|▏         | 3/200 [00:05<06:15,  1.90s/it]"
     ]
    },
    {
     "name": "stdout",
     "output_type": "stream",
     "text": [
      "Early stopping at iteration 4: No significant improvement for 3 iterations\n"
     ]
    },
    {
     "name": "stderr",
     "output_type": "stream",
     "text": [
      "\n"
     ]
    },
    {
     "name": "stdout",
     "output_type": "stream",
     "text": [
      "[LightGBM] [Info] Number of positive: 800, number of negative: 800\n",
      "[LightGBM] [Info] Auto-choosing row-wise multi-threading, the overhead of testing was 0.000079 seconds.\n",
      "You can set `force_row_wise=true` to remove the overhead.\n",
      "And if memory is not enough, you can set `force_col_wise=true`.\n",
      "[LightGBM] [Info] Total Bins 555\n",
      "[LightGBM] [Info] Number of data points in the train set: 1600, number of used features: 8\n",
      "[LightGBM] [Info] [binary:BoostFromScore]: pavg=0.500000 -> initscore=0.000000\n",
      "\n",
      "🔄 Itération 17 / 25\n"
     ]
    },
    {
     "name": "stderr",
     "output_type": "stream",
     "text": [
      "  2%|▏         | 4/200 [00:08<06:42,  2.05s/it]"
     ]
    },
    {
     "name": "stdout",
     "output_type": "stream",
     "text": [
      "Early stopping at iteration 5: No significant improvement for 3 iterations\n"
     ]
    },
    {
     "name": "stderr",
     "output_type": "stream",
     "text": [
      "\n"
     ]
    },
    {
     "name": "stdout",
     "output_type": "stream",
     "text": [
      "[LightGBM] [Info] Number of positive: 800, number of negative: 800\n",
      "[LightGBM] [Info] Auto-choosing row-wise multi-threading, the overhead of testing was 0.000079 seconds.\n",
      "You can set `force_row_wise=true` to remove the overhead.\n",
      "And if memory is not enough, you can set `force_col_wise=true`.\n",
      "[LightGBM] [Info] Total Bins 557\n",
      "[LightGBM] [Info] Number of data points in the train set: 1600, number of used features: 8\n",
      "[LightGBM] [Info] [binary:BoostFromScore]: pavg=0.500000 -> initscore=0.000000\n",
      "\n",
      "🔄 Itération 18 / 25\n"
     ]
    },
    {
     "name": "stderr",
     "output_type": "stream",
     "text": [
      "  2%|▏         | 3/200 [00:07<08:02,  2.45s/it]"
     ]
    },
    {
     "name": "stdout",
     "output_type": "stream",
     "text": [
      "Early stopping at iteration 4: No significant improvement for 3 iterations\n"
     ]
    },
    {
     "name": "stderr",
     "output_type": "stream",
     "text": [
      "\n"
     ]
    },
    {
     "name": "stdout",
     "output_type": "stream",
     "text": [
      "[LightGBM] [Info] Number of positive: 800, number of negative: 800\n",
      "[LightGBM] [Info] Auto-choosing row-wise multi-threading, the overhead of testing was 0.000085 seconds.\n",
      "You can set `force_row_wise=true` to remove the overhead.\n",
      "And if memory is not enough, you can set `force_col_wise=true`.\n",
      "[LightGBM] [Info] Total Bins 555\n",
      "[LightGBM] [Info] Number of data points in the train set: 1600, number of used features: 8\n",
      "[LightGBM] [Info] [binary:BoostFromScore]: pavg=0.500000 -> initscore=0.000000\n",
      "\n",
      "🔄 Itération 19 / 25\n"
     ]
    },
    {
     "name": "stderr",
     "output_type": "stream",
     "text": [
      "  2%|▏         | 3/200 [00:05<05:56,  1.81s/it]"
     ]
    },
    {
     "name": "stdout",
     "output_type": "stream",
     "text": [
      "Early stopping at iteration 4: No significant improvement for 3 iterations\n"
     ]
    },
    {
     "name": "stderr",
     "output_type": "stream",
     "text": [
      "\n"
     ]
    },
    {
     "name": "stdout",
     "output_type": "stream",
     "text": [
      "[LightGBM] [Info] Number of positive: 800, number of negative: 800\n",
      "[LightGBM] [Info] Auto-choosing row-wise multi-threading, the overhead of testing was 0.000102 seconds.\n",
      "You can set `force_row_wise=true` to remove the overhead.\n",
      "And if memory is not enough, you can set `force_col_wise=true`.\n",
      "[LightGBM] [Info] Total Bins 559\n",
      "[LightGBM] [Info] Number of data points in the train set: 1600, number of used features: 8\n",
      "[LightGBM] [Info] [binary:BoostFromScore]: pavg=0.500000 -> initscore=0.000000\n",
      "\n",
      "🔄 Itération 20 / 25\n"
     ]
    },
    {
     "name": "stderr",
     "output_type": "stream",
     "text": [
      "  2%|▏         | 3/200 [00:04<05:04,  1.55s/it]"
     ]
    },
    {
     "name": "stdout",
     "output_type": "stream",
     "text": [
      "Early stopping at iteration 4: No significant improvement for 3 iterations\n"
     ]
    },
    {
     "name": "stderr",
     "output_type": "stream",
     "text": [
      "\n"
     ]
    },
    {
     "name": "stdout",
     "output_type": "stream",
     "text": [
      "[LightGBM] [Info] Number of positive: 800, number of negative: 800\n",
      "[LightGBM] [Info] Auto-choosing row-wise multi-threading, the overhead of testing was 0.000088 seconds.\n",
      "You can set `force_row_wise=true` to remove the overhead.\n",
      "And if memory is not enough, you can set `force_col_wise=true`.\n",
      "[LightGBM] [Info] Total Bins 555\n",
      "[LightGBM] [Info] Number of data points in the train set: 1600, number of used features: 8\n",
      "[LightGBM] [Info] [binary:BoostFromScore]: pavg=0.500000 -> initscore=0.000000\n",
      "\n",
      "🔄 Itération 21 / 25\n"
     ]
    },
    {
     "name": "stderr",
     "output_type": "stream",
     "text": [
      "  2%|▏         | 3/200 [00:08<08:49,  2.69s/it]"
     ]
    },
    {
     "name": "stdout",
     "output_type": "stream",
     "text": [
      "Early stopping at iteration 4: No significant improvement for 3 iterations\n"
     ]
    },
    {
     "name": "stderr",
     "output_type": "stream",
     "text": [
      "\n"
     ]
    },
    {
     "name": "stdout",
     "output_type": "stream",
     "text": [
      "[LightGBM] [Info] Number of positive: 800, number of negative: 800\n",
      "[LightGBM] [Info] Auto-choosing row-wise multi-threading, the overhead of testing was 0.000083 seconds.\n",
      "You can set `force_row_wise=true` to remove the overhead.\n",
      "And if memory is not enough, you can set `force_col_wise=true`.\n",
      "[LightGBM] [Info] Total Bins 553\n",
      "[LightGBM] [Info] Number of data points in the train set: 1600, number of used features: 8\n",
      "[LightGBM] [Info] [binary:BoostFromScore]: pavg=0.500000 -> initscore=0.000000\n",
      "\n",
      "🔄 Itération 22 / 25\n"
     ]
    },
    {
     "name": "stderr",
     "output_type": "stream",
     "text": [
      "  2%|▏         | 3/200 [00:05<05:47,  1.76s/it]"
     ]
    },
    {
     "name": "stdout",
     "output_type": "stream",
     "text": [
      "Early stopping at iteration 4: No significant improvement for 3 iterations\n"
     ]
    },
    {
     "name": "stderr",
     "output_type": "stream",
     "text": [
      "\n"
     ]
    },
    {
     "name": "stdout",
     "output_type": "stream",
     "text": [
      "[LightGBM] [Info] Number of positive: 800, number of negative: 800\n",
      "[LightGBM] [Info] Auto-choosing row-wise multi-threading, the overhead of testing was 0.000179 seconds.\n",
      "You can set `force_row_wise=true` to remove the overhead.\n",
      "And if memory is not enough, you can set `force_col_wise=true`.\n",
      "[LightGBM] [Info] Total Bins 551\n",
      "[LightGBM] [Info] Number of data points in the train set: 1600, number of used features: 8\n",
      "[LightGBM] [Info] [binary:BoostFromScore]: pavg=0.500000 -> initscore=0.000000\n",
      "\n",
      "🔄 Itération 23 / 25\n"
     ]
    },
    {
     "name": "stderr",
     "output_type": "stream",
     "text": [
      "  2%|▏         | 4/200 [00:13<10:57,  3.36s/it]"
     ]
    },
    {
     "name": "stdout",
     "output_type": "stream",
     "text": [
      "Early stopping at iteration 5: No significant improvement for 3 iterations\n"
     ]
    },
    {
     "name": "stderr",
     "output_type": "stream",
     "text": [
      "\n"
     ]
    },
    {
     "name": "stdout",
     "output_type": "stream",
     "text": [
      "[LightGBM] [Info] Number of positive: 800, number of negative: 800\n",
      "[LightGBM] [Info] Auto-choosing row-wise multi-threading, the overhead of testing was 0.000289 seconds.\n",
      "You can set `force_row_wise=true` to remove the overhead.\n",
      "And if memory is not enough, you can set `force_col_wise=true`.\n",
      "[LightGBM] [Info] Total Bins 556\n",
      "[LightGBM] [Info] Number of data points in the train set: 1600, number of used features: 8\n",
      "[LightGBM] [Info] [binary:BoostFromScore]: pavg=0.500000 -> initscore=0.000000\n",
      "\n",
      "🔄 Itération 24 / 25\n"
     ]
    },
    {
     "name": "stderr",
     "output_type": "stream",
     "text": [
      "  2%|▏         | 3/200 [00:06<07:14,  2.21s/it]"
     ]
    },
    {
     "name": "stdout",
     "output_type": "stream",
     "text": [
      "Early stopping at iteration 4: No significant improvement for 3 iterations\n"
     ]
    },
    {
     "name": "stderr",
     "output_type": "stream",
     "text": [
      "\n"
     ]
    },
    {
     "name": "stdout",
     "output_type": "stream",
     "text": [
      "[LightGBM] [Info] Number of positive: 800, number of negative: 800\n",
      "[LightGBM] [Info] Auto-choosing row-wise multi-threading, the overhead of testing was 0.000085 seconds.\n",
      "You can set `force_row_wise=true` to remove the overhead.\n",
      "And if memory is not enough, you can set `force_col_wise=true`.\n",
      "[LightGBM] [Info] Total Bins 556\n",
      "[LightGBM] [Info] Number of data points in the train set: 1600, number of used features: 8\n",
      "[LightGBM] [Info] [binary:BoostFromScore]: pavg=0.500000 -> initscore=0.000000\n",
      "\n",
      "🔄 Itération 25 / 25\n"
     ]
    },
    {
     "name": "stderr",
     "output_type": "stream",
     "text": [
      "  2%|▏         | 3/200 [00:06<07:19,  2.23s/it]"
     ]
    },
    {
     "name": "stdout",
     "output_type": "stream",
     "text": [
      "Early stopping at iteration 4: No significant improvement for 3 iterations\n"
     ]
    },
    {
     "name": "stderr",
     "output_type": "stream",
     "text": [
      "\n"
     ]
    },
    {
     "name": "stdout",
     "output_type": "stream",
     "text": [
      "[LightGBM] [Info] Number of positive: 800, number of negative: 800\n",
      "[LightGBM] [Info] Auto-choosing col-wise multi-threading, the overhead of testing was 0.000402 seconds.\n",
      "You can set `force_col_wise=true` to remove the overhead.\n",
      "[LightGBM] [Info] Total Bins 552\n",
      "[LightGBM] [Info] Number of data points in the train set: 1600, number of used features: 8\n",
      "[LightGBM] [Info] [binary:BoostFromScore]: pavg=0.500000 -> initscore=0.000000\n",
      "\n",
      "✅ Tous les résultats détaillés ont été sauvegardés dans 'train_runs/all_training_results.csv'.\n",
      "\n",
      "📋 Tableau des moyennes des métriques sur 25 runs :\n",
      "\n",
      "                 Model     AUC  Accuracy  Precision  Recall  F1-Score\n",
      "0        LogisticCEMD2  0.6452    0.6080     0.6013  0.6424    0.6207\n",
      "1  Logistic Regression  0.5635    0.5418     0.5533  0.4358    0.4873\n",
      "2                  MLP  0.5149    0.5043     0.2899  0.4414    0.3141\n",
      "3                  SVM  0.5520    0.5428     0.5405  0.5688    0.5537\n",
      "4        Random Forest  0.6028    0.5760     0.5772  0.5706    0.5734\n",
      "5             LightGBM  0.6060    0.5737     0.5725  0.5834    0.5776\n",
      "6              XGBoost  0.5909    0.5656     0.5647  0.5728    0.5684\n",
      "7          LogisticCEM  0.6296    0.5943     0.5918  0.6042    0.5969\n",
      "\n",
      "📈 Analyse Autorank pour la métrique : AUC\n"
     ]
    },
    {
     "data": {
      "image/png": "[encoded data removed]",
      "text/plain": [
       "<Figure size 600x245 with 1 Axes>"
      ]
     },
     "metadata": {},
     "output_type": "display_data"
    },
    {
     "name": "stdout",
     "output_type": "stream",
     "text": [
      "The statistical analysis was conducted for 8 populations with 25 paired samples.\n",
      "The family-wise significance level of the tests is alpha=0.050.\n",
      "We failed to reject the null hypothesis that the population is normal for all populations (minimal observed p-value=0.286). Therefore, we assume that all populations are normal.\n",
      "We applied Bartlett's test for homogeneity and reject the null hypothesis (p=0.000) that thedata is homoscedastic. Thus, we assume that our data is heteroscedastic.\n",
      "Because we have more than two populations and the populations are normal but heteroscedastic, we use the non-parametric Friedman test as omnibus test to determine if there are any significant differences between the mean values of the populations. We use the post-hoc Nemenyi test to infer which differences are significant. We report the mean value (M), the standard deviation (SD) and the mean rank (MR) among all populations over the samples. Differences between populations are significant, if the difference of the mean rank is greater than the critical distance CD=2.100 of the Nemenyi test.\n",
      "We reject the null hypothesis (p=0.000) of the Friedman test that there is no difference in the central tendency of the populations MLP (M=0.515+-0.031, SD=0.052, MR=7.280), SVM (M=0.552+-0.013, SD=0.022, MR=6.960), Logistic Regression (M=0.563+-0.015, SD=0.025, MR=5.600), XGBoost (M=0.591+-0.014, SD=0.023, MR=5.040), Random Forest (M=0.603+-0.013, SD=0.021, MR=3.960), LightGBM (M=0.606+-0.013, SD=0.022, MR=3.480), LogisticCEM (M=0.630+-0.019, SD=0.032, MR=2.320), and LogisticCEMD2 (M=0.645+-0.012, SD=0.019, MR=1.360). Therefore, we assume that there is a statistically significant difference between the median values of the populations.\n",
      "Based on the post-hoc Nemenyi test, we assume that there are no significant differences within the following groups: MLP, SVM, and Logistic Regression; SVM, Logistic Regression, and XGBoost; Logistic Regression, XGBoost, and Random Forest; XGBoost, Random Forest, and LightGBM; Random Forest, LightGBM, and LogisticCEM; LogisticCEM and LogisticCEMD2. All other differences are significant.\n",
      "None\n",
      "\n",
      "📈 Analyse Autorank pour la métrique : ACCURACY\n"
     ]
    },
    {
     "data": {
      "image/png": "[encoded data removed]",
      "text/plain": [
       "<Figure size 600x235 with 1 Axes>"
      ]
     },
     "metadata": {},
     "output_type": "display_data"
    },
    {
     "name": "stdout",
     "output_type": "stream",
     "text": [
      "The statistical analysis was conducted for 8 populations with 25 paired samples.\n",
      "The family-wise significance level of the tests is alpha=0.050.\n",
      "We rejected the null hypothesis that the population is normal for the population XGBoost (p=0.000). Therefore, we assume that not all populations are normal.\n",
      "Because we have more than two populations and the populations and one of them is not normal, we use the non-parametric Friedman test as omnibus test to determine if there are any significant differences between the median values of the populations. We use the post-hoc Nemenyi test to infer which differences are significant. We report the median (MD), the median absolute deviation (MAD) and the mean rank (MR) among all populations over the samples. Differences between populations are significant, if the difference of the mean rank is greater than the critical distance CD=2.100 of the Nemenyi test.\n",
      "We reject the null hypothesis (p=0.000) of the Friedman test that there is no difference in the central tendency of the populations MLP (MD=0.500+-0.021, MAD=0.000, MR=7.860), Logistic Regression (MD=0.540+-0.028, MAD=0.012, MR=6.080), SVM (MD=0.540+-0.029, MAD=0.012, MR=5.860), XGBoost (MD=0.562+-0.025, MAD=0.015, MR=4.520), LightGBM (MD=0.575+-0.031, MAD=0.015, MR=3.940), Random Forest (MD=0.575+-0.031, MAD=0.010, MR=3.620), LogisticCEM (MD=0.595+-0.037, MAD=0.017, MR=2.640), and LogisticCEMD2 (MD=0.608+-0.023, MAD=0.013, MR=1.480). Therefore, we assume that there is a statistically significant difference between the median values of the populations.\n",
      "Based on the post-hoc Nemenyi test, we assume that there are no significant differences within the following groups: MLP, Logistic Regression, and SVM; Logistic Regression, SVM, and XGBoost; SVM, XGBoost, and LightGBM; XGBoost, LightGBM, Random Forest, and LogisticCEM; LogisticCEM and LogisticCEMD2. All other differences are significant.\n",
      "None\n",
      "\n",
      "📈 Analyse Autorank pour la métrique : PRECISION\n"
     ]
    },
    {
     "data": {
      "image/png": "[encoded data removed]",
      "text/plain": [
       "<Figure size 600x235 with 1 Axes>"
      ]
     },
     "metadata": {},
     "output_type": "display_data"
    },
    {
     "name": "stdout",
     "output_type": "stream",
     "text": [
      "The statistical analysis was conducted for 8 populations with 25 paired samples.\n",
      "The family-wise significance level of the tests is alpha=0.050.\n",
      "We rejected the null hypothesis that the population is normal for the population SVM (p=0.000). Therefore, we assume that not all populations are normal.\n",
      "Because we have more than two populations and the populations and one of them is not normal, we use the non-parametric Friedman test as omnibus test to determine if there are any significant differences between the median values of the populations. We use the post-hoc Nemenyi test to infer which differences are significant. We report the median (MD), the median absolute deviation (MAD) and the mean rank (MR) among all populations over the samples. Differences between populations are significant, if the difference of the mean rank is greater than the critical distance CD=2.100 of the Nemenyi test.\n",
      "We reject the null hypothesis (p=0.000) of the Friedman test that there is no difference in the central tendency of the populations MLP (MD=0.499+-0.269, MAD=0.047, MR=7.920), SVM (MD=0.538+-0.024, MAD=0.013, MR=6.080), Logistic Regression (MD=0.554+-0.034, MAD=0.016, MR=5.240), XGBoost (MD=0.564+-0.026, MAD=0.016, MR=4.880), LightGBM (MD=0.574+-0.033, MAD=0.016, MR=4.080), Random Forest (MD=0.576+-0.035, MAD=0.013, MR=3.560), LogisticCEM (MD=0.593+-0.027, MAD=0.013, MR=2.560), and LogisticCEMD2 (MD=0.600+-0.026, MAD=0.010, MR=1.680). Therefore, we assume that there is a statistically significant difference between the median values of the populations.\n",
      "Based on the post-hoc Nemenyi test, we assume that there are no significant differences within the following groups: MLP and SVM; SVM, Logistic Regression, XGBoost, and LightGBM; Logistic Regression, XGBoost, LightGBM, and Random Forest; LightGBM, Random Forest, and LogisticCEM; Random Forest, LogisticCEM, and LogisticCEMD2. All other differences are significant.\n",
      "None\n",
      "\n",
      "📈 Analyse Autorank pour la métrique : RECALL\n"
     ]
    },
    {
     "data": {
      "image/png": "[encoded data removed]",
      "text/plain": [
       "<Figure size 600x205 with 1 Axes>"
      ]
     },
     "metadata": {},
     "output_type": "display_data"
    },
    {
     "name": "stdout",
     "output_type": "stream",
     "text": [
      "The statistical analysis was conducted for 8 populations with 25 paired samples.\n",
      "The family-wise significance level of the tests is alpha=0.050.\n",
      "We rejected the null hypothesis that the population is normal for the population MLP (p=0.000). Therefore, we assume that not all populations are normal.\n",
      "Because we have more than two populations and the populations and one of them is not normal, we use the non-parametric Friedman test as omnibus test to determine if there are any significant differences between the median values of the populations. We use the post-hoc Nemenyi test to infer which differences are significant. We report the median (MD), the median absolute deviation (MAD) and the mean rank (MR) among all populations over the samples. Differences between populations are significant, if the difference of the mean rank is greater than the critical distance CD=2.100 of the Nemenyi test.\n",
      "We reject the null hypothesis (p=0.000) of the Friedman test that there is no difference in the central tendency of the populations Logistic Regression (MD=0.435+-0.033, MAD=0.020, MR=7.480), SVM (MD=0.570+-0.065, MAD=0.030, MR=4.920), MLP (MD=0.015+-0.500, MAD=0.015, MR=4.840), Random Forest (MD=0.580+-0.042, MAD=0.030, MR=4.660), XGBoost (MD=0.575+-0.042, MAD=0.025, MR=4.600), LightGBM (MD=0.590+-0.040, MAD=0.020, MR=3.820), LogisticCEM (MD=0.615+-0.073, MAD=0.040, MR=3.420), and LogisticCEMD2 (MD=0.645+-0.045, MAD=0.030, MR=2.260). Therefore, we assume that there is a statistically significant difference between the median values of the populations.\n",
      "Based on the post-hoc Nemenyi test, we assume that there are no significant differences within the following groups: SVM, MLP, Random Forest, XGBoost, LightGBM, and LogisticCEM; LightGBM, LogisticCEM, and LogisticCEMD2. All other differences are significant.\n",
      "None\n",
      "\n",
      "📈 Analyse Autorank pour la métrique : F1\n"
     ]
    },
    {
     "data": {
      "image/png": "[encoded data removed]",
      "text/plain": [
       "<Figure size 600x225 with 1 Axes>"
      ]
     },
     "metadata": {},
     "output_type": "display_data"
    },
    {
     "name": "stdout",
     "output_type": "stream",
     "text": [
      "The statistical analysis was conducted for 8 populations with 25 paired samples.\n",
      "The family-wise significance level of the tests is alpha=0.050.\n",
      "We rejected the null hypothesis that the population is normal for the population MLP (p=0.000). Therefore, we assume that not all populations are normal.\n",
      "Because we have more than two populations and the populations and one of them is not normal, we use the non-parametric Friedman test as omnibus test to determine if there are any significant differences between the median values of the populations. We use the post-hoc Nemenyi test to infer which differences are significant. We report the median (MD), the median absolute deviation (MAD) and the mean rank (MR) among all populations over the samples. Differences between populations are significant, if the difference of the mean rank is greater than the critical distance CD=2.100 of the Nemenyi test.\n",
      "We reject the null hypothesis (p=0.000) of the Friedman test that there is no difference in the central tendency of the populations Logistic Regression (MD=0.489+-0.028, MAD=0.016, MR=7.360), SVM (MD=0.552+-0.044, MAD=0.022, MR=5.480), MLP (MD=0.029+-0.333, MAD=0.029, MR=4.940), XGBoost (MD=0.565+-0.027, MAD=0.022, MR=4.600), Random Forest (MD=0.577+-0.029, MAD=0.017, MR=4.360), LightGBM (MD=0.582+-0.035, MAD=0.016, MR=3.960), LogisticCEM (MD=0.602+-0.048, MAD=0.022, MR=3.260), and LogisticCEMD2 (MD=0.622+-0.032, MAD=0.013, MR=2.040). Therefore, we assume that there is a statistically significant difference between the median values of the populations.\n",
      "Based on the post-hoc Nemenyi test, we assume that there are no significant differences within the following groups: Logistic Regression and SVM; SVM, MLP, XGBoost, Random Forest, and LightGBM; MLP, XGBoost, Random Forest, LightGBM, and LogisticCEM; LightGBM, LogisticCEM, and LogisticCEMD2. All other differences are significant.\n",
      "None\n"
     ]
    }
   ],
   "source": [
    "import numpy as np\n",
    "import pandas as pd\n",
    "import os\n",
    "from sklearn.model_selection import train_test_split\n",
    "from sklearn.metrics import accuracy_score, precision_score, recall_score, f1_score, roc_auc_score\n",
    "from sklearn.svm import SVC\n",
    "from sklearn.ensemble import RandomForestClassifier\n",
    "from sklearn.neural_network import MLPClassifier\n",
    "from lightgbm import LGBMClassifier\n",
    "from xgboost import XGBClassifier\n",
    "from sklearn.linear_model import LogisticRegression\n",
    "from autorank import autorank, plot_stats, create_report\n",
    "import matplotlib.pyplot as plt\n",
    "\n",
    "# from your_module import LogisticCEMClassifier, LogisticCEMd2\n",
    "\n",
    "# Définir les modèles\n",
    "models = {\n",
    "    \"LogisticCEMD2\": LogisticCEMd2(learning_rate=0.01, max_iter=200, epsilon=1e-5, degree=2, C=1.0,\n",
    "                 use_interactions=True, interactions_only=False, random_state=42,\n",
    "                 early_stopping=True, n_jobs=-1, penalty='l1'),\n",
    "    \"Logistic Regression\": LogisticRegression(max_iter=500, solver='saga'),\n",
    "    \"MLP\": MLPClassifier(hidden_layer_sizes=(50, 50, 50), max_iter=500),\n",
    "    \"SVM\": SVC(probability=True, random_state=42),\n",
    "    \"Random Forest\": RandomForestClassifier(),\n",
    "    \"LightGBM\": LGBMClassifier(),\n",
    "    \"XGBoost\": XGBClassifier(use_label_encoder=False, eval_metric='logloss'),\n",
    "    \"LogisticCEM\": LogisticCEMClassifier() }\n",
    "\n",
    "# Initialiser les métriques\n",
    "results = {\n",
    "    'auc': {model: [] for model in models},\n",
    "    'accuracy': {model: [] for model in models},\n",
    "    'precision': {model: [] for model in models},\n",
    "    'recall': {model: [] for model in models},\n",
    "    'f1': {model: [] for model in models}\n",
    "}\n",
    "\n",
    "# Liste pour sauvegarder chaque résultat dans un seul dataframe\n",
    "full_training_log = []\n",
    "\n",
    "# Créer un dossier pour sauvegarder les datasets\n",
    "os.makedirs(\"train_runs\", exist_ok=True)\n",
    "\n",
    "# Boucle principale\n",
    "for i in range(25):\n",
    "    print(f\"\\n🔄 Itération {i+1} / 25\")\n",
    "\n",
    "    # Échantillonnage\n",
    "    X_rejected_sample = loans_rejected.sample(n=25000, random_state=42)\n",
    "\n",
    "    class_0 = loans_accepted[loans_accepted[\"Class\"] == 0]\n",
    "    class_1 = loans_accepted[loans_accepted[\"Class\"] == 1]\n",
    "\n",
    "    class_0_sample = class_0.sample(n=1000, random_state=42)\n",
    "    class_1_sample = class_1.sample(n=1000, random_state=42)\n",
    "\n",
    "    loans_accepted_balanced_1 = pd.concat([class_0_sample, class_1_sample]).sample(frac=1, random_state=42).reset_index(drop=True)\n",
    "\n",
    "    # Split\n",
    "    X_train, X_test, y_train, y_test = train_test_split(\n",
    "        loans_accepted_balanced_1.drop(columns=[\"Class\"]),\n",
    "        loans_accepted_balanced_1[\"Class\"],\n",
    "        test_size=0.2,\n",
    "        stratify=loans_accepted_balanced_1[\"Class\"]\n",
    "    )\n",
    "\n",
    "    # Ajouter rejetés\n",
    "    X_train_full = pd.concat([X_train, X_rejected_sample])\n",
    "    y_rejected = pd.Series([-1] * len(X_rejected_sample), index=X_rejected_sample.index)\n",
    "    y_train_full = pd.concat([y_train, y_rejected])\n",
    "\n",
    "    # Sauvegarde dans un fichier CSV\n",
    "    train_data_save = X_train_full.copy()\n",
    "    train_data_save[\"Class\"] = y_train_full\n",
    "    train_data_save.to_csv(f\"train_runs/train_data_run_{i+1}.csv\", index=False)\n",
    "\n",
    "    # Entraînement et évaluation\n",
    "    for name, model in models.items():\n",
    "        if name in [\"LogisticCEMD2\", \"LogisticCEM\",\"LogisticCEMD2plus\"]:\n",
    "            model.fit(X_train_full[y_train_full != -1], y_train_full[y_train_full != -1], X_train_full[y_train_full == -1])\n",
    "        else:\n",
    "            model.fit(X_train_full[y_train_full != -1], y_train_full[y_train_full != -1])\n",
    "\n",
    "        y_pred = model.predict(X_test)\n",
    "        y_proba = model.predict_proba(X_test)[:, 1]\n",
    "\n",
    "        # Sauvegarder les résultats\n",
    "        auc = roc_auc_score(y_test, y_proba)\n",
    "        accuracy = accuracy_score(y_test, y_pred)\n",
    "        precision = precision_score(y_test, y_pred)\n",
    "        recall = recall_score(y_test, y_pred)\n",
    "        f1 = f1_score(y_test, y_pred)\n",
    "\n",
    "        results['auc'][name].append(auc)\n",
    "        results['accuracy'][name].append(accuracy)\n",
    "        results['precision'][name].append(precision)\n",
    "        results['recall'][name].append(recall)\n",
    "        results['f1'][name].append(f1)\n",
    "\n",
    "        # Ajouter à full_training_log\n",
    "        full_training_log.append({\n",
    "            'Run': i + 1,\n",
    "            'Model': name,\n",
    "            'AUC': auc,\n",
    "            'Accuracy': accuracy,\n",
    "            'Precision': precision,\n",
    "            'Recall': recall,\n",
    "            'F1-Score': f1\n",
    "        })\n",
    "\n",
    "# Après toutes les itérations : sauvegarde du fichier CSV avec tous les runs\n",
    "full_training_log_df = pd.DataFrame(full_training_log)\n",
    "full_training_log_df.to_csv(\"train_runs/all_training_results.csv\", index=False)\n",
    "\n",
    "print(\"\\n✅ Tous les résultats détaillés ont été sauvegardés dans 'train_runs/all_training_results.csv'.\")\n",
    "\n",
    "# Résumé des résultats\n",
    "summary_table = pd.DataFrame({\n",
    "    'Model': list(models.keys()),\n",
    "    'AUC': [np.mean(results['auc'][model]) for model in models],\n",
    "    'Accuracy': [np.mean(results['accuracy'][model]) for model in models],\n",
    "    'Precision': [np.mean(results['precision'][model]) for model in models],\n",
    "    'Recall': [np.mean(results['recall'][model]) for model in models],\n",
    "    'F1-Score': [np.mean(results['f1'][model]) for model in models]\n",
    "}).round(4)\n",
    "\n",
    "print(\"\\n📋 Tableau des moyennes des métriques sur 25 runs :\\n\")\n",
    "print(summary_table)\n",
    "\n",
    "# Analyse statistique avec autorank\n",
    "for metric in ['auc', 'accuracy', 'precision', 'recall', 'f1']:\n",
    "    print(f\"\\n📈 Analyse Autorank pour la métrique : {metric.upper()}\")\n",
    "    metric_df = pd.DataFrame(results[metric])\n",
    "    rank_result = autorank(metric_df, alpha=0.05, verbose=False)\n",
    "    plot_stats(rank_result)\n",
    "    plt.title(f\"Critical Difference Diagram - {metric.upper()}\")\n",
    "    plt.tight_layout()\n",
    "    plt.show()\n",
    "    print(create_report(rank_result))\n"
   ]
  },
  {
   "cell_type": "markdown",
   "metadata": {},
   "source": [
    "# 50 reps"
   ]
  },
  {
   "cell_type": "code",
   "execution_count": null,
   "metadata": {},
   "outputs": [
    {
     "name": "stdout",
     "output_type": "stream",
     "text": [
      "\n",
      "🔄 Itération 1 / 50\n"
     ]
    },
    {
     "name": "stderr",
     "output_type": "stream",
     "text": [
      "  2%|▏         | 3/200 [00:07<07:50,  2.39s/it]"
     ]
    },
    {
     "name": "stdout",
     "output_type": "stream",
     "text": [
      "Early stopping at iteration 4: No significant improvement for 3 iterations\n"
     ]
    },
    {
     "name": "stderr",
     "output_type": "stream",
     "text": [
      "\n"
     ]
    },
    {
     "name": "stdout",
     "output_type": "stream",
     "text": [
      "[LightGBM] [Info] Number of positive: 800, number of negative: 800\n",
      "[LightGBM] [Info] Auto-choosing col-wise multi-threading, the overhead of testing was 0.001158 seconds.\n",
      "You can set `force_col_wise=true` to remove the overhead.\n",
      "[LightGBM] [Info] Total Bins 558\n",
      "[LightGBM] [Info] Number of data points in the train set: 1600, number of used features: 8\n",
      "[LightGBM] [Info] [binary:BoostFromScore]: pavg=0.500000 -> initscore=0.000000\n",
      "\n",
      "🔄 Itération 2 / 50\n"
     ]
    },
    {
     "name": "stderr",
     "output_type": "stream",
     "text": [
      "  2%|▏         | 3/200 [00:08<09:24,  2.87s/it]\n"
     ]
    },
    {
     "name": "stdout",
     "output_type": "stream",
     "text": [
      "Early stopping at iteration 4: No significant improvement for 3 iterations\n",
      "[LightGBM] [Info] Number of positive: 800, number of negative: 800\n",
      "[LightGBM] [Info] Auto-choosing row-wise multi-threading, the overhead of testing was 0.000191 seconds.\n",
      "You can set `force_row_wise=true` to remove the overhead.\n",
      "And if memory is not enough, you can set `force_col_wise=true`.\n",
      "[LightGBM] [Info] Total Bins 561\n",
      "[LightGBM] [Info] Number of data points in the train set: 1600, number of used features: 8\n",
      "[LightGBM] [Info] [binary:BoostFromScore]: pavg=0.500000 -> initscore=0.000000\n",
      "\n",
      "🔄 Itération 3 / 50\n"
     ]
    },
    {
     "name": "stderr",
     "output_type": "stream",
     "text": [
      "  2%|▏         | 4/200 [00:12<10:23,  3.18s/it]"
     ]
    },
    {
     "name": "stdout",
     "output_type": "stream",
     "text": [
      "Early stopping at iteration 5: No significant improvement for 3 iterations\n"
     ]
    },
    {
     "name": "stderr",
     "output_type": "stream",
     "text": [
      "\n"
     ]
    },
    {
     "name": "stdout",
     "output_type": "stream",
     "text": [
      "[LightGBM] [Info] Number of positive: 800, number of negative: 800\n",
      "[LightGBM] [Info] Auto-choosing row-wise multi-threading, the overhead of testing was 0.000110 seconds.\n",
      "You can set `force_row_wise=true` to remove the overhead.\n",
      "And if memory is not enough, you can set `force_col_wise=true`.\n",
      "[LightGBM] [Info] Total Bins 555\n",
      "[LightGBM] [Info] Number of data points in the train set: 1600, number of used features: 8\n",
      "[LightGBM] [Info] [binary:BoostFromScore]: pavg=0.500000 -> initscore=0.000000\n",
      "\n",
      "🔄 Itération 4 / 50\n"
     ]
    },
    {
     "name": "stderr",
     "output_type": "stream",
     "text": [
      "  2%|▏         | 4/200 [00:08<07:02,  2.15s/it]"
     ]
    },
    {
     "name": "stdout",
     "output_type": "stream",
     "text": [
      "Early stopping at iteration 5: No significant improvement for 3 iterations\n"
     ]
    },
    {
     "name": "stderr",
     "output_type": "stream",
     "text": [
      "\n"
     ]
    },
    {
     "name": "stdout",
     "output_type": "stream",
     "text": [
      "[LightGBM] [Info] Number of positive: 800, number of negative: 800\n",
      "[LightGBM] [Info] Auto-choosing row-wise multi-threading, the overhead of testing was 0.000078 seconds.\n",
      "You can set `force_row_wise=true` to remove the overhead.\n",
      "And if memory is not enough, you can set `force_col_wise=true`.\n",
      "[LightGBM] [Info] Total Bins 550\n",
      "[LightGBM] [Info] Number of data points in the train set: 1600, number of used features: 8\n",
      "[LightGBM] [Info] [binary:BoostFromScore]: pavg=0.500000 -> initscore=0.000000\n",
      "\n",
      "🔄 Itération 5 / 50\n"
     ]
    },
    {
     "name": "stderr",
     "output_type": "stream",
     "text": [
      "  2%|▏         | 3/200 [00:06<07:22,  2.24s/it]"
     ]
    },
    {
     "name": "stdout",
     "output_type": "stream",
     "text": [
      "Early stopping at iteration 4: No significant improvement for 3 iterations\n"
     ]
    },
    {
     "name": "stderr",
     "output_type": "stream",
     "text": [
      "\n"
     ]
    },
    {
     "name": "stdout",
     "output_type": "stream",
     "text": [
      "[LightGBM] [Info] Number of positive: 800, number of negative: 800\n",
      "[LightGBM] [Info] Auto-choosing col-wise multi-threading, the overhead of testing was 0.000465 seconds.\n",
      "You can set `force_col_wise=true` to remove the overhead.\n",
      "[LightGBM] [Info] Total Bins 551\n",
      "[LightGBM] [Info] Number of data points in the train set: 1600, number of used features: 8\n",
      "[LightGBM] [Info] [binary:BoostFromScore]: pavg=0.500000 -> initscore=0.000000\n",
      "\n",
      "🔄 Itération 6 / 50\n"
     ]
    },
    {
     "name": "stderr",
     "output_type": "stream",
     "text": [
      "  2%|▏         | 4/200 [00:08<07:04,  2.17s/it]"
     ]
    },
    {
     "name": "stdout",
     "output_type": "stream",
     "text": [
      "Early stopping at iteration 5: No significant improvement for 3 iterations\n"
     ]
    },
    {
     "name": "stderr",
     "output_type": "stream",
     "text": [
      "\n"
     ]
    },
    {
     "name": "stdout",
     "output_type": "stream",
     "text": [
      "[LightGBM] [Info] Number of positive: 800, number of negative: 800\n",
      "[LightGBM] [Info] Auto-choosing row-wise multi-threading, the overhead of testing was 0.000133 seconds.\n",
      "You can set `force_row_wise=true` to remove the overhead.\n",
      "And if memory is not enough, you can set `force_col_wise=true`.\n",
      "[LightGBM] [Info] Total Bins 552\n",
      "[LightGBM] [Info] Number of data points in the train set: 1600, number of used features: 8\n",
      "[LightGBM] [Info] [binary:BoostFromScore]: pavg=0.500000 -> initscore=0.000000\n",
      "\n",
      "🔄 Itération 7 / 50\n"
     ]
    },
    {
     "name": "stderr",
     "output_type": "stream",
     "text": [
      "  2%|▏         | 3/200 [00:08<09:31,  2.90s/it]"
     ]
    },
    {
     "name": "stdout",
     "output_type": "stream",
     "text": [
      "Early stopping at iteration 4: No significant improvement for 3 iterations\n"
     ]
    },
    {
     "name": "stderr",
     "output_type": "stream",
     "text": [
      "\n"
     ]
    },
    {
     "name": "stdout",
     "output_type": "stream",
     "text": [
      "[LightGBM] [Info] Number of positive: 800, number of negative: 800\n",
      "[LightGBM] [Info] Auto-choosing row-wise multi-threading, the overhead of testing was 0.000081 seconds.\n",
      "You can set `force_row_wise=true` to remove the overhead.\n",
      "And if memory is not enough, you can set `force_col_wise=true`.\n",
      "[LightGBM] [Info] Total Bins 558\n",
      "[LightGBM] [Info] Number of data points in the train set: 1600, number of used features: 8\n",
      "[LightGBM] [Info] [binary:BoostFromScore]: pavg=0.500000 -> initscore=0.000000\n",
      "\n",
      "🔄 Itération 8 / 50\n"
     ]
    },
    {
     "name": "stderr",
     "output_type": "stream",
     "text": [
      "  2%|▏         | 3/200 [00:06<07:32,  2.30s/it]"
     ]
    },
    {
     "name": "stdout",
     "output_type": "stream",
     "text": [
      "Early stopping at iteration 4: No significant improvement for 3 iterations\n"
     ]
    },
    {
     "name": "stderr",
     "output_type": "stream",
     "text": [
      "\n"
     ]
    },
    {
     "name": "stdout",
     "output_type": "stream",
     "text": [
      "[LightGBM] [Info] Number of positive: 800, number of negative: 800\n",
      "[LightGBM] [Info] Auto-choosing row-wise multi-threading, the overhead of testing was 0.000142 seconds.\n",
      "You can set `force_row_wise=true` to remove the overhead.\n",
      "And if memory is not enough, you can set `force_col_wise=true`.\n",
      "[LightGBM] [Info] Total Bins 556\n",
      "[LightGBM] [Info] Number of data points in the train set: 1600, number of used features: 8\n",
      "[LightGBM] [Info] [binary:BoostFromScore]: pavg=0.500000 -> initscore=0.000000\n",
      "\n",
      "🔄 Itération 9 / 50\n"
     ]
    },
    {
     "name": "stderr",
     "output_type": "stream",
     "text": [
      "  2%|▏         | 4/200 [00:12<09:49,  3.01s/it]"
     ]
    },
    {
     "name": "stdout",
     "output_type": "stream",
     "text": [
      "Early stopping at iteration 5: No significant improvement for 3 iterations\n"
     ]
    },
    {
     "name": "stderr",
     "output_type": "stream",
     "text": [
      "\n"
     ]
    },
    {
     "name": "stdout",
     "output_type": "stream",
     "text": [
      "[LightGBM] [Info] Number of positive: 800, number of negative: 800\n",
      "[LightGBM] [Info] Auto-choosing col-wise multi-threading, the overhead of testing was 0.000240 seconds.\n",
      "You can set `force_col_wise=true` to remove the overhead.\n",
      "[LightGBM] [Info] Total Bins 556\n",
      "[LightGBM] [Info] Number of data points in the train set: 1600, number of used features: 8\n",
      "[LightGBM] [Info] [binary:BoostFromScore]: pavg=0.500000 -> initscore=0.000000\n",
      "\n",
      "🔄 Itération 10 / 50\n"
     ]
    },
    {
     "name": "stderr",
     "output_type": "stream",
     "text": [
      "  2%|▏         | 3/200 [00:10<11:48,  3.60s/it]"
     ]
    },
    {
     "name": "stdout",
     "output_type": "stream",
     "text": [
      "Early stopping at iteration 4: No significant improvement for 3 iterations\n"
     ]
    },
    {
     "name": "stderr",
     "output_type": "stream",
     "text": [
      "\n"
     ]
    },
    {
     "name": "stdout",
     "output_type": "stream",
     "text": [
      "[LightGBM] [Info] Number of positive: 800, number of negative: 800\n",
      "[LightGBM] [Info] Auto-choosing row-wise multi-threading, the overhead of testing was 0.000110 seconds.\n",
      "You can set `force_row_wise=true` to remove the overhead.\n",
      "And if memory is not enough, you can set `force_col_wise=true`.\n",
      "[LightGBM] [Info] Total Bins 559\n",
      "[LightGBM] [Info] Number of data points in the train set: 1600, number of used features: 8\n",
      "[LightGBM] [Info] [binary:BoostFromScore]: pavg=0.500000 -> initscore=0.000000\n",
      "\n",
      "🔄 Itération 11 / 50\n"
     ]
    },
    {
     "name": "stderr",
     "output_type": "stream",
     "text": [
      "  2%|▏         | 4/200 [00:09<07:41,  2.35s/it]"
     ]
    },
    {
     "name": "stdout",
     "output_type": "stream",
     "text": [
      "Early stopping at iteration 5: No significant improvement for 3 iterations\n"
     ]
    },
    {
     "name": "stderr",
     "output_type": "stream",
     "text": [
      "\n"
     ]
    },
    {
     "name": "stdout",
     "output_type": "stream",
     "text": [
      "[LightGBM] [Info] Number of positive: 800, number of negative: 800\n",
      "[LightGBM] [Info] Auto-choosing row-wise multi-threading, the overhead of testing was 0.000174 seconds.\n",
      "You can set `force_row_wise=true` to remove the overhead.\n",
      "And if memory is not enough, you can set `force_col_wise=true`.\n",
      "[LightGBM] [Info] Total Bins 553\n",
      "[LightGBM] [Info] Number of data points in the train set: 1600, number of used features: 8\n",
      "[LightGBM] [Info] [binary:BoostFromScore]: pavg=0.500000 -> initscore=0.000000\n",
      "\n",
      "🔄 Itération 12 / 50\n"
     ]
    },
    {
     "name": "stderr",
     "output_type": "stream",
     "text": [
      "  2%|▏         | 3/200 [00:06<07:37,  2.32s/it]"
     ]
    },
    {
     "name": "stdout",
     "output_type": "stream",
     "text": [
      "Early stopping at iteration 4: No significant improvement for 3 iterations\n"
     ]
    },
    {
     "name": "stderr",
     "output_type": "stream",
     "text": [
      "\n"
     ]
    },
    {
     "name": "stdout",
     "output_type": "stream",
     "text": [
      "[LightGBM] [Info] Number of positive: 800, number of negative: 800\n",
      "[LightGBM] [Info] Auto-choosing row-wise multi-threading, the overhead of testing was 0.000102 seconds.\n",
      "You can set `force_row_wise=true` to remove the overhead.\n",
      "And if memory is not enough, you can set `force_col_wise=true`.\n",
      "[LightGBM] [Info] Total Bins 548\n",
      "[LightGBM] [Info] Number of data points in the train set: 1600, number of used features: 8\n",
      "[LightGBM] [Info] [binary:BoostFromScore]: pavg=0.500000 -> initscore=0.000000\n",
      "\n",
      "🔄 Itération 13 / 50\n"
     ]
    },
    {
     "name": "stderr",
     "output_type": "stream",
     "text": [
      "  2%|▏         | 4/200 [00:07<05:49,  1.78s/it]"
     ]
    },
    {
     "name": "stdout",
     "output_type": "stream",
     "text": [
      "Early stopping at iteration 5: No significant improvement for 3 iterations\n"
     ]
    },
    {
     "name": "stderr",
     "output_type": "stream",
     "text": [
      "\n"
     ]
    },
    {
     "name": "stdout",
     "output_type": "stream",
     "text": [
      "[LightGBM] [Info] Number of positive: 800, number of negative: 800\n",
      "[LightGBM] [Info] Auto-choosing row-wise multi-threading, the overhead of testing was 0.000085 seconds.\n",
      "You can set `force_row_wise=true` to remove the overhead.\n",
      "And if memory is not enough, you can set `force_col_wise=true`.\n",
      "[LightGBM] [Info] Total Bins 553\n",
      "[LightGBM] [Info] Number of data points in the train set: 1600, number of used features: 8\n",
      "[LightGBM] [Info] [binary:BoostFromScore]: pavg=0.500000 -> initscore=0.000000\n",
      "\n",
      "🔄 Itération 14 / 50\n"
     ]
    },
    {
     "name": "stderr",
     "output_type": "stream",
     "text": [
      "  2%|▏         | 4/200 [00:14<12:12,  3.74s/it]"
     ]
    },
    {
     "name": "stdout",
     "output_type": "stream",
     "text": [
      "Early stopping at iteration 5: No significant improvement for 3 iterations\n"
     ]
    },
    {
     "name": "stderr",
     "output_type": "stream",
     "text": [
      "\n"
     ]
    },
    {
     "name": "stdout",
     "output_type": "stream",
     "text": [
      "[LightGBM] [Info] Number of positive: 800, number of negative: 800\n",
      "[LightGBM] [Info] Auto-choosing row-wise multi-threading, the overhead of testing was 0.000084 seconds.\n",
      "You can set `force_row_wise=true` to remove the overhead.\n",
      "And if memory is not enough, you can set `force_col_wise=true`.\n",
      "[LightGBM] [Info] Total Bins 553\n",
      "[LightGBM] [Info] Number of data points in the train set: 1600, number of used features: 8\n",
      "[LightGBM] [Info] [binary:BoostFromScore]: pavg=0.500000 -> initscore=0.000000\n",
      "\n",
      "🔄 Itération 15 / 50\n"
     ]
    },
    {
     "name": "stderr",
     "output_type": "stream",
     "text": [
      "  2%|▏         | 3/200 [00:07<07:56,  2.42s/it]"
     ]
    },
    {
     "name": "stdout",
     "output_type": "stream",
     "text": [
      "Early stopping at iteration 4: No significant improvement for 3 iterations\n"
     ]
    },
    {
     "name": "stderr",
     "output_type": "stream",
     "text": [
      "\n"
     ]
    },
    {
     "name": "stdout",
     "output_type": "stream",
     "text": [
      "[LightGBM] [Info] Number of positive: 800, number of negative: 800\n",
      "[LightGBM] [Info] Auto-choosing row-wise multi-threading, the overhead of testing was 0.000127 seconds.\n",
      "You can set `force_row_wise=true` to remove the overhead.\n",
      "And if memory is not enough, you can set `force_col_wise=true`.\n",
      "[LightGBM] [Info] Total Bins 552\n",
      "[LightGBM] [Info] Number of data points in the train set: 1600, number of used features: 8\n",
      "[LightGBM] [Info] [binary:BoostFromScore]: pavg=0.500000 -> initscore=0.000000\n",
      "\n",
      "🔄 Itération 16 / 50\n"
     ]
    },
    {
     "name": "stderr",
     "output_type": "stream",
     "text": [
      "  2%|▏         | 3/200 [00:08<09:15,  2.82s/it]"
     ]
    },
    {
     "name": "stdout",
     "output_type": "stream",
     "text": [
      "Early stopping at iteration 4: No significant improvement for 3 iterations\n"
     ]
    },
    {
     "name": "stderr",
     "output_type": "stream",
     "text": [
      "\n"
     ]
    },
    {
     "name": "stdout",
     "output_type": "stream",
     "text": [
      "[LightGBM] [Info] Number of positive: 800, number of negative: 800\n",
      "[LightGBM] [Info] Auto-choosing row-wise multi-threading, the overhead of testing was 0.000462 seconds.\n",
      "You can set `force_row_wise=true` to remove the overhead.\n",
      "And if memory is not enough, you can set `force_col_wise=true`.\n",
      "[LightGBM] [Info] Total Bins 558\n",
      "[LightGBM] [Info] Number of data points in the train set: 1600, number of used features: 8\n",
      "[LightGBM] [Info] [binary:BoostFromScore]: pavg=0.500000 -> initscore=0.000000\n",
      "\n",
      "🔄 Itération 17 / 50\n"
     ]
    },
    {
     "name": "stderr",
     "output_type": "stream",
     "text": [
      "  2%|▏         | 3/200 [00:06<06:42,  2.04s/it]"
     ]
    },
    {
     "name": "stdout",
     "output_type": "stream",
     "text": [
      "Early stopping at iteration 4: No significant improvement for 3 iterations\n"
     ]
    },
    {
     "name": "stderr",
     "output_type": "stream",
     "text": [
      "\n"
     ]
    },
    {
     "name": "stdout",
     "output_type": "stream",
     "text": [
      "[LightGBM] [Info] Number of positive: 800, number of negative: 800\n",
      "[LightGBM] [Info] Auto-choosing row-wise multi-threading, the overhead of testing was 0.000143 seconds.\n",
      "You can set `force_row_wise=true` to remove the overhead.\n",
      "And if memory is not enough, you can set `force_col_wise=true`.\n",
      "[LightGBM] [Info] Total Bins 553\n",
      "[LightGBM] [Info] Number of data points in the train set: 1600, number of used features: 8\n",
      "[LightGBM] [Info] [binary:BoostFromScore]: pavg=0.500000 -> initscore=0.000000\n",
      "\n",
      "🔄 Itération 18 / 50\n"
     ]
    },
    {
     "name": "stderr",
     "output_type": "stream",
     "text": [
      "  2%|▏         | 4/200 [00:10<08:56,  2.74s/it]"
     ]
    },
    {
     "name": "stdout",
     "output_type": "stream",
     "text": [
      "Early stopping at iteration 5: No significant improvement for 3 iterations\n"
     ]
    },
    {
     "name": "stderr",
     "output_type": "stream",
     "text": [
      "\n"
     ]
    },
    {
     "name": "stdout",
     "output_type": "stream",
     "text": [
      "[LightGBM] [Info] Number of positive: 800, number of negative: 800\n",
      "[LightGBM] [Info] Auto-choosing row-wise multi-threading, the overhead of testing was 0.000237 seconds.\n",
      "You can set `force_row_wise=true` to remove the overhead.\n",
      "And if memory is not enough, you can set `force_col_wise=true`.\n",
      "[LightGBM] [Info] Total Bins 560\n",
      "[LightGBM] [Info] Number of data points in the train set: 1600, number of used features: 8\n",
      "[LightGBM] [Info] [binary:BoostFromScore]: pavg=0.500000 -> initscore=0.000000\n",
      "\n",
      "🔄 Itération 19 / 50\n"
     ]
    },
    {
     "name": "stderr",
     "output_type": "stream",
     "text": [
      "  2%|▏         | 4/200 [00:07<06:06,  1.87s/it]"
     ]
    },
    {
     "name": "stdout",
     "output_type": "stream",
     "text": [
      "Early stopping at iteration 5: No significant improvement for 3 iterations\n"
     ]
    },
    {
     "name": "stderr",
     "output_type": "stream",
     "text": [
      "\n"
     ]
    },
    {
     "name": "stdout",
     "output_type": "stream",
     "text": [
      "[LightGBM] [Info] Number of positive: 800, number of negative: 800\n",
      "[LightGBM] [Info] Auto-choosing row-wise multi-threading, the overhead of testing was 0.000089 seconds.\n",
      "You can set `force_row_wise=true` to remove the overhead.\n",
      "And if memory is not enough, you can set `force_col_wise=true`.\n",
      "[LightGBM] [Info] Total Bins 554\n",
      "[LightGBM] [Info] Number of data points in the train set: 1600, number of used features: 8\n",
      "[LightGBM] [Info] [binary:BoostFromScore]: pavg=0.500000 -> initscore=0.000000\n",
      "\n",
      "🔄 Itération 20 / 50\n"
     ]
    },
    {
     "name": "stderr",
     "output_type": "stream",
     "text": [
      "  2%|▏         | 3/200 [00:08<08:58,  2.73s/it]"
     ]
    },
    {
     "name": "stdout",
     "output_type": "stream",
     "text": [
      "Early stopping at iteration 4: No significant improvement for 3 iterations\n"
     ]
    },
    {
     "name": "stderr",
     "output_type": "stream",
     "text": [
      "\n"
     ]
    },
    {
     "name": "stdout",
     "output_type": "stream",
     "text": [
      "[LightGBM] [Info] Number of positive: 800, number of negative: 800\n",
      "[LightGBM] [Info] Auto-choosing row-wise multi-threading, the overhead of testing was 0.000080 seconds.\n",
      "You can set `force_row_wise=true` to remove the overhead.\n",
      "And if memory is not enough, you can set `force_col_wise=true`.\n",
      "[LightGBM] [Info] Total Bins 554\n",
      "[LightGBM] [Info] Number of data points in the train set: 1600, number of used features: 8\n",
      "[LightGBM] [Info] [binary:BoostFromScore]: pavg=0.500000 -> initscore=0.000000\n",
      "\n",
      "🔄 Itération 21 / 50\n"
     ]
    },
    {
     "name": "stderr",
     "output_type": "stream",
     "text": [
      "  2%|▏         | 3/200 [00:06<07:19,  2.23s/it]"
     ]
    },
    {
     "name": "stdout",
     "output_type": "stream",
     "text": [
      "Early stopping at iteration 4: No significant improvement for 3 iterations\n"
     ]
    },
    {
     "name": "stderr",
     "output_type": "stream",
     "text": [
      "\n"
     ]
    },
    {
     "name": "stdout",
     "output_type": "stream",
     "text": [
      "[LightGBM] [Info] Number of positive: 800, number of negative: 800\n",
      "[LightGBM] [Info] Auto-choosing col-wise multi-threading, the overhead of testing was 0.000208 seconds.\n",
      "You can set `force_col_wise=true` to remove the overhead.\n",
      "[LightGBM] [Info] Total Bins 559\n",
      "[LightGBM] [Info] Number of data points in the train set: 1600, number of used features: 8\n",
      "[LightGBM] [Info] [binary:BoostFromScore]: pavg=0.500000 -> initscore=0.000000\n",
      "\n",
      "🔄 Itération 22 / 50\n"
     ]
    },
    {
     "name": "stderr",
     "output_type": "stream",
     "text": [
      "  2%|▏         | 3/200 [00:07<08:34,  2.61s/it]"
     ]
    },
    {
     "name": "stdout",
     "output_type": "stream",
     "text": [
      "Early stopping at iteration 4: No significant improvement for 3 iterations\n"
     ]
    },
    {
     "name": "stderr",
     "output_type": "stream",
     "text": [
      "\n"
     ]
    },
    {
     "name": "stdout",
     "output_type": "stream",
     "text": [
      "[LightGBM] [Info] Number of positive: 800, number of negative: 800\n",
      "[LightGBM] [Info] Auto-choosing row-wise multi-threading, the overhead of testing was 0.000115 seconds.\n",
      "You can set `force_row_wise=true` to remove the overhead.\n",
      "And if memory is not enough, you can set `force_col_wise=true`.\n",
      "[LightGBM] [Info] Total Bins 552\n",
      "[LightGBM] [Info] Number of data points in the train set: 1600, number of used features: 8\n",
      "[LightGBM] [Info] [binary:BoostFromScore]: pavg=0.500000 -> initscore=0.000000\n",
      "\n",
      "🔄 Itération 23 / 50\n"
     ]
    },
    {
     "name": "stderr",
     "output_type": "stream",
     "text": [
      "  2%|▏         | 3/200 [00:07<08:19,  2.54s/it]"
     ]
    },
    {
     "name": "stdout",
     "output_type": "stream",
     "text": [
      "Early stopping at iteration 4: No significant improvement for 3 iterations\n"
     ]
    },
    {
     "name": "stderr",
     "output_type": "stream",
     "text": [
      "\n"
     ]
    },
    {
     "name": "stdout",
     "output_type": "stream",
     "text": [
      "[LightGBM] [Info] Number of positive: 800, number of negative: 800\n",
      "[LightGBM] [Info] Auto-choosing row-wise multi-threading, the overhead of testing was 0.000201 seconds.\n",
      "You can set `force_row_wise=true` to remove the overhead.\n",
      "And if memory is not enough, you can set `force_col_wise=true`.\n",
      "[LightGBM] [Info] Total Bins 549\n",
      "[LightGBM] [Info] Number of data points in the train set: 1600, number of used features: 8\n",
      "[LightGBM] [Info] [binary:BoostFromScore]: pavg=0.500000 -> initscore=0.000000\n",
      "\n",
      "🔄 Itération 24 / 50\n"
     ]
    },
    {
     "name": "stderr",
     "output_type": "stream",
     "text": [
      "  2%|▏         | 3/200 [00:07<08:01,  2.45s/it]"
     ]
    },
    {
     "name": "stdout",
     "output_type": "stream",
     "text": [
      "Early stopping at iteration 4: No significant improvement for 3 iterations\n"
     ]
    },
    {
     "name": "stderr",
     "output_type": "stream",
     "text": [
      "\n"
     ]
    },
    {
     "name": "stdout",
     "output_type": "stream",
     "text": [
      "[LightGBM] [Info] Number of positive: 800, number of negative: 800\n",
      "[LightGBM] [Info] Auto-choosing row-wise multi-threading, the overhead of testing was 0.000196 seconds.\n",
      "You can set `force_row_wise=true` to remove the overhead.\n",
      "And if memory is not enough, you can set `force_col_wise=true`.\n",
      "[LightGBM] [Info] Total Bins 553\n",
      "[LightGBM] [Info] Number of data points in the train set: 1600, number of used features: 8\n",
      "[LightGBM] [Info] [binary:BoostFromScore]: pavg=0.500000 -> initscore=0.000000\n",
      "\n",
      "🔄 Itération 25 / 50\n"
     ]
    },
    {
     "name": "stderr",
     "output_type": "stream",
     "text": [
      "  2%|▏         | 3/200 [00:07<08:22,  2.55s/it]"
     ]
    },
    {
     "name": "stdout",
     "output_type": "stream",
     "text": [
      "Early stopping at iteration 4: No significant improvement for 3 iterations\n"
     ]
    },
    {
     "name": "stderr",
     "output_type": "stream",
     "text": [
      "\n"
     ]
    },
    {
     "name": "stdout",
     "output_type": "stream",
     "text": [
      "[LightGBM] [Info] Number of positive: 800, number of negative: 800\n",
      "[LightGBM] [Info] Auto-choosing row-wise multi-threading, the overhead of testing was 0.000141 seconds.\n",
      "You can set `force_row_wise=true` to remove the overhead.\n",
      "And if memory is not enough, you can set `force_col_wise=true`.\n",
      "[LightGBM] [Info] Total Bins 557\n",
      "[LightGBM] [Info] Number of data points in the train set: 1600, number of used features: 8\n",
      "[LightGBM] [Info] [binary:BoostFromScore]: pavg=0.500000 -> initscore=0.000000\n",
      "\n",
      "🔄 Itération 26 / 50\n"
     ]
    },
    {
     "name": "stderr",
     "output_type": "stream",
     "text": [
      "  2%|▏         | 3/200 [00:06<07:39,  2.33s/it]"
     ]
    },
    {
     "name": "stdout",
     "output_type": "stream",
     "text": [
      "Early stopping at iteration 4: No significant improvement for 3 iterations\n"
     ]
    },
    {
     "name": "stderr",
     "output_type": "stream",
     "text": [
      "\n"
     ]
    },
    {
     "name": "stdout",
     "output_type": "stream",
     "text": [
      "[LightGBM] [Info] Number of positive: 800, number of negative: 800\n",
      "[LightGBM] [Info] Auto-choosing row-wise multi-threading, the overhead of testing was 0.000190 seconds.\n",
      "You can set `force_row_wise=true` to remove the overhead.\n",
      "And if memory is not enough, you can set `force_col_wise=true`.\n",
      "[LightGBM] [Info] Total Bins 557\n",
      "[LightGBM] [Info] Number of data points in the train set: 1600, number of used features: 8\n",
      "[LightGBM] [Info] [binary:BoostFromScore]: pavg=0.500000 -> initscore=0.000000\n",
      "\n",
      "🔄 Itération 27 / 50\n"
     ]
    },
    {
     "name": "stderr",
     "output_type": "stream",
     "text": [
      "  2%|▏         | 3/200 [00:07<07:47,  2.37s/it]"
     ]
    },
    {
     "name": "stdout",
     "output_type": "stream",
     "text": [
      "Early stopping at iteration 4: No significant improvement for 3 iterations\n"
     ]
    },
    {
     "name": "stderr",
     "output_type": "stream",
     "text": [
      "\n"
     ]
    },
    {
     "name": "stdout",
     "output_type": "stream",
     "text": [
      "[LightGBM] [Info] Number of positive: 800, number of negative: 800\n",
      "[LightGBM] [Info] Auto-choosing row-wise multi-threading, the overhead of testing was 0.000085 seconds.\n",
      "You can set `force_row_wise=true` to remove the overhead.\n",
      "And if memory is not enough, you can set `force_col_wise=true`.\n",
      "[LightGBM] [Info] Total Bins 558\n",
      "[LightGBM] [Info] Number of data points in the train set: 1600, number of used features: 8\n",
      "[LightGBM] [Info] [binary:BoostFromScore]: pavg=0.500000 -> initscore=0.000000\n",
      "\n",
      "🔄 Itération 28 / 50\n"
     ]
    },
    {
     "name": "stderr",
     "output_type": "stream",
     "text": [
      "  2%|▏         | 3/200 [00:12<14:09,  4.31s/it]"
     ]
    },
    {
     "name": "stdout",
     "output_type": "stream",
     "text": [
      "Early stopping at iteration 4: No significant improvement for 3 iterations\n"
     ]
    },
    {
     "name": "stderr",
     "output_type": "stream",
     "text": [
      "\n"
     ]
    },
    {
     "name": "stdout",
     "output_type": "stream",
     "text": [
      "[LightGBM] [Info] Number of positive: 800, number of negative: 800\n",
      "[LightGBM] [Info] Auto-choosing row-wise multi-threading, the overhead of testing was 0.000108 seconds.\n",
      "You can set `force_row_wise=true` to remove the overhead.\n",
      "And if memory is not enough, you can set `force_col_wise=true`.\n",
      "[LightGBM] [Info] Total Bins 555\n",
      "[LightGBM] [Info] Number of data points in the train set: 1600, number of used features: 8\n",
      "[LightGBM] [Info] [binary:BoostFromScore]: pavg=0.500000 -> initscore=0.000000\n",
      "\n",
      "🔄 Itération 29 / 50\n"
     ]
    },
    {
     "name": "stderr",
     "output_type": "stream",
     "text": [
      "  2%|▏         | 3/200 [00:08<08:58,  2.73s/it]"
     ]
    },
    {
     "name": "stdout",
     "output_type": "stream",
     "text": [
      "Early stopping at iteration 4: No significant improvement for 3 iterations\n"
     ]
    },
    {
     "name": "stderr",
     "output_type": "stream",
     "text": [
      "\n"
     ]
    },
    {
     "name": "stdout",
     "output_type": "stream",
     "text": [
      "[LightGBM] [Info] Number of positive: 800, number of negative: 800\n",
      "[LightGBM] [Info] Auto-choosing row-wise multi-threading, the overhead of testing was 0.000152 seconds.\n",
      "You can set `force_row_wise=true` to remove the overhead.\n",
      "And if memory is not enough, you can set `force_col_wise=true`.\n",
      "[LightGBM] [Info] Total Bins 559\n",
      "[LightGBM] [Info] Number of data points in the train set: 1600, number of used features: 8\n",
      "[LightGBM] [Info] [binary:BoostFromScore]: pavg=0.500000 -> initscore=0.000000\n",
      "\n",
      "🔄 Itération 30 / 50\n"
     ]
    },
    {
     "name": "stderr",
     "output_type": "stream",
     "text": [
      "  2%|▏         | 4/200 [00:11<09:18,  2.85s/it]"
     ]
    },
    {
     "name": "stdout",
     "output_type": "stream",
     "text": [
      "Early stopping at iteration 5: No significant improvement for 3 iterations\n"
     ]
    },
    {
     "name": "stderr",
     "output_type": "stream",
     "text": [
      "\n"
     ]
    },
    {
     "name": "stdout",
     "output_type": "stream",
     "text": [
      "[LightGBM] [Info] Number of positive: 800, number of negative: 800\n",
      "[LightGBM] [Info] Auto-choosing row-wise multi-threading, the overhead of testing was 0.000174 seconds.\n",
      "You can set `force_row_wise=true` to remove the overhead.\n",
      "And if memory is not enough, you can set `force_col_wise=true`.\n",
      "[LightGBM] [Info] Total Bins 555\n",
      "[LightGBM] [Info] Number of data points in the train set: 1600, number of used features: 8\n",
      "[LightGBM] [Info] [binary:BoostFromScore]: pavg=0.500000 -> initscore=0.000000\n",
      "\n",
      "🔄 Itération 31 / 50\n"
     ]
    },
    {
     "name": "stderr",
     "output_type": "stream",
     "text": [
      "  2%|▏         | 3/200 [00:06<06:44,  2.05s/it]"
     ]
    },
    {
     "name": "stdout",
     "output_type": "stream",
     "text": [
      "Early stopping at iteration 4: No significant improvement for 3 iterations\n"
     ]
    },
    {
     "name": "stderr",
     "output_type": "stream",
     "text": [
      "\n"
     ]
    },
    {
     "name": "stdout",
     "output_type": "stream",
     "text": [
      "[LightGBM] [Info] Number of positive: 800, number of negative: 800\n",
      "[LightGBM] [Info] Auto-choosing row-wise multi-threading, the overhead of testing was 0.000287 seconds.\n",
      "You can set `force_row_wise=true` to remove the overhead.\n",
      "And if memory is not enough, you can set `force_col_wise=true`.\n",
      "[LightGBM] [Info] Total Bins 555\n",
      "[LightGBM] [Info] Number of data points in the train set: 1600, number of used features: 8\n",
      "[LightGBM] [Info] [binary:BoostFromScore]: pavg=0.500000 -> initscore=0.000000\n",
      "\n",
      "🔄 Itération 32 / 50\n"
     ]
    },
    {
     "name": "stderr",
     "output_type": "stream",
     "text": [
      "  2%|▏         | 3/200 [00:13<14:57,  4.56s/it]"
     ]
    },
    {
     "name": "stdout",
     "output_type": "stream",
     "text": [
      "Early stopping at iteration 4: No significant improvement for 3 iterations\n"
     ]
    },
    {
     "name": "stderr",
     "output_type": "stream",
     "text": [
      "\n"
     ]
    },
    {
     "name": "stdout",
     "output_type": "stream",
     "text": [
      "[LightGBM] [Info] Number of positive: 800, number of negative: 800\n",
      "[LightGBM] [Info] Auto-choosing row-wise multi-threading, the overhead of testing was 0.000135 seconds.\n",
      "You can set `force_row_wise=true` to remove the overhead.\n",
      "And if memory is not enough, you can set `force_col_wise=true`.\n",
      "[LightGBM] [Info] Total Bins 554\n",
      "[LightGBM] [Info] Number of data points in the train set: 1600, number of used features: 8\n",
      "[LightGBM] [Info] [binary:BoostFromScore]: pavg=0.500000 -> initscore=0.000000\n",
      "\n",
      "🔄 Itération 33 / 50\n"
     ]
    },
    {
     "name": "stderr",
     "output_type": "stream",
     "text": [
      "  2%|▏         | 3/200 [00:05<06:18,  1.92s/it]"
     ]
    },
    {
     "name": "stdout",
     "output_type": "stream",
     "text": [
      "Early stopping at iteration 4: No significant improvement for 3 iterations\n"
     ]
    },
    {
     "name": "stderr",
     "output_type": "stream",
     "text": [
      "\n"
     ]
    },
    {
     "name": "stdout",
     "output_type": "stream",
     "text": [
      "[LightGBM] [Info] Number of positive: 800, number of negative: 800\n",
      "[LightGBM] [Info] Auto-choosing row-wise multi-threading, the overhead of testing was 0.000081 seconds.\n",
      "You can set `force_row_wise=true` to remove the overhead.\n",
      "And if memory is not enough, you can set `force_col_wise=true`.\n",
      "[LightGBM] [Info] Total Bins 551\n",
      "[LightGBM] [Info] Number of data points in the train set: 1600, number of used features: 8\n",
      "[LightGBM] [Info] [binary:BoostFromScore]: pavg=0.500000 -> initscore=0.000000\n",
      "\n",
      "🔄 Itération 34 / 50\n"
     ]
    },
    {
     "name": "stderr",
     "output_type": "stream",
     "text": [
      "  2%|▏         | 3/200 [00:05<05:32,  1.69s/it]"
     ]
    },
    {
     "name": "stdout",
     "output_type": "stream",
     "text": [
      "Early stopping at iteration 4: No significant improvement for 3 iterations\n"
     ]
    },
    {
     "name": "stderr",
     "output_type": "stream",
     "text": [
      "\n"
     ]
    },
    {
     "name": "stdout",
     "output_type": "stream",
     "text": [
      "[LightGBM] [Info] Number of positive: 800, number of negative: 800\n",
      "[LightGBM] [Info] Auto-choosing row-wise multi-threading, the overhead of testing was 0.000121 seconds.\n",
      "You can set `force_row_wise=true` to remove the overhead.\n",
      "And if memory is not enough, you can set `force_col_wise=true`.\n",
      "[LightGBM] [Info] Total Bins 557\n",
      "[LightGBM] [Info] Number of data points in the train set: 1600, number of used features: 8\n",
      "[LightGBM] [Info] [binary:BoostFromScore]: pavg=0.500000 -> initscore=0.000000\n",
      "\n",
      "🔄 Itération 35 / 50\n"
     ]
    },
    {
     "name": "stderr",
     "output_type": "stream",
     "text": [
      "  2%|▏         | 3/200 [00:05<05:58,  1.82s/it]"
     ]
    },
    {
     "name": "stdout",
     "output_type": "stream",
     "text": [
      "Early stopping at iteration 4: No significant improvement for 3 iterations\n"
     ]
    },
    {
     "name": "stderr",
     "output_type": "stream",
     "text": [
      "\n"
     ]
    },
    {
     "name": "stdout",
     "output_type": "stream",
     "text": [
      "[LightGBM] [Info] Number of positive: 800, number of negative: 800\n",
      "[LightGBM] [Info] Auto-choosing row-wise multi-threading, the overhead of testing was 0.000089 seconds.\n",
      "You can set `force_row_wise=true` to remove the overhead.\n",
      "And if memory is not enough, you can set `force_col_wise=true`.\n",
      "[LightGBM] [Info] Total Bins 554\n",
      "[LightGBM] [Info] Number of data points in the train set: 1600, number of used features: 8\n",
      "[LightGBM] [Info] [binary:BoostFromScore]: pavg=0.500000 -> initscore=0.000000\n",
      "\n",
      "🔄 Itération 36 / 50\n"
     ]
    },
    {
     "name": "stderr",
     "output_type": "stream",
     "text": [
      "  2%|▏         | 3/200 [00:06<06:34,  2.00s/it]"
     ]
    },
    {
     "name": "stdout",
     "output_type": "stream",
     "text": [
      "Early stopping at iteration 4: No significant improvement for 3 iterations\n"
     ]
    },
    {
     "name": "stderr",
     "output_type": "stream",
     "text": [
      "\n"
     ]
    },
    {
     "name": "stdout",
     "output_type": "stream",
     "text": [
      "[LightGBM] [Info] Number of positive: 800, number of negative: 800\n",
      "[LightGBM] [Info] Auto-choosing row-wise multi-threading, the overhead of testing was 0.000083 seconds.\n",
      "You can set `force_row_wise=true` to remove the overhead.\n",
      "And if memory is not enough, you can set `force_col_wise=true`.\n",
      "[LightGBM] [Info] Total Bins 554\n",
      "[LightGBM] [Info] Number of data points in the train set: 1600, number of used features: 8\n",
      "[LightGBM] [Info] [binary:BoostFromScore]: pavg=0.500000 -> initscore=0.000000\n",
      "\n",
      "🔄 Itération 37 / 50\n"
     ]
    },
    {
     "name": "stderr",
     "output_type": "stream",
     "text": [
      "  2%|▏         | 3/200 [00:07<07:40,  2.34s/it]"
     ]
    },
    {
     "name": "stdout",
     "output_type": "stream",
     "text": [
      "Early stopping at iteration 4: No significant improvement for 3 iterations\n"
     ]
    },
    {
     "name": "stderr",
     "output_type": "stream",
     "text": [
      "\n"
     ]
    },
    {
     "name": "stdout",
     "output_type": "stream",
     "text": [
      "[LightGBM] [Info] Number of positive: 800, number of negative: 800\n",
      "[LightGBM] [Info] Auto-choosing row-wise multi-threading, the overhead of testing was 0.000082 seconds.\n",
      "You can set `force_row_wise=true` to remove the overhead.\n",
      "And if memory is not enough, you can set `force_col_wise=true`.\n",
      "[LightGBM] [Info] Total Bins 554\n",
      "[LightGBM] [Info] Number of data points in the train set: 1600, number of used features: 8\n",
      "[LightGBM] [Info] [binary:BoostFromScore]: pavg=0.500000 -> initscore=0.000000\n",
      "\n",
      "🔄 Itération 38 / 50\n"
     ]
    },
    {
     "name": "stderr",
     "output_type": "stream",
     "text": [
      "  2%|▏         | 3/200 [00:06<07:10,  2.18s/it]"
     ]
    },
    {
     "name": "stdout",
     "output_type": "stream",
     "text": [
      "Early stopping at iteration 4: No significant improvement for 3 iterations\n"
     ]
    },
    {
     "name": "stderr",
     "output_type": "stream",
     "text": [
      "\n"
     ]
    },
    {
     "name": "stdout",
     "output_type": "stream",
     "text": [
      "[LightGBM] [Info] Number of positive: 800, number of negative: 800\n",
      "[LightGBM] [Info] Auto-choosing row-wise multi-threading, the overhead of testing was 0.000145 seconds.\n",
      "You can set `force_row_wise=true` to remove the overhead.\n",
      "And if memory is not enough, you can set `force_col_wise=true`.\n",
      "[LightGBM] [Info] Total Bins 556\n",
      "[LightGBM] [Info] Number of data points in the train set: 1600, number of used features: 8\n",
      "[LightGBM] [Info] [binary:BoostFromScore]: pavg=0.500000 -> initscore=0.000000\n",
      "\n",
      "🔄 Itération 39 / 50\n"
     ]
    },
    {
     "name": "stderr",
     "output_type": "stream",
     "text": [
      "  2%|▏         | 4/200 [00:08<07:19,  2.24s/it]"
     ]
    },
    {
     "name": "stdout",
     "output_type": "stream",
     "text": [
      "Early stopping at iteration 5: No significant improvement for 3 iterations\n"
     ]
    },
    {
     "name": "stderr",
     "output_type": "stream",
     "text": [
      "\n"
     ]
    },
    {
     "name": "stdout",
     "output_type": "stream",
     "text": [
      "[LightGBM] [Info] Number of positive: 800, number of negative: 800\n",
      "[LightGBM] [Info] Auto-choosing row-wise multi-threading, the overhead of testing was 0.000134 seconds.\n",
      "You can set `force_row_wise=true` to remove the overhead.\n",
      "And if memory is not enough, you can set `force_col_wise=true`.\n",
      "[LightGBM] [Info] Total Bins 557\n",
      "[LightGBM] [Info] Number of data points in the train set: 1600, number of used features: 8\n",
      "[LightGBM] [Info] [binary:BoostFromScore]: pavg=0.500000 -> initscore=0.000000\n",
      "\n",
      "🔄 Itération 40 / 50\n"
     ]
    },
    {
     "name": "stderr",
     "output_type": "stream",
     "text": [
      "  2%|▏         | 4/200 [00:07<05:56,  1.82s/it]"
     ]
    },
    {
     "name": "stdout",
     "output_type": "stream",
     "text": [
      "Early stopping at iteration 5: No significant improvement for 3 iterations\n"
     ]
    },
    {
     "name": "stderr",
     "output_type": "stream",
     "text": [
      "\n"
     ]
    },
    {
     "name": "stdout",
     "output_type": "stream",
     "text": [
      "[LightGBM] [Info] Number of positive: 800, number of negative: 800\n",
      "[LightGBM] [Info] Auto-choosing row-wise multi-threading, the overhead of testing was 0.000109 seconds.\n",
      "You can set `force_row_wise=true` to remove the overhead.\n",
      "And if memory is not enough, you can set `force_col_wise=true`.\n",
      "[LightGBM] [Info] Total Bins 554\n",
      "[LightGBM] [Info] Number of data points in the train set: 1600, number of used features: 8\n",
      "[LightGBM] [Info] [binary:BoostFromScore]: pavg=0.500000 -> initscore=0.000000\n",
      "\n",
      "🔄 Itération 41 / 50\n"
     ]
    },
    {
     "name": "stderr",
     "output_type": "stream",
     "text": [
      "  2%|▏         | 3/200 [00:05<06:13,  1.90s/it]"
     ]
    },
    {
     "name": "stdout",
     "output_type": "stream",
     "text": [
      "Early stopping at iteration 4: No significant improvement for 3 iterations\n"
     ]
    },
    {
     "name": "stderr",
     "output_type": "stream",
     "text": [
      "\n"
     ]
    },
    {
     "name": "stdout",
     "output_type": "stream",
     "text": [
      "[LightGBM] [Info] Number of positive: 800, number of negative: 800\n",
      "[LightGBM] [Info] Auto-choosing row-wise multi-threading, the overhead of testing was 0.000082 seconds.\n",
      "You can set `force_row_wise=true` to remove the overhead.\n",
      "And if memory is not enough, you can set `force_col_wise=true`.\n",
      "[LightGBM] [Info] Total Bins 555\n",
      "[LightGBM] [Info] Number of data points in the train set: 1600, number of used features: 8\n",
      "[LightGBM] [Info] [binary:BoostFromScore]: pavg=0.500000 -> initscore=0.000000\n",
      "\n",
      "🔄 Itération 42 / 50\n"
     ]
    },
    {
     "name": "stderr",
     "output_type": "stream",
     "text": [
      "  2%|▏         | 3/200 [00:06<07:20,  2.23s/it]"
     ]
    },
    {
     "name": "stdout",
     "output_type": "stream",
     "text": [
      "Early stopping at iteration 4: No significant improvement for 3 iterations\n"
     ]
    },
    {
     "name": "stderr",
     "output_type": "stream",
     "text": [
      "\n"
     ]
    },
    {
     "name": "stdout",
     "output_type": "stream",
     "text": [
      "[LightGBM] [Info] Number of positive: 800, number of negative: 800\n",
      "[LightGBM] [Info] Auto-choosing col-wise multi-threading, the overhead of testing was 0.000146 seconds.\n",
      "You can set `force_col_wise=true` to remove the overhead.\n",
      "[LightGBM] [Info] Total Bins 554\n",
      "[LightGBM] [Info] Number of data points in the train set: 1600, number of used features: 8\n",
      "[LightGBM] [Info] [binary:BoostFromScore]: pavg=0.500000 -> initscore=0.000000\n",
      "\n",
      "🔄 Itération 43 / 50\n"
     ]
    },
    {
     "name": "stderr",
     "output_type": "stream",
     "text": [
      "  2%|▏         | 3/200 [00:05<05:42,  1.74s/it]"
     ]
    },
    {
     "name": "stdout",
     "output_type": "stream",
     "text": [
      "Early stopping at iteration 4: No significant improvement for 3 iterations\n"
     ]
    },
    {
     "name": "stderr",
     "output_type": "stream",
     "text": [
      "\n"
     ]
    },
    {
     "name": "stdout",
     "output_type": "stream",
     "text": [
      "[LightGBM] [Info] Number of positive: 800, number of negative: 800\n",
      "[LightGBM] [Info] Auto-choosing row-wise multi-threading, the overhead of testing was 0.000134 seconds.\n",
      "You can set `force_row_wise=true` to remove the overhead.\n",
      "And if memory is not enough, you can set `force_col_wise=true`.\n",
      "[LightGBM] [Info] Total Bins 550\n",
      "[LightGBM] [Info] Number of data points in the train set: 1600, number of used features: 8\n",
      "[LightGBM] [Info] [binary:BoostFromScore]: pavg=0.500000 -> initscore=0.000000\n",
      "\n",
      "🔄 Itération 44 / 50\n"
     ]
    },
    {
     "name": "stderr",
     "output_type": "stream",
     "text": [
      "  2%|▏         | 3/200 [00:05<05:43,  1.74s/it]"
     ]
    },
    {
     "name": "stdout",
     "output_type": "stream",
     "text": [
      "Early stopping at iteration 4: No significant improvement for 3 iterations\n"
     ]
    },
    {
     "name": "stderr",
     "output_type": "stream",
     "text": [
      "\n"
     ]
    },
    {
     "name": "stdout",
     "output_type": "stream",
     "text": [
      "[LightGBM] [Info] Number of positive: 800, number of negative: 800\n",
      "[LightGBM] [Info] Auto-choosing row-wise multi-threading, the overhead of testing was 0.000131 seconds.\n",
      "You can set `force_row_wise=true` to remove the overhead.\n",
      "And if memory is not enough, you can set `force_col_wise=true`.\n",
      "[LightGBM] [Info] Total Bins 555\n",
      "[LightGBM] [Info] Number of data points in the train set: 1600, number of used features: 8\n",
      "[LightGBM] [Info] [binary:BoostFromScore]: pavg=0.500000 -> initscore=0.000000\n",
      "\n",
      "🔄 Itération 45 / 50\n"
     ]
    },
    {
     "name": "stderr",
     "output_type": "stream",
     "text": [
      "  2%|▏         | 4/200 [00:07<06:02,  1.85s/it]"
     ]
    },
    {
     "name": "stdout",
     "output_type": "stream",
     "text": [
      "Early stopping at iteration 5: No significant improvement for 3 iterations\n"
     ]
    },
    {
     "name": "stderr",
     "output_type": "stream",
     "text": [
      "\n"
     ]
    },
    {
     "name": "stdout",
     "output_type": "stream",
     "text": [
      "[LightGBM] [Info] Number of positive: 800, number of negative: 800\n",
      "[LightGBM] [Info] Auto-choosing row-wise multi-threading, the overhead of testing was 0.000135 seconds.\n",
      "You can set `force_row_wise=true` to remove the overhead.\n",
      "And if memory is not enough, you can set `force_col_wise=true`.\n",
      "[LightGBM] [Info] Total Bins 552\n",
      "[LightGBM] [Info] Number of data points in the train set: 1600, number of used features: 8\n",
      "[LightGBM] [Info] [binary:BoostFromScore]: pavg=0.500000 -> initscore=0.000000\n",
      "\n",
      "🔄 Itération 46 / 50\n"
     ]
    },
    {
     "name": "stderr",
     "output_type": "stream",
     "text": [
      "  2%|▏         | 3/200 [00:04<05:27,  1.66s/it]"
     ]
    },
    {
     "name": "stdout",
     "output_type": "stream",
     "text": [
      "Early stopping at iteration 4: No significant improvement for 3 iterations\n"
     ]
    },
    {
     "name": "stderr",
     "output_type": "stream",
     "text": [
      "\n"
     ]
    },
    {
     "name": "stdout",
     "output_type": "stream",
     "text": [
      "[LightGBM] [Info] Number of positive: 800, number of negative: 800\n",
      "[LightGBM] [Info] Auto-choosing row-wise multi-threading, the overhead of testing was 0.000088 seconds.\n",
      "You can set `force_row_wise=true` to remove the overhead.\n",
      "And if memory is not enough, you can set `force_col_wise=true`.\n",
      "[LightGBM] [Info] Total Bins 558\n",
      "[LightGBM] [Info] Number of data points in the train set: 1600, number of used features: 8\n",
      "[LightGBM] [Info] [binary:BoostFromScore]: pavg=0.500000 -> initscore=0.000000\n",
      "\n",
      "🔄 Itération 47 / 50\n"
     ]
    },
    {
     "name": "stderr",
     "output_type": "stream",
     "text": [
      "  2%|▏         | 3/200 [00:05<06:07,  1.86s/it]"
     ]
    },
    {
     "name": "stdout",
     "output_type": "stream",
     "text": [
      "Early stopping at iteration 4: No significant improvement for 3 iterations\n"
     ]
    },
    {
     "name": "stderr",
     "output_type": "stream",
     "text": [
      "\n"
     ]
    },
    {
     "name": "stdout",
     "output_type": "stream",
     "text": [
      "[LightGBM] [Info] Number of positive: 800, number of negative: 800\n",
      "[LightGBM] [Info] Auto-choosing row-wise multi-threading, the overhead of testing was 0.000095 seconds.\n",
      "You can set `force_row_wise=true` to remove the overhead.\n",
      "And if memory is not enough, you can set `force_col_wise=true`.\n",
      "[LightGBM] [Info] Total Bins 556\n",
      "[LightGBM] [Info] Number of data points in the train set: 1600, number of used features: 8\n",
      "[LightGBM] [Info] [binary:BoostFromScore]: pavg=0.500000 -> initscore=0.000000\n",
      "\n",
      "🔄 Itération 48 / 50\n"
     ]
    },
    {
     "name": "stderr",
     "output_type": "stream",
     "text": [
      "  2%|▏         | 3/200 [00:05<05:39,  1.73s/it]"
     ]
    },
    {
     "name": "stdout",
     "output_type": "stream",
     "text": [
      "Early stopping at iteration 4: No significant improvement for 3 iterations\n"
     ]
    },
    {
     "name": "stderr",
     "output_type": "stream",
     "text": [
      "\n"
     ]
    },
    {
     "name": "stdout",
     "output_type": "stream",
     "text": [
      "[LightGBM] [Info] Number of positive: 800, number of negative: 800\n",
      "[LightGBM] [Info] Auto-choosing row-wise multi-threading, the overhead of testing was 0.000120 seconds.\n",
      "You can set `force_row_wise=true` to remove the overhead.\n",
      "And if memory is not enough, you can set `force_col_wise=true`.\n",
      "[LightGBM] [Info] Total Bins 552\n",
      "[LightGBM] [Info] Number of data points in the train set: 1600, number of used features: 8\n",
      "[LightGBM] [Info] [binary:BoostFromScore]: pavg=0.500000 -> initscore=0.000000\n",
      "\n",
      "🔄 Itération 49 / 50\n"
     ]
    },
    {
     "name": "stderr",
     "output_type": "stream",
     "text": [
      "  2%|▏         | 3/200 [00:05<06:04,  1.85s/it]"
     ]
    },
    {
     "name": "stdout",
     "output_type": "stream",
     "text": [
      "Early stopping at iteration 4: No significant improvement for 3 iterations\n"
     ]
    },
    {
     "name": "stderr",
     "output_type": "stream",
     "text": [
      "\n"
     ]
    },
    {
     "name": "stdout",
     "output_type": "stream",
     "text": [
      "[LightGBM] [Info] Number of positive: 800, number of negative: 800\n",
      "[LightGBM] [Info] Auto-choosing row-wise multi-threading, the overhead of testing was 0.000133 seconds.\n",
      "You can set `force_row_wise=true` to remove the overhead.\n",
      "And if memory is not enough, you can set `force_col_wise=true`.\n",
      "[LightGBM] [Info] Total Bins 556\n",
      "[LightGBM] [Info] Number of data points in the train set: 1600, number of used features: 8\n",
      "[LightGBM] [Info] [binary:BoostFromScore]: pavg=0.500000 -> initscore=0.000000\n",
      "\n",
      "🔄 Itération 50 / 50\n"
     ]
    },
    {
     "name": "stderr",
     "output_type": "stream",
     "text": [
      "  2%|▏         | 3/200 [00:05<06:06,  1.86s/it]"
     ]
    },
    {
     "name": "stdout",
     "output_type": "stream",
     "text": [
      "Early stopping at iteration 4: No significant improvement for 3 iterations\n"
     ]
    },
    {
     "name": "stderr",
     "output_type": "stream",
     "text": [
      "\n"
     ]
    },
    {
     "name": "stdout",
     "output_type": "stream",
     "text": [
      "[LightGBM] [Info] Number of positive: 800, number of negative: 800\n",
      "[LightGBM] [Info] Auto-choosing row-wise multi-threading, the overhead of testing was 0.000139 seconds.\n",
      "You can set `force_row_wise=true` to remove the overhead.\n",
      "And if memory is not enough, you can set `force_col_wise=true`.\n",
      "[LightGBM] [Info] Total Bins 549\n",
      "[LightGBM] [Info] Number of data points in the train set: 1600, number of used features: 8\n",
      "[LightGBM] [Info] [binary:BoostFromScore]: pavg=0.500000 -> initscore=0.000000\n",
      "\n",
      "✅ Tous les résultats détaillés ont été sauvegardés dans 'train_runs/all_training_results.csv'.\n",
      "\n",
      "📋 Tableau des moyennes des métriques sur 50 runs :\n",
      "\n",
      "                 Model     AUC  Accuracy  Precision  Recall  F1-Score\n",
      "0        LogisticCEMD2  0.6560    0.6140     0.6082  0.6418    0.6242\n",
      "1  Logistic Regression  0.5694    0.5442     0.5570  0.4387    0.4901\n",
      "2                  MLP  0.5068    0.5024     0.3102  0.4032    0.2851\n",
      "3                  SVM  0.5613    0.5474     0.5446  0.5811    0.5616\n",
      "4        Random Forest  0.6054    0.5748     0.5763  0.5652    0.5701\n",
      "5             LightGBM  0.6021    0.5713     0.5709  0.5744    0.5723\n",
      "6              XGBoost  0.5906    0.5672     0.5674  0.5659    0.5663\n",
      "7          LogisticCEM  0.6476    0.6061     0.6015  0.6297    0.6144\n",
      "\n",
      "📈 Analyse Autorank pour la métrique : AUC\n"
     ]
    },
    {
     "data": {
      "image/png": "[encoded data removed]",
      "text/plain": [
       "<Figure size 600x235 with 1 Axes>"
      ]
     },
     "metadata": {},
     "output_type": "display_data"
    },
    {
     "name": "stdout",
     "output_type": "stream",
     "text": [
      "The statistical analysis was conducted for 8 populations with 50 paired samples.\n",
      "The family-wise significance level of the tests is alpha=0.050.\n",
      "We failed to reject the null hypothesis that the population is normal for all populations (minimal observed p-value=0.030). Therefore, we assume that all populations are normal.\n",
      "We applied Bartlett's test for homogeneity and reject the null hypothesis (p=0.000) that thedata is homoscedastic. Thus, we assume that our data is heteroscedastic.\n",
      "Because we have more than two populations and the populations are normal but heteroscedastic, we use the non-parametric Friedman test as omnibus test to determine if there are any significant differences between the mean values of the populations. We use the post-hoc Nemenyi test to infer which differences are significant. We report the mean value (M), the standard deviation (SD) and the mean rank (MR) among all populations over the samples. Differences between populations are significant, if the difference of the mean rank is greater than the critical distance CD=1.485 of the Nemenyi test.\n",
      "We reject the null hypothesis (p=0.000) of the Friedman test that there is no difference in the central tendency of the populations MLP (M=0.507+-0.024, SD=0.059, MR=7.360), SVM (M=0.561+-0.011, SD=0.027, MR=6.780), Logistic Regression (M=0.569+-0.012, SD=0.029, MR=5.760), XGBoost (M=0.591+-0.009, SD=0.023, MR=5.020), LightGBM (M=0.602+-0.009, SD=0.023, MR=3.980), Random Forest (M=0.605+-0.009, SD=0.023, MR=3.840), LogisticCEM (M=0.648+-0.012, SD=0.029, MR=1.880), and LogisticCEMD2 (M=0.656+-0.010, SD=0.026, MR=1.380). Therefore, we assume that there is a statistically significant difference between the median values of the populations.\n",
      "Based on the post-hoc Nemenyi test, we assume that there are no significant differences within the following groups: MLP and SVM; SVM and Logistic Regression; Logistic Regression and XGBoost; XGBoost, LightGBM, and Random Forest; LogisticCEM and LogisticCEMD2. All other differences are significant.\n",
      "None\n",
      "\n",
      "📈 Analyse Autorank pour la métrique : ACCURACY\n"
     ]
    },
    {
     "data": {
      "image/png": "[encoded data removed]",
      "text/plain": [
       "<Figure size 600x225 with 1 Axes>"
      ]
     },
     "metadata": {},
     "output_type": "display_data"
    },
    {
     "name": "stdout",
     "output_type": "stream",
     "text": [
      "The statistical analysis was conducted for 8 populations with 50 paired samples.\n",
      "The family-wise significance level of the tests is alpha=0.050.\n",
      "We rejected the null hypothesis that the population is normal for the population XGBoost (p=0.000). Therefore, we assume that not all populations are normal.\n",
      "Because we have more than two populations and the populations and one of them is not normal, we use the non-parametric Friedman test as omnibus test to determine if there are any significant differences between the median values of the populations. We use the post-hoc Nemenyi test to infer which differences are significant. We report the median (MD), the median absolute deviation (MAD) and the mean rank (MR) among all populations over the samples. Differences between populations are significant, if the difference of the mean rank is greater than the critical distance CD=1.485 of the Nemenyi test.\n",
      "We reject the null hypothesis (p=0.000) of the Friedman test that there is no difference in the central tendency of the populations MLP (MD=0.500+-0.003, MAD=0.000, MR=7.900), Logistic Regression (MD=0.546+-0.017, MAD=0.015, MR=6.160), SVM (MD=0.545+-0.025, MAD=0.021, MR=5.820), XGBoost (MD=0.573+-0.019, MAD=0.015, MR=4.550), LightGBM (MD=0.570+-0.016, MAD=0.014, MR=4.210), Random Forest (MD=0.574+-0.017, MAD=0.014, MR=3.830), LogisticCEM (MD=0.610+-0.020, MAD=0.017, MR=1.990), and LogisticCEMD2 (MD=0.616+-0.019, MAD=0.015, MR=1.540). Therefore, we assume that there is a statistically significant difference between the median values of the populations.\n",
      "Based on the post-hoc Nemenyi test, we assume that there are no significant differences within the following groups: Logistic Regression and SVM; SVM and XGBoost; XGBoost, LightGBM, and Random Forest; LogisticCEM and LogisticCEMD2. All other differences are significant.\n",
      "None\n",
      "\n",
      "📈 Analyse Autorank pour la métrique : PRECISION\n"
     ]
    },
    {
     "data": {
      "image/png": "[encoded data removed]",
      "text/plain": [
       "<Figure size 600x225 with 1 Axes>"
      ]
     },
     "metadata": {},
     "output_type": "display_data"
    },
    {
     "name": "stdout",
     "output_type": "stream",
     "text": [
      "The statistical analysis was conducted for 8 populations with 50 paired samples.\n",
      "The family-wise significance level of the tests is alpha=0.050.\n",
      "We rejected the null hypothesis that the population is normal for the population SVM (p=0.000). Therefore, we assume that not all populations are normal.\n",
      "Because we have more than two populations and the populations and one of them is not normal, we use the non-parametric Friedman test as omnibus test to determine if there are any significant differences between the median values of the populations. We use the post-hoc Nemenyi test to infer which differences are significant. We report the median (MD), the median absolute deviation (MAD) and the mean rank (MR) among all populations over the samples. Differences between populations are significant, if the difference of the mean rank is greater than the critical distance CD=1.485 of the Nemenyi test.\n",
      "We reject the null hypothesis (p=0.000) of the Friedman test that there is no difference in the central tendency of the populations MLP (MD=0.461+-0.251, MAD=0.103, MR=7.640), SVM (MD=0.544+-0.022, MAD=0.019, MR=6.330), Logistic Regression (MD=0.561+-0.024, MAD=0.019, MR=5.120), XGBoost (MD=0.574+-0.017, MAD=0.016, MR=4.740), LightGBM (MD=0.572+-0.016, MAD=0.012, MR=4.340), Random Forest (MD=0.575+-0.017, MAD=0.012, MR=4.000), LogisticCEM (MD=0.601+-0.017, MAD=0.016, MR=2.110), and LogisticCEMD2 (MD=0.610+-0.018, MAD=0.015, MR=1.720). Therefore, we assume that there is a statistically significant difference between the median values of the populations.\n",
      "Based on the post-hoc Nemenyi test, we assume that there are no significant differences within the following groups: MLP and SVM; SVM and Logistic Regression; Logistic Regression, XGBoost, LightGBM, and Random Forest; LogisticCEM and LogisticCEMD2. All other differences are significant.\n",
      "None\n",
      "\n",
      "📈 Analyse Autorank pour la métrique : RECALL\n"
     ]
    },
    {
     "data": {
      "image/png": "[encoded data removed]",
      "text/plain": [
       "<Figure size 600x205 with 1 Axes>"
      ]
     },
     "metadata": {},
     "output_type": "display_data"
    },
    {
     "name": "stdout",
     "output_type": "stream",
     "text": [
      "The statistical analysis was conducted for 8 populations with 50 paired samples.\n",
      "The family-wise significance level of the tests is alpha=0.050.\n",
      "We rejected the null hypothesis that the population is normal for the population MLP (p=0.000). Therefore, we assume that not all populations are normal.\n",
      "Because we have more than two populations and the populations and one of them is not normal, we use the non-parametric Friedman test as omnibus test to determine if there are any significant differences between the median values of the populations. We use the post-hoc Nemenyi test to infer which differences are significant. We report the median (MD), the median absolute deviation (MAD) and the mean rank (MR) among all populations over the samples. Differences between populations are significant, if the difference of the mean rank is greater than the critical distance CD=1.485 of the Nemenyi test.\n",
      "We reject the null hypothesis (p=0.000) of the Friedman test that there is no difference in the central tendency of the populations Logistic Regression (MD=0.445+-0.025, MAD=0.020, MR=7.420), XGBoost (MD=0.570+-0.032, MAD=0.030, MR=5.110), MLP (MD=0.025+-0.500, MAD=0.025, MR=5.060), Random Forest (MD=0.560+-0.032, MAD=0.030, MR=5.020), LightGBM (MD=0.575+-0.027, MAD=0.022, MR=4.560), SVM (MD=0.583+-0.037, MAD=0.027, MR=4.260), LogisticCEM (MD=0.635+-0.035, MAD=0.030, MR=2.520), and LogisticCEMD2 (MD=0.640+-0.028, MAD=0.025, MR=2.050). Therefore, we assume that there is a statistically significant difference between the median values of the populations.\n",
      "Based on the post-hoc Nemenyi test, we assume that there are no significant differences within the following groups: XGBoost, MLP, Random Forest, LightGBM, and SVM; LogisticCEM and LogisticCEMD2. All other differences are significant.\n",
      "None\n",
      "\n",
      "📈 Analyse Autorank pour la métrique : F1\n"
     ]
    },
    {
     "data": {
      "image/png": "[encoded data removed]",
      "text/plain": [
       "<Figure size 600x205 with 1 Axes>"
      ]
     },
     "metadata": {},
     "output_type": "display_data"
    },
    {
     "name": "stdout",
     "output_type": "stream",
     "text": [
      "The statistical analysis was conducted for 8 populations with 50 paired samples.\n",
      "The family-wise significance level of the tests is alpha=0.050.\n",
      "We rejected the null hypothesis that the population is normal for the population LogisticCEM (p=0.000). Therefore, we assume that not all populations are normal.\n",
      "Because we have more than two populations and the populations and one of them is not normal, we use the non-parametric Friedman test as omnibus test to determine if there are any significant differences between the median values of the populations. We use the post-hoc Nemenyi test to infer which differences are significant. We report the median (MD), the median absolute deviation (MAD) and the mean rank (MR) among all populations over the samples. Differences between populations are significant, if the difference of the mean rank is greater than the critical distance CD=1.485 of the Nemenyi test.\n",
      "We reject the null hypothesis (p=0.000) of the Friedman test that there is no difference in the central tendency of the populations Logistic Regression (MD=0.493+-0.024, MAD=0.016, MR=7.420), MLP (MD=0.047+-0.333, MAD=0.047, MR=5.160), XGBoost (MD=0.568+-0.025, MAD=0.021, MR=5.040), SVM (MD=0.565+-0.024, MAD=0.021, MR=4.970), LightGBM (MD=0.571+-0.019, MAD=0.016, MR=4.700), Random Forest (MD=0.568+-0.022, MAD=0.020, MR=4.590), LogisticCEM (MD=0.617+-0.021, MAD=0.018, MR=2.280), and LogisticCEMD2 (MD=0.624+-0.020, MAD=0.016, MR=1.840). Therefore, we assume that there is a statistically significant difference between the median values of the populations.\n",
      "Based on the post-hoc Nemenyi test, we assume that there are no significant differences within the following groups: MLP, XGBoost, SVM, LightGBM, and Random Forest; LogisticCEM and LogisticCEMD2. All other differences are significant.\n",
      "None\n"
     ]
    }
   ],
   "source": [
    "import numpy as np\n",
    "import pandas as pd\n",
    "import os\n",
    "from sklearn.model_selection import train_test_split\n",
    "from sklearn.metrics import accuracy_score, precision_score, recall_score, f1_score, roc_auc_score\n",
    "from sklearn.svm import SVC\n",
    "from sklearn.ensemble import RandomForestClassifier\n",
    "from sklearn.neural_network import MLPClassifier\n",
    "from lightgbm import LGBMClassifier\n",
    "from xgboost import XGBClassifier\n",
    "from sklearn.linear_model import LogisticRegression\n",
    "from autorank import autorank, plot_stats, create_report\n",
    "import matplotlib.pyplot as plt\n",
    "\n",
    "# from your_module import LogisticCEMClassifier, LogisticCEMd2\n",
    "\n",
    "# Définir les modèles\n",
    "models = {\n",
    "    \"LogisticCEMD2\": LogisticCEMd2(learning_rate=0.01, max_iter=200, epsilon=1e-5, degree=2, C=1.0,\n",
    "                 use_interactions=True, interactions_only=False, random_state=42,\n",
    "                 early_stopping=True, n_jobs=-1, penalty='l1'),\n",
    "    \"Logistic Regression\": LogisticRegression(max_iter=500, solver='saga'),\n",
    "    \"MLP\": MLPClassifier(hidden_layer_sizes=(50, 50, 50), max_iter=500),\n",
    "    \"SVM\": SVC(probability=True, random_state=42),\n",
    "    \"Random Forest\": RandomForestClassifier(),\n",
    "    \"LightGBM\": LGBMClassifier(),\n",
    "    \"XGBoost\": XGBClassifier(use_label_encoder=False, eval_metric='logloss'),\n",
    "    \"LogisticCEM\": LogisticCEMClassifier() }\n",
    "\n",
    "# Initialiser les métriques\n",
    "results = {\n",
    "    'auc': {model: [] for model in models},\n",
    "    'accuracy': {model: [] for model in models},\n",
    "    'precision': {model: [] for model in models},\n",
    "    'recall': {model: [] for model in models},\n",
    "    'f1': {model: [] for model in models}\n",
    "}\n",
    "\n",
    "# Liste pour sauvegarder chaque résultat dans un seul dataframe\n",
    "full_training_log = []\n",
    "\n",
    "# Créer un dossier pour sauvegarder les datasets\n",
    "os.makedirs(\"train_runs\", exist_ok=True)\n",
    "\n",
    "# Boucle principale\n",
    "for i in range(50):\n",
    "    print(f\"\\n🔄 Itération {i+1} / 50\")\n",
    "\n",
    "    # Échantillonnage\n",
    "    X_rejected_sample = loans_rejected.sample(n=25000, random_state=42)\n",
    "\n",
    "    class_0 = loans_accepted[loans_accepted[\"Class\"] == 0]\n",
    "    class_1 = loans_accepted[loans_accepted[\"Class\"] == 1]\n",
    "\n",
    "    class_0_sample = class_0.sample(n=1000, random_state=42)\n",
    "    class_1_sample = class_1.sample(n=1000, random_state=42)\n",
    "\n",
    "    loans_accepted_balanced_1 = pd.concat([class_0_sample, class_1_sample]).sample(frac=1, random_state=42).reset_index(drop=True)\n",
    "\n",
    "    # Split\n",
    "    X_train, X_test, y_train, y_test = train_test_split(\n",
    "        loans_accepted_balanced_1.drop(columns=[\"Class\"]),\n",
    "        loans_accepted_balanced_1[\"Class\"],\n",
    "        test_size=0.2,\n",
    "        stratify=loans_accepted_balanced_1[\"Class\"]\n",
    "    )\n",
    "\n",
    "    # Ajouter rejetés\n",
    "    X_train_full = pd.concat([X_train, X_rejected_sample])\n",
    "    y_rejected = pd.Series([-1] * len(X_rejected_sample), index=X_rejected_sample.index)\n",
    "    y_train_full = pd.concat([y_train, y_rejected])\n",
    "\n",
    "    # Sauvegarde dans un fichier CSV\n",
    "    train_data_save = X_train_full.copy()\n",
    "    train_data_save[\"Class\"] = y_train_full\n",
    "    train_data_save.to_csv(f\"train_runs/train_data_run_{i+1}.csv\", index=False)\n",
    "\n",
    "    # Entraînement et évaluation\n",
    "    for name, model in models.items():\n",
    "        if name in [\"LogisticCEMD2\", \"LogisticCEM\",\"LogisticCEMD2plus\"]:\n",
    "            model.fit(X_train_full[y_train_full != -1], y_train_full[y_train_full != -1], X_train_full[y_train_full == -1])\n",
    "        else:\n",
    "            model.fit(X_train_full[y_train_full != -1], y_train_full[y_train_full != -1])\n",
    "\n",
    "        y_pred = model.predict(X_test)\n",
    "        y_proba = model.predict_proba(X_test)[:, 1]\n",
    "\n",
    "        # Sauvegarder les résultats\n",
    "        auc = roc_auc_score(y_test, y_proba)\n",
    "        accuracy = accuracy_score(y_test, y_pred)\n",
    "        precision = precision_score(y_test, y_pred)\n",
    "        recall = recall_score(y_test, y_pred)\n",
    "        f1 = f1_score(y_test, y_pred)\n",
    "\n",
    "        results['auc'][name].append(auc)\n",
    "        results['accuracy'][name].append(accuracy)\n",
    "        results['precision'][name].append(precision)\n",
    "        results['recall'][name].append(recall)\n",
    "        results['f1'][name].append(f1)\n",
    "\n",
    "        # Ajouter à full_training_log\n",
    "        full_training_log.append({\n",
    "            'Run': i + 1,\n",
    "            'Model': name,\n",
    "            'AUC': auc,\n",
    "            'Accuracy': accuracy,\n",
    "            'Precision': precision,\n",
    "            'Recall': recall,\n",
    "            'F1-Score': f1\n",
    "        })\n",
    "\n",
    "# Après toutes les itérations : sauvegarde du fichier CSV avec tous les runs\n",
    "full_training_log_df = pd.DataFrame(full_training_log)\n",
    "full_training_log_df.to_csv(\"train_runs/all_training_results.csv\", index=False)\n",
    "\n",
    "print(\"\\n✅ Tous les résultats détaillés ont été sauvegardés dans 'train_runs/all_training_results.csv'.\")\n",
    "\n",
    "# Résumé des résultats\n",
    "summary_table = pd.DataFrame({\n",
    "    'Model': list(models.keys()),\n",
    "    'AUC': [np.mean(results['auc'][model]) for model in models],\n",
    "    'Accuracy': [np.mean(results['accuracy'][model]) for model in models],\n",
    "    'Precision': [np.mean(results['precision'][model]) for model in models],\n",
    "    'Recall': [np.mean(results['recall'][model]) for model in models],\n",
    "    'F1-Score': [np.mean(results['f1'][model]) for model in models]\n",
    "}).round(4)\n",
    "\n",
    "print(\"\\n📋 Tableau des moyennes des métriques sur 50 runs :\\n\")\n",
    "print(summary_table)\n",
    "\n",
    "# Analyse statistique avec autorank\n",
    "for metric in ['auc', 'accuracy', 'precision', 'recall', 'f1']:\n",
    "    print(f\"\\n📈 Analyse Autorank pour la métrique : {metric.upper()}\")\n",
    "    metric_df = pd.DataFrame(results[metric])\n",
    "    rank_result = autorank(metric_df, alpha=0.05, verbose=False)\n",
    "    plot_stats(rank_result)\n",
    "    plt.title(f\"Critical Difference Diagram - {metric.upper()}\")\n",
    "    plt.tight_layout()\n",
    "    plt.show()\n",
    "    print(create_report(rank_result))\n"
   ]
  },
  {
   "cell_type": "code",
   "execution_count": null,
   "metadata": {},
   "outputs": [
    {
     "ename": "ModuleNotFoundError",
     "evalue": "No module named 'measfgjjsdrgi'",
     "output_type": "error",
     "traceback": [
      "\u001b[31m---------------------------------------------------------------------------\u001b[39m",
      "\u001b[31mModuleNotFoundError\u001b[39m                       Traceback (most recent call last)",
      "\u001b[36mCell\u001b[39m\u001b[36m \u001b[39m\u001b[32mIn[53]\u001b[39m\u001b[32m, line 1\u001b[39m\n\u001b[32m----> \u001b[39m\u001b[32m1\u001b[39m \u001b[38;5;28;01mimport\u001b[39;00m\u001b[38;5;250m \u001b[39m\u001b[34;01mmeasfgjjsdrgi\u001b[39;00m\u001b[38;5;250m \u001b[39m\u001b[38;5;28;01mas\u001b[39;00m\u001b[38;5;250m \u001b[39m\u001b[34;01mfwkgij\u001b[39;00m\n",
      "\u001b[31mModuleNotFoundError\u001b[39m: No module named 'measfgjjsdrgi'"
     ]
    }
   ],
   "source": [
    "import measfgjjsdrgi as fwkgij"
   ]
  },
  {
   "cell_type": "code",
   "execution_count": null,
   "metadata": {},
   "outputs": [
    {
     "name": "stderr",
     "output_type": "stream",
     "text": [
      " 51%|█████     | 102/200 [00:09<00:08, 11.31it/s]\n"
     ]
    },
    {
     "name": "stdout",
     "output_type": "stream",
     "text": [
      "Early stopping at iteration 103: No significant improvement for 3 iterations\n"
     ]
    },
    {
     "name": "stderr",
     "output_type": "stream",
     "text": [
      " 24%|██▍       | 48/200 [00:05<00:17,  8.91it/s]\n"
     ]
    },
    {
     "name": "stdout",
     "output_type": "stream",
     "text": [
      "Early stopping at iteration 49: No significant improvement for 3 iterations\n"
     ]
    },
    {
     "name": "stderr",
     "output_type": "stream",
     "text": [
      " 11%|█         | 22/200 [00:04<00:39,  4.56it/s]\n"
     ]
    },
    {
     "name": "stdout",
     "output_type": "stream",
     "text": [
      "Early stopping at iteration 23: No significant improvement for 3 iterations\n"
     ]
    },
    {
     "name": "stderr",
     "output_type": "stream",
     "text": [
      " 11%|█         | 22/200 [00:07<01:00,  2.95it/s]\n"
     ]
    },
    {
     "name": "stdout",
     "output_type": "stream",
     "text": [
      "Early stopping at iteration 23: No significant improvement for 3 iterations\n"
     ]
    },
    {
     "name": "stderr",
     "output_type": "stream",
     "text": [
      " 11%|█         | 22/200 [00:10<01:24,  2.10it/s]\n"
     ]
    },
    {
     "name": "stdout",
     "output_type": "stream",
     "text": [
      "Early stopping at iteration 23: No significant improvement for 3 iterations\n"
     ]
    },
    {
     "name": "stderr",
     "output_type": "stream",
     "text": [
      " 21%|██        | 42/200 [00:30<01:55,  1.37it/s]\n"
     ]
    },
    {
     "name": "stdout",
     "output_type": "stream",
     "text": [
      "Early stopping at iteration 43: No significant improvement for 3 iterations\n"
     ]
    },
    {
     "name": "stderr",
     "output_type": "stream",
     "text": [
      " 12%|█▏        | 23/200 [00:17<02:11,  1.35it/s]"
     ]
    },
    {
     "name": "stdout",
     "output_type": "stream",
     "text": [
      "Early stopping at iteration 24: No significant improvement for 3 iterations\n"
     ]
    },
    {
     "name": "stderr",
     "output_type": "stream",
     "text": [
      "\n"
     ]
    },
    {
     "data": {
      "image/png": "[encoded data removed]",
      "text/plain": [
       "<Figure size 1000x600 with 1 Axes>"
      ]
     },
     "metadata": {},
     "output_type": "display_data"
    }
   ],
   "source": [
    "import numpy as np\n",
    "import matplotlib.pyplot as plt\n",
    "from sklearn.metrics import roc_curve, auc\n",
    "from sklearn.model_selection import train_test_split\n",
    "import pandas as pd\n",
    "\n",
    "# Features and labels\n",
    "X_accepted = loans_accepted_balanced.drop(columns=['Class']).values\n",
    "y_accepted = loans_accepted_balanced['Class'].values\n",
    "\n",
    "X_rejected = loans_rejected\n",
    "\n",
    "# Experiment 1: NA = 2000, NR varies from 1000 to 25000\n",
    "NR_values_1 = [1000,2000,5000,10000,15000,20000,25000]\n",
    "plt.figure(figsize=(10, 6))\n",
    "X_accepted_sample = X_accepted[:2000]\n",
    "y_accepted_sample = y_accepted[:2000]\n",
    "X_train, X_test, y_train, y_test = train_test_split(X_accepted_sample, y_accepted_sample, test_size=0.2, random_state=42)\n",
    "\n",
    "# Define a list to store handles and labels for the legend\n",
    "handles = []\n",
    "labels = []\n",
    "\n",
    "for NR in NR_values_1:\n",
    "    X_rejected_sample = X_rejected[:NR]\n",
    "    model = LogisticCEMd2(learning_rate=0.01, max_iter=200, epsilon=1e-5, degree=2, C=1.0, \n",
    "                           use_interactions=True, interactions_only=False, early_stopping=True, n_jobs=-1)\n",
    "    model.fit(X_train, y_train, X_rejected_sample)\n",
    "    y_scores = model.predict_proba(X_test)[:, 1]\n",
    "    fpr, tpr, _ = roc_curve(y_test, y_scores)\n",
    "    roc_auc = auc(fpr, tpr)\n",
    "    \n",
    "    # Plot each curve\n",
    "    line, = plt.plot(fpr, tpr, label=f\"NR={NR}, AUC={roc_auc:.3f}\")\n",
    "    \n",
    "    # Add the current line to the handles and labels\n",
    "    handles.append(line)\n",
    "    labels.append(f\"NR={NR}, AUC={roc_auc:.3f}\")\n",
    "\n",
    "# Add diagonal line (random classifier)\n",
    "plt.plot([0, 1], [0, 1], linestyle=\"--\", color=\"gray\")\n",
    "\n",
    "# Label the axes and title\n",
    "plt.xlabel(\"False Positive Rate\")\n",
    "plt.ylabel(\"True Positive Rate\")\n",
    "plt.title(\"ROC Curve - Experiment 1 (NA=2000)\")\n",
    "\n",
    "# Add the legend\n",
    "plt.legend(handles=handles, labels=labels)\n",
    "\n",
    "# Show the plot\n",
    "plt.show()\n"
   ]
  },
  {
   "cell_type": "code",
   "execution_count": null,
   "metadata": {},
   "outputs": [],
   "source": [
    "import numpy as np\n",
    "from sklearn.base import BaseEstimator, ClassifierMixin\n",
    "from sklearn.linear_model import LogisticRegression\n",
    "from sklearn.preprocessing import PolynomialFeatures, StandardScaler\n",
    "from tqdm import tqdm\n",
    "\n",
    "class LogisticCEMd2(BaseEstimator, ClassifierMixin):\n",
    "    def __init__(self, learning_rate=0.01, max_iter=200, epsilon=1e-5, degree=2, C=1.0, \n",
    "                 use_interactions=True, interactions_only=False, random_state=42,\n",
    "                  early_stopping=True, n_jobs=-1):\n",
    "        self.learning_rate = learning_rate\n",
    "        self.max_iter = max_iter\n",
    "        self.epsilon = epsilon  # Tightened convergence threshold\n",
    "        self.degree = degree    # Increased polynomial degree\n",
    "        self.C = C              # Regularization strength\n",
    "        self.use_interactions = use_interactions  \n",
    "        self.interactions_only = interactions_only\n",
    "        self.random_state = random_state\n",
    "        self.early_stopping = early_stopping  # Early stopping option\n",
    "        self.n_jobs = n_jobs    # Parallel processing\n",
    "        self.poly = None        # Polynomial transformer\n",
    "        self.scaler = None      # Feature scaler\n",
    "        self.G_j = None         # Logistic Regression model\n",
    "        self.best_likelihood = -np.inf\n",
    "        self.no_improvement_count = 0\n",
    "        \n",
    "    def _apply_polynomial_features(self, X):\n",
    "        \"\"\"Apply polynomial feature transformation with scaling.\"\"\"\n",
    "        if self.poly is None:\n",
    "            self.poly = PolynomialFeatures(degree=self.degree, \n",
    "                                           include_bias=False, \n",
    "                                           interaction_only=self.interactions_only)\n",
    "            self.poly.fit(X)\n",
    "            \n",
    "        X_poly = self.poly.transform(X)\n",
    "        \n",
    "        if self.scaler is None:\n",
    "            self.scaler = StandardScaler()\n",
    "            self.scaler.fit(X_poly)\n",
    "            \n",
    "        return self.scaler.transform(X_poly)\n",
    "\n",
    "    def fit(self, X_l, y_l, X_u, sample_weight_l=None, validation_data=None, patience=1):\n",
    "        \"\"\"Train the model using labeled and unlabeled data with improved methodology.\"\"\"\n",
    "        # Transform features\n",
    "        X_l_poly = self._apply_polynomial_features(X_l)\n",
    "        X_u_poly = self._apply_polynomial_features(X_u)\n",
    "        \n",
    "        # Setup validation if provided\n",
    "        if validation_data:\n",
    "            X_val, y_val = validation_data\n",
    "            X_val_poly = self._apply_polynomial_features(X_val)\n",
    "        \n",
    "        # Initial logistic regression on labeled data\n",
    "        self.G_j = LogisticRegression(\n",
    "            C=self.C, \n",
    "            max_iter=3000, \n",
    "            solver='liblinear',  # Changed to saga for better handling of large feature sets\n",
    "            random_state=self.random_state,\n",
    "            n_jobs=self.n_jobs\n",
    "        )\n",
    "        self.G_j.fit(X_l_poly, y_l,sample_weight=sample_weight_l)\n",
    "        \n",
    "        # EM iterations\n",
    "        prev_log_likelihood = -np.inf\n",
    "        no_improvement_counter = 0\n",
    "        \n",
    "        for j in tqdm(range(self.max_iter)):\n",
    "            # E-Step: Estimate posterior probabilities\n",
    "            p1_j, p2_j = self._compute_posterior(X_u_poly)\n",
    "            \n",
    "            # C-Step: Classify unlabeled data with confidence weighting\n",
    "            z_ki, weights_u = self._classification_step(p1_j, p2_j)\n",
    "            \n",
    "            # M-Step: Maximize log-likelihood with weighted samples using gradient descent\n",
    "            self._maximize_log_likelihood(X_l_poly, y_l, X_u_poly, z_ki, sample_weight_l, weights_u)\n",
    "            \n",
    "            # Compute log-likelihood for stopping condition\n",
    "            current_log_likelihood = self._log_likelihood(X_l_poly, y_l, X_u_poly, z_ki)\n",
    "            \n",
    "            # Early stopping logic\n",
    "            improvement = current_log_likelihood - prev_log_likelihood\n",
    "            \n",
    "            if improvement < self.epsilon:\n",
    "                no_improvement_counter += 1\n",
    "                if self.early_stopping and no_improvement_counter >= patience:\n",
    "                    print(f\"Early stopping at iteration {j+1}: No significant improvement for {patience} iterations\")\n",
    "                    break\n",
    "            else:\n",
    "                no_improvement_counter = 0\n",
    "                \n",
    "            prev_log_likelihood = current_log_likelihood\n",
    "            \n",
    "        return self\n",
    "\n",
    "    def predict(self, X_test):\n",
    "        \"\"\"Predict labels for test data.\"\"\"\n",
    "        X_test_poly = self._apply_polynomial_features(X_test)\n",
    "        return self.G_j.predict(X_test_poly)\n",
    "\n",
    "    def predict_proba(self, X_test):\n",
    "        \"\"\"Predict probabilities for test data.\"\"\"\n",
    "        X_test_poly = self._apply_polynomial_features(X_test)\n",
    "        return self.G_j.predict_proba(X_test_poly)\n",
    "\n",
    "    def _compute_posterior(self, X_u):\n",
    "        \"\"\"Compute posterior probabilities.\"\"\"\n",
    "        proba = self.G_j.predict_proba(X_u)\n",
    "        return proba[:, 1], proba[:, 0]\n",
    "\n",
    "    def _classification_step(self, p1_j, p2_j):\n",
    "        \"\"\"Assign labels to unlabeled data with confidence weights.\"\"\"\n",
    "        # Assign class based on higher probability\n",
    "        z_ki = (p1_j > p2_j).astype(int)\n",
    "        \n",
    "        # Confidence weights based on probability difference\n",
    "        # Higher confidence = larger gap between probabilities\n",
    "        weights = np.abs(p1_j - p2_j)\n",
    "        \n",
    "        return z_ki, weights\n",
    "\n",
    "    def _maximize_log_likelihood(self, X_l, y_l, X_u, z_ki, sample_weight_l=None, weights_u=None):\n",
    "        \"\"\"Re-train logistic regression with weighted pseudo-labels using gradient descent.\"\"\"\n",
    "        X_combined = np.vstack([X_l, X_u])\n",
    "        y_combined = np.hstack([y_l, z_ki])\n",
    "        \n",
    "        # Combine sample weights\n",
    "        if sample_weight_l is None:\n",
    "            sample_weight_l = np.ones(len(y_l))\n",
    "            \n",
    "        combined_weights = np.hstack([sample_weight_l, weights_u])\n",
    "        \n",
    "        # Compute gradients (gradient descent step)\n",
    "        gradient, intercept_gradient = self._compute_gradients(X_combined, y_combined, self.G_j.coef_, self.G_j.intercept_)\n",
    "        \n",
    "        # Update coefficients using gradient descent\n",
    "        self.G_j.coef_ -= self.learning_rate * gradient\n",
    "        self.G_j.intercept_ -= self.learning_rate * intercept_gradient\n",
    "        \n",
    "        # Fit the model after gradient update (can also be done if necessary)\n",
    "        self.G_j.fit(X_combined, y_combined, sample_weight=combined_weights)\n",
    "\n",
    "    def _log_likelihood(self, X_l, y_l, X_u, z_ki):\n",
    "        \"\"\"Compute log-likelihood with regularization penalty.\"\"\"\n",
    "        l_proba = self.G_j.predict_proba(X_l)\n",
    "        u_proba = self.G_j.predict_proba(X_u)\n",
    "        \n",
    "        # Log likelihood for labeled and unlabeled data\n",
    "        ll_labeled = sum(np.log(np.maximum(l_proba[i, y], 1e-10)) for i, y in enumerate(y_l))\n",
    "        ll_unlabeled = sum(np.log(np.maximum(u_proba[i, z], 1e-10)) for i, z in enumerate(z_ki))\n",
    "        \n",
    "        # Add L2 regularization penalty\n",
    "        coef = self.G_j.coef_.ravel()\n",
    "        reg_penalty = -0.5 * (1/self.C) * np.sum(coef**2)\n",
    "        \n",
    "        return ll_labeled + ll_unlabeled + reg_penalty\n",
    "\n",
    "    def _compute_gradients(self, X, y, coef, intercept):\n",
    "        \"\"\"Compute gradients for logistic regression using the current model parameters.\"\"\"\n",
    "        # Compute the probabilities of the current model\n",
    "        proba = self.G_j.predict_proba(X)\n",
    "        \n",
    "        # Compute the error term (difference between predicted probabilities and actual labels)\n",
    "        error = proba[:, 1] - y\n",
    "        \n",
    "        # Compute the gradient for coefficients\n",
    "        gradient = np.dot(X.T, error) / X.shape[0]\n",
    "        \n",
    "        # Compute the gradient for the intercept\n",
    "        intercept_gradient = np.sum(error) / X.shape[0]\n",
    "        \n",
    "        return gradient, intercept_gradient\n"
   ]
  },
  {
   "cell_type": "code",
   "execution_count": null,
   "metadata": {},
   "outputs": [
    {
     "data": {
      "text/plain": [
       "(2038712, 10)"
      ]
     },
     "execution_count": 54,
     "metadata": {},
     "output_type": "execute_result"
    }
   ],
   "source": [
    "loans_accepted_balanced.shape"
   ]
  },
  {
   "cell_type": "code",
   "execution_count": null,
   "metadata": {},
   "outputs": [
    {
     "name": "stderr",
     "output_type": "stream",
     "text": [
      "  0%|          | 1/200 [04:09<13:48:44, 249.87s/it]"
     ]
    },
    {
     "name": "stdout",
     "output_type": "stream",
     "text": [
      "Early stopping at iteration 2: No significant improvement for 1 iterations\n"
     ]
    },
    {
     "name": "stderr",
     "output_type": "stream",
     "text": [
      "\n",
      "  0%|          | 1/200 [05:03<16:47:56, 303.90s/it]"
     ]
    },
    {
     "name": "stdout",
     "output_type": "stream",
     "text": [
      "Early stopping at iteration 2: No significant improvement for 1 iterations\n"
     ]
    },
    {
     "name": "stderr",
     "output_type": "stream",
     "text": [
      "\n",
      "  8%|▊         | 15/200 [53:17<10:57:17, 213.17s/it]"
     ]
    },
    {
     "name": "stdout",
     "output_type": "stream",
     "text": [
      "Early stopping at iteration 16: No significant improvement for 1 iterations\n"
     ]
    },
    {
     "name": "stderr",
     "output_type": "stream",
     "text": [
      "\n",
      "  9%|▉         | 18/200 [1:30:28<15:14:44, 301.57s/it]"
     ]
    },
    {
     "name": "stdout",
     "output_type": "stream",
     "text": [
      "Early stopping at iteration 19: No significant improvement for 1 iterations\n"
     ]
    },
    {
     "name": "stderr",
     "output_type": "stream",
     "text": [
      "\n",
      " 24%|██▍       | 48/200 [2:43:21<8:37:17, 204.20s/it]"
     ]
    },
    {
     "name": "stdout",
     "output_type": "stream",
     "text": [
      "Early stopping at iteration 49: No significant improvement for 1 iterations\n"
     ]
    },
    {
     "name": "stderr",
     "output_type": "stream",
     "text": [
      "\n"
     ]
    },
    {
     "data": {
      "image/png": "[encoded data removed]",
      "text/plain": [
       "<Figure size 1000x600 with 1 Axes>"
      ]
     },
     "metadata": {},
     "output_type": "display_data"
    }
   ],
   "source": [
    "import numpy as np\n",
    "import matplotlib.pyplot as plt\n",
    "from sklearn.metrics import roc_curve, auc\n",
    "from sklearn.model_selection import train_test_split\n",
    "import pandas as pd\n",
    "\n",
    "# Features and labels\n",
    "X_accepted = loans_accepted_balanced.drop(columns=['Class']).values\n",
    "y_accepted = loans_accepted_balanced['Class'].values\n",
    "\n",
    "X_rejected = loans_rejected\n",
    "\n",
    "# Experiment 2: NA = 1,266,782, NR varies from 1000 to 2,064,314\n",
    "NR_values_2 = [1000,10000,100000,1000000,2064314]\n",
    "plt.figure(figsize=(10, 6))\n",
    "X_accepted_sample = X_accepted[:2038712]\n",
    "y_accepted_sample = y_accepted[:2038712]\n",
    "X_train, X_test, y_train, y_test = train_test_split(X_accepted_sample, y_accepted_sample, test_size=0.3, random_state=42)\n",
    "\n",
    "# Define a list to store handles and labels for the legend\n",
    "handles = []\n",
    "labels = []\n",
    "\n",
    "for NR in NR_values_2:\n",
    "    X_rejected_sample = X_rejected[:NR]\n",
    "    model = LogisticCEMd2(learning_rate=0.01, max_iter=200, epsilon=1e-5, degree=2, C=1.0, \n",
    "                           use_interactions=True, interactions_only=False, early_stopping=True, n_jobs=-1)\n",
    "    model.fit(X_train, y_train, X_rejected_sample)\n",
    "    \n",
    "    y_scores = model.predict_proba(X_test)[:, 1]\n",
    "    fpr, tpr, _ = roc_curve(y_test, y_scores)\n",
    "    roc_auc = auc(fpr, tpr)\n",
    "    \n",
    "    # Plot each curve\n",
    "    line, = plt.plot(fpr, tpr, label=f\"NR={NR}, AUC={roc_auc:.3f}\")\n",
    "    \n",
    "    # Add the current line to the handles and labels\n",
    "    handles.append(line)\n",
    "    labels.append(f\"NR={NR}, AUC={roc_auc:.3f}\")\n",
    "\n",
    "# Add diagonal line (random classifier)\n",
    "plt.plot([0, 1], [0, 1], linestyle=\"--\", color=\"gray\")\n",
    "\n",
    "# Label the axes and title\n",
    "plt.xlabel(\"False Positive Rate\")\n",
    "plt.ylabel(\"True Positive Rate\")\n",
    "plt.title(\"ROC Curve - Experiment 2 (NA=2038712)\")\n",
    "\n",
    "# Add the legend\n",
    "plt.legend(handles=handles, labels=labels)\n",
    "\n",
    "# Show the plot\n",
    "plt.show()\n"
   ]
  }
 ],
 "metadata": {
  "kernelspec": {
   "display_name": "Python 3",
   "language": "python",
   "name": "python3"
  },
  "language_info": {
   "codemirror_mode": {
    "name": "ipython",
    "version": 3
   },
   "file_extension": ".py",
   "mimetype": "text/x-python",
   "name": "python",
   "nbconvert_exporter": "python",
   "pygments_lexer": "ipython3",
   "version": "3.11.0"
  }
 },
 "nbformat": 4,
 "nbformat_minor": 2
}
